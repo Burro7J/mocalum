{
 "cells": [
  {
   "cell_type": "markdown",
   "metadata": {},
   "source": [
    "# Unconstrained turbulence"
   ]
  },
  {
   "cell_type": "markdown",
   "metadata": {},
   "source": [
    "The basic function for all turbulence generation is the `gen_turb` function, which can be used both with and without constraining time series. In this notebook, we will show it being used without any constraining time series. We will generate a turbulence box that follows IEC 61400-1 Ed. 3 specifications.\n",
    "\n",
    "This notebook demonstrates the following:   \n",
    "\n",
    "* [Defining the simulation points manually](#Defining-the-simulation-points-manually)  \n",
    "\n",
    "* [Easily defining a y-z grid for the simulation points](#Easily-defining-a-y-z-simulation-grid)   \n",
    "\n",
    "* [Using PyContTurb's built-in functions for the wind profile, turbulence standard deviation, and power spectra](#Using-built-in-profile-functions)  \n",
    "\n",
    "To specify custom functions for the mean wind speed, turbulence standard deviation, or power spectrum as a function of $y$ and $z$, please see the related example in the sidebar."
   ]
  },
  {
   "cell_type": "markdown",
   "metadata": {},
   "source": [
    "## Preliminaries: importing functions\n",
    "\n",
    "We begin by importing the necessary functions so we can use them."
   ]
  },
  {
   "cell_type": "code",
   "execution_count": null,
   "metadata": {},
   "outputs": [],
   "source": [
    "%matplotlib inline\n",
    "\n",
    "import matplotlib.pyplot as plt  # matplotlib for some plotting\n",
    "import numpy as np  # numeric python functions\n",
    "import pandas as pd  # need this to load our data from the csv files\n",
    "\n",
    "from pyconturb import gen_turb, gen_spat_grid  # generate turbulence, useful helper\n",
    "from pyconturb.sig_models import iec_sig  # IEC 61400-1 turbulence std dev\n",
    "from pyconturb.spectral_models import kaimal_spectrum  # Kaimal spectrum\n",
    "from pyconturb.wind_profiles import constant_profile, power_profile  # wind-speed profile functions\n",
    "\n",
    "from _nb_utils import plot_slice"
   ]
  },
  {
   "cell_type": "markdown",
   "metadata": {},
   "source": [
    "## Defining the simulation points manually\n",
    "\n",
    "The only required input to the `gen_turb` function is a Pandas dataframe that specifies the xyz locations of the simulation points to be simulated and the turbulence components to be simulated at each point. This dataframe is referred to as the *spatial dataframe* (`spat_df`), and it must have the following rows:\n",
    "* `k` (turbulence component, 0=$u$, 1=$v$ and 2=$w$),\n",
    "* `x` (along-wind location of the simulation point; positive is downwind),\n",
    "* `y` (lateral location of the simulation point; positive is to the left looking downwind) and\n",
    "* `z` (vertical location of the simulation point; positive is upwards).\n",
    "\n",
    "The columns may be named for the user's convenience, but PyConTurb does not require it.\n",
    "\n",
    "Note that the x-value will often be 0 for standard simulations in a y-z plane that is parallel to the incoming wind.\n",
    "\n",
    "As an example, consider the following spatial dataframe:"
   ]
  },
  {
   "cell_type": "code",
   "execution_count": null,
   "metadata": {},
   "outputs": [],
   "source": [
    "spat_df = pd.DataFrame([[0, 1, 2],\n",
    "                        [0, 0, 0],\n",
    "                        [0, 0, -10],\n",
    "                        [15, 15, 30]], index=['k', 'x', 'y', 'z'],\n",
    "                      columns=['pointA_u', 'pointA_v', 'pointB_w'])  # column names are optional\n",
    "spat_df  # let's look at it"
   ]
  },
  {
   "cell_type": "markdown",
   "metadata": {},
   "source": [
    "This spatial dataframe will tell PyConTurb to simulate the $u$ and $v$ components at Point A, located at $(0, 0, 15)$, and the  $w$ component at Point B, located at $(0, -10, 30)$. We can run a quick simulation to see the result."
   ]
  },
  {
   "cell_type": "code",
   "execution_count": null,
   "metadata": {},
   "outputs": [],
   "source": [
    "turb_df = gen_turb(spat_df, T=60, dt=0.5, u_ref=10)\n",
    "turb_df.head()  # show just the first few row"
   ]
  },
  {
   "cell_type": "markdown",
   "metadata": {},
   "source": [
    "The output is another Pandas dataframe, this one referred to as the *turbulence dataframe*. Each column of the dataframe corresponds to a different column in `spat_df`, and the index of the dataframe (i.e., the rows) are the time steps. As expected, the generated `turb_df` has the $u$ and $v$ components at Point A (renamed to 0) and the $w$ component at Point B (renamed to 1).\n",
    "\n",
    "**Notes**:  \n",
    "* Due to the underlying Fourier transformations used in the simulation method, the turbulence box is assumed to wrap after $T$ seconds. In other words, $u(t) = u(t+T)$.  \n",
    "* PyConTurb renames columns using information in `spat_df`. A column name `u_p0` indicates the longitudinal component at Point 0. PyConTurb numbers the points by unique xyz locations, going from left to right. In other words, the leftmost unique xyz coordinate is Point 0, the next unique xyz location is Point 1, etc.\n",
    "\n",
    "Here is a quick demo of some visualization/filtering abilities."
   ]
  },
  {
   "cell_type": "code",
   "execution_count": null,
   "metadata": {},
   "outputs": [],
   "source": [
    "turb_df.u_p0.plot();  # plot the u_p0 channel"
   ]
  },
  {
   "cell_type": "code",
   "execution_count": null,
   "metadata": {},
   "outputs": [],
   "source": [
    "turb_df[(turb_df.index > 10) & ((turb_df.index < 30))].w_p1.max()  # max of w_p0 between 10 and 30 seconds"
   ]
  },
  {
   "cell_type": "code",
   "execution_count": null,
   "metadata": {},
   "outputs": [],
   "source": [
    "turb_df.describe()  # show statistics for the turbulence dataframe"
   ]
  },
  {
   "cell_type": "code",
   "execution_count": null,
   "metadata": {},
   "outputs": [],
   "source": [
    "turb_df.std()/turb_df.mean().u_p0  # turbulence intensities"
   ]
  },
  {
   "cell_type": "markdown",
   "metadata": {},
   "source": [
    "## Easily defining a y-z simulation grid\n",
    "\n",
    "In most of our applications, our turbulence box is a regular, rectangular grid, and we want to simulate the same component(s) at each point. In this case, the built-in function `gen_spat_grid` is useful for generating a spatial grid. The function takes a 1D array of the lateral points you want to simulate and a 1D array of the vertical points you want to simulate. By default, the point numbering will place Point 0 at the most-negative $y$ and $z$ locations. The numbering will then proceed vertically before proceeding laterally.\n",
    "\n",
    "Here are a few examples of using `gen_spat_grid`."
   ]
  },
  {
   "cell_type": "code",
   "execution_count": null,
   "metadata": {},
   "outputs": [],
   "source": [
    "y = [-10, 10]  # two lateral locations\n",
    "z = [90]  # one vertical location\n",
    "gen_spat_grid(y, z, comps=[0, 2])  # only want longitudinal + vertical components"
   ]
  },
  {
   "cell_type": "code",
   "execution_count": null,
   "metadata": {},
   "outputs": [],
   "source": [
    "y = np.linspace(-50, 50, 11)  # 11 lateral points from -50 to 50 (center @ 0)\n",
    "z = np.linspace(40, 160, 13)  # 13 vertical points from 40 to 160 (center @ 100)\n",
    "spat_df = gen_spat_grid(y, z)  # if `comps` not passed in, assumes all 3 components are wanted\n",
    "spat_df.head()  # look at the first few rows"
   ]
  },
  {
   "cell_type": "markdown",
   "metadata": {},
   "source": [
    "This spatial dataframe can easily be passed into `gen_turb` to simulate unconstrained turbulence at the specified grid."
   ]
  },
  {
   "cell_type": "code",
   "execution_count": null,
   "metadata": {},
   "outputs": [],
   "source": [
    "turb_df = gen_turb(spat_df, T=10, dt=2, u_ref=10)"
   ]
  },
  {
   "cell_type": "markdown",
   "metadata": {},
   "source": [
    "We can use the matplotlib function `imshow` to visualize slices of the turbulence at certain times."
   ]
  },
  {
   "cell_type": "code",
   "execution_count": null,
   "metadata": {},
   "outputs": [],
   "source": [
    "t = 0\n",
    "ax = plot_slice(spat_df, turb_df, val=t)\n",
    "ax.set_title(f'Turbulence slice at t = {t}');"
   ]
  },
  {
   "cell_type": "markdown",
   "metadata": {},
   "source": [
    "## Using built-in profile functions\n",
    "\n",
    "Until this point, we have used the default parameters in `gen_turb`, which has hidden from view many things. Something that many users may find useful (or want to change), is how the values for the mean wind speed, turbulence standard deviation, and power spectra change with $y$- and $z$-coordinates. These functions are collectively called the *profile functions*.\n",
    "\n",
    "We start by using Jupyter's built-in help function to get the list of optional arguments for `gen_turb`. (Note that this list does not include keyword arguments for any subfunctions.)"
   ]
  },
  {
   "cell_type": "code",
   "execution_count": null,
   "metadata": {},
   "outputs": [],
   "source": [
    "?gen_turb"
   ]
  },
  {
   "cell_type": "markdown",
   "metadata": {},
   "source": [
    "The profile functions are `wsp_func`, `sig_func` and `spec_func`. If no values are passed in for these functions (which is what we had in the earlier examples), they will by default take the IEC 61400-1 values for an unconstrainted simulation. More details on the profile functions can be found in their respective documentation sections.\n",
    "\n",
    "Below are examples of how you manually specify the profile functions if you don't want the IEC defaults."
   ]
  },
  {
   "cell_type": "code",
   "execution_count": null,
   "metadata": {},
   "outputs": [],
   "source": [
    "y, z = [-10, 0, 10], [70, 80, 90]  # first define our turbulence grid locations\n",
    "spat_df = gen_spat_grid(y, z)"
   ]
  },
  {
   "cell_type": "markdown",
   "metadata": {},
   "source": [
    "**Wind speed profile**\n",
    "\n",
    "The values for the profiles functions can be placed in a single keyword-argument dictionary, like in `kwargs` below. The necessary arguments for each profile function are listed in the function's documentation function."
   ]
  },
  {
   "cell_type": "code",
   "execution_count": null,
   "metadata": {},
   "outputs": [],
   "source": [
    "# specify mean wind speed profile function (constant_profile or power_profile)\n",
    "wsp_func = constant_profile\n",
    "# define simulation arguments\n",
    "kwargs = {'u_ref': 6, 'z_ref': 80, 'T': 60, 'dt': 1}\n",
    "# simulate turbulence\n",
    "turb_df = gen_turb(spat_df, wsp_func=wsp_func, **kwargs)\n",
    "# plot the spatial variation of the mean wind speed\n",
    "ax = plot_slice(spat_df, turb_df, val='mean')\n",
    "ax.set_title(f'Mean of turbulence box');"
   ]
  },
  {
   "cell_type": "markdown",
   "metadata": {},
   "source": [
    "**Turbulence standard deviation profile**\n",
    "\n",
    "The main keyword argument for the IEC standard deviation is the turbulence class, `turb_class`.\n",
    "\n",
    "Note that the standard deviation will not match the theory at all spatial points due to the spatial correlation procedure inherent withing the KSEC method."
   ]
  },
  {
   "cell_type": "code",
   "execution_count": null,
   "metadata": {},
   "outputs": [],
   "source": [
    "# specify standard deviation profile function\n",
    "sig_func = iec_sig\n",
    "# define simulation arguments\n",
    "kwargs = {'turb_class': 'C', 'T': 60, 'dt': 1, 'u_ref': 10}\n",
    "# simulate turbulence\n",
    "turb_df = gen_turb(spat_df, sig_func=sig_func, **kwargs)\n",
    "# plot the spatial variation of the mean wind speed\n",
    "ax = plot_slice(spat_df, turb_df, val='std')\n",
    "ax.set_title(f'Std. dev. of turbulence box');"
   ]
  },
  {
   "cell_type": "markdown",
   "metadata": {},
   "source": [
    "**Power spectrum**\n",
    "\n",
    "Specify the power spectrum profile using the `spec_func` input argument."
   ]
  },
  {
   "cell_type": "code",
   "execution_count": null,
   "metadata": {},
   "outputs": [],
   "source": [
    "# specify power spectrum profile function\n",
    "spec_func = kaimal_spectrum\n",
    "# define simulation arguments\n",
    "kwargs = {'u_ref': 12, 'T': 60, 'dt': 1, 'u_ref': 10}\n",
    "# simulate turbulence\n",
    "turb_df = gen_turb(spat_df, spec_func=spec_func, **kwargs)  # no plot, just demo"
   ]
  },
  {
   "cell_type": "markdown",
   "metadata": {},
   "source": [
    "## Specifying custom profile functions\n",
    "\n",
    "To specify your own functions for the mean wind speed, turbulence standard deviation, or power spectrum as a function of $y$ and $z$, please see the related example in the sidebar."
   ]
  }
 ],
 "metadata": {
  "kernelspec": {
   "display_name": "Python 3",
   "language": "python",
   "name": "python3"
  },
  "language_info": {
   "codemirror_mode": {
    "name": "ipython",
    "version": 3
   },
   "file_extension": ".py",
   "mimetype": "text/x-python",
   "name": "python",
   "nbconvert_exporter": "python",
   "pygments_lexer": "ipython3",
   "version": "3.6.8"
  }
 },
 "nbformat": 4,
 "nbformat_minor": 2
}
