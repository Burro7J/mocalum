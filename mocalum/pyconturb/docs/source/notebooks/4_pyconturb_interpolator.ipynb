{
 "cells": [
  {
   "cell_type": "markdown",
   "metadata": {},
   "source": [
    "# The PyConTurb interpolator"
   ]
  },
  {
   "cell_type": "markdown",
   "metadata": {},
   "source": [
    "The PyConTurb `interpolator` function is based upon SciPy's `griddata` function, but it has been expanded so that it can also handle just a single point or points that fall within a line. This interpolator is what lies underneath the data profiles given in the next example. More documentation on the interpolator can be found in the Reference Guide section.\n",
    "\n",
    "This example has the following sections:  \n",
    "\n",
    "* [Preliminaries](#Preliminaries:-importing/defining-functions)  \n",
    "\n",
    "* [Interpolator logic](#Interpolator-logic)  \n",
    "\n",
    "* [Case 1: One Point](#Case-1:-One-Point)  \n",
    "\n",
    "* [Case 2: Line](#Case-2:-Line)  \n",
    "\n",
    "* [Case 3: Polygon](#Case-3:-Polygon)  "
   ]
  },
  {
   "cell_type": "markdown",
   "metadata": {},
   "source": [
    "## Preliminaries: imports and definitions\n",
    "\n",
    "We first import required functions and set a few notebook-specific functions/variables."
   ]
  },
  {
   "cell_type": "code",
   "execution_count": null,
   "metadata": {},
   "outputs": [],
   "source": [
    "%matplotlib inline\n",
    "from pathlib import Path\n",
    "\n",
    "import matplotlib.pyplot as plt  # matplotlib for some plotting\n",
    "import numpy as np  # numeric python functions\n",
    "\n",
    "from pyconturb._utils import interpolator  # the interpolator function\n",
    "\n",
    "from _nb_utils import plot_interp"
   ]
  },
  {
   "cell_type": "markdown",
   "metadata": {},
   "source": [
    "## Interpolator logic\n",
    "\n",
    "The interpolator logic is as follows:  \n",
    "\n",
    "1. **One point**. If one point is passed in, it returns the value from that point.  \n",
    "2. **Line**. If multiple points are passed in and they fall in a line, it projects the requested points onto the line and uses NumPy's `interp` function along the line.  \n",
    "3. **Polygon**. If multiple points are passed in and they do not fall in a line, it interpolates the points inside the polygon using linear ND interpolation and extrapolates the points outside the polygon using the \"nearest\" option.\n",
    "\n",
    "Let's see how this looks in practice using some examples."
   ]
  },
  {
   "cell_type": "markdown",
   "metadata": {},
   "source": [
    "## Case 1: One Point\n",
    "\n",
    "If there is one point given, the interpolator returns that point's value."
   ]
  },
  {
   "cell_type": "code",
   "execution_count": null,
   "metadata": {},
   "outputs": [],
   "source": [
    "yp, zp, valp = np.zeros((3, 1))  # points/values to be interpolated\n",
    "y, z = np.meshgrid(np.linspace(-0.5, 0.5), np.linspace(-0.5, 0.5))  # points we want to query\n",
    "val = interpolator((yp, zp), valp, (y.flatten(), z.flatten()))  # returns y.size array of points\n",
    "plot_interp(yp, zp, valp, y, z, val)  # plot the interpolated values"
   ]
  },
  {
   "cell_type": "markdown",
   "metadata": {},
   "source": [
    "## Case 2: Line\n",
    "\n",
    "### Line 1: Vertical line\n",
    "\n",
    "The interpolator interpolates the values in the vertical direction."
   ]
  },
  {
   "cell_type": "code",
   "execution_count": null,
   "metadata": {},
   "outputs": [],
   "source": [
    "yp, zp, valp = np.zeros(3), np.arange(3), np.arange(3)  # points/values to be interpolated\n",
    "y, z = np.meshgrid(np.linspace(-0.5, 2.5), np.linspace(-0.5, 2.5))  # points we want to query\n",
    "val = interpolator((yp, zp), valp, (y.flatten(), z.flatten()))  # returns y.size array of points\n",
    "plot_interp(yp, zp, valp, y, z, val)  # plot the interpolated values"
   ]
  },
  {
   "cell_type": "markdown",
   "metadata": {},
   "source": [
    "### Line 2: Horizontal line\n",
    "\n",
    "The interpolator interpolates the values in the horizontal direction."
   ]
  },
  {
   "cell_type": "code",
   "execution_count": null,
   "metadata": {},
   "outputs": [],
   "source": [
    "yp, zp, valp = np.arange(3), np.zeros(3), np.arange(3)  # points/values to be interpolated\n",
    "y, z = np.meshgrid(np.linspace(-0.5, 2.5), np.linspace(-0.5, 2.5))  # points we want to query\n",
    "val = interpolator((yp, zp), valp, (y.flatten(), z.flatten()))  # returns y.size array of points\n",
    "plot_interp(yp, zp, valp, y, z, val)  # plot the interpolated values"
   ]
  },
  {
   "cell_type": "markdown",
   "metadata": {},
   "source": [
    "### Line 3: Diagonal line\n",
    "\n",
    "The interpolator projects the points onto the line and then interpolates along the line."
   ]
  },
  {
   "cell_type": "code",
   "execution_count": null,
   "metadata": {},
   "outputs": [],
   "source": [
    "yp, zp, valp = np.arange(3), np.arange(3), np.arange(3)  # points/values to be interpolated\n",
    "y, z = np.meshgrid(np.linspace(-0.5, 2.5), np.linspace(-0.5, 2.5))  # points we want to query\n",
    "val = interpolator((yp, zp), valp, (y.flatten(), z.flatten()))  # returns y.size array of points\n",
    "plot_interp(yp, zp, valp, y, z, val)  # plot the interpolated values"
   ]
  },
  {
   "cell_type": "markdown",
   "metadata": {},
   "source": [
    "## Case 3: Polygon\n",
    "\n",
    "The interpolator interpolates the points that follow within the polygon linearly. The points outside the polygon are extrapolated by taking the same value as their nearest neighbor.\n",
    "\n",
    "**Note**: as you can see below, this logic can lead to undesirable discontinuities for points outside the polygon. Use this interpolator with caution when you have a polygon of points and are trying to extrapolate."
   ]
  },
  {
   "cell_type": "code",
   "execution_count": null,
   "metadata": {},
   "outputs": [],
   "source": [
    "yp, zp, valp = [0, 0, 1], [0, 1, 0], np.arange(3)  # points/values to be interpolated\n",
    "y, z = np.meshgrid(np.linspace(-0.25, 1.25), np.linspace(-0.25, 1.25))  # points we want to query\n",
    "val = interpolator((yp, zp), valp, (y.flatten(), z.flatten()))  # returns y.size array of points\n",
    "plot_interp(yp, zp, valp, y, z, val)  # plot the interpolated values"
   ]
  }
 ],
 "metadata": {
  "kernelspec": {
   "display_name": "Python 3",
   "language": "python",
   "name": "python3"
  },
  "language_info": {
   "codemirror_mode": {
    "name": "ipython",
    "version": 3
   },
   "file_extension": ".py",
   "mimetype": "text/x-python",
   "name": "python",
   "nbconvert_exporter": "python",
   "pygments_lexer": "ipython3",
   "version": "3.6.8"
  }
 },
 "nbformat": 4,
 "nbformat_minor": 2
}
