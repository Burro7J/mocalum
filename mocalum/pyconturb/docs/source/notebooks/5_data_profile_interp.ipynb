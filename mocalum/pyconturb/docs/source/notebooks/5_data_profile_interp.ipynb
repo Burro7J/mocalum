{
 "cells": [
  {
   "cell_type": "markdown",
   "metadata": {},
   "source": [
    "# Interpolation of profiles from data"
   ]
  },
  {
   "cell_type": "markdown",
   "metadata": {},
   "source": [
    "As noted in the example on constraining with time series, if you want to your simulated turbulence to look like your measured time series when the simulation point is near a measured point, you need to have profile functions that will recreate the values from the data when needed. PyConTurb has a custom interpolator and profiles to handle this. The interpolator is demonstrated in another example; this one will focues on the profile functions that interpolate from the constraining data in `con_tc`.\n",
    "\n",
    "This example has the following sections:  \n",
    "\n",
    "* [Preliminaries](#Preliminaries:-importing/defining-functions)  \n",
    "\n",
    "* [Wind profile interpolated from data](#Wind-profile-interpolated-from-data)  \n",
    "\n",
    "* [Sig profile interpolated from data](#Sig-profile-interpolated-from-data)  \n",
    "\n",
    "* [Spectra interpolated from data](#Spectra-interpolated-from-data)  "
   ]
  },
  {
   "cell_type": "markdown",
   "metadata": {},
   "source": [
    "## Preliminaries: imports and definitions\n",
    "\n",
    "We first import required functions and set a few notebook-specific functions/variables."
   ]
  },
  {
   "cell_type": "code",
   "execution_count": null,
   "metadata": {},
   "outputs": [],
   "source": [
    "%matplotlib inline\n",
    "from pathlib import Path\n",
    "\n",
    "import matplotlib.pyplot as plt  # matplotlib for some plotting\n",
    "import numpy as np  # numeric python functions\n",
    "import pandas as pd  # need this to load our data from the csv files\n",
    "\n",
    "from pyconturb import TimeConstraint\n",
    "from pyconturb.sig_models import data_sig\n",
    "from pyconturb.spectral_models import data_spectrum\n",
    "from pyconturb.wind_profiles import data_profile\n",
    "\n",
    "from _nb_utils import plot_interp\n",
    "\n",
    "# load the constraint file used in the constrained example, used for our \"data\"\n",
    "data_dir = Path('.').absolute() / 'data'\n",
    "con_tc = TimeConstraint(pd.read_csv(data_dir / 'con_tc.csv', index_col=0))  # load data from csv into tc\n",
    "con_tc.index = con_tc.index.map(lambda x: float(x) if (x not in 'kxyz') else x)  # index cleaning"
   ]
  },
  {
   "cell_type": "markdown",
   "metadata": {},
   "source": [
    "## Wind profile interpolated from data\n",
    "\n",
    "We will use the same `TimeConstraint` object as we did in the example on constraining data. The object was loaded in during the \"Preliminaries\" section above. Recall that it has constraints on $u$, $v$ and $w$ at 6 heights ranging from 115 to 131 m.\n",
    "\n",
    "Instead of using the `power_profile` or `constant_profile` functions like we did before, we can use the `data_profile` function. Usage of this function is detailed in the Reference Guide, but it's just like the other profile functions except we pass in `con_tc` as a keyword argument.\n",
    "\n",
    "Here is a \"sanity check\" comparing the mean wind speed from `con_tc` to the values returned by `data_profile`."
   ]
  },
  {
   "cell_type": "code",
   "execution_count": null,
   "metadata": {},
   "outputs": [],
   "source": [
    "# define the points we want to query and call data_profile\n",
    "y, z = np.meshgrid([-50, 50], np.linspace(10, 140))\n",
    "wsp_intp = data_profile(y.flatten(), z.flatten(), con_tc=con_tc)\n",
    "# calculate the values fron con_tc for comparison\n",
    "yp, zp = np.zeros(6), con_tc.loc['z'].unique()\n",
    "wspp = con_tc.get_time().filter(regex='u_').mean().values\n",
    "# plot the interpolated values\n",
    "plot_interp(yp, zp, wspp, y, z, wsp_intp)"
   ]
  },
  {
   "cell_type": "markdown",
   "metadata": {},
   "source": [
    "## Sig profile interpolated from data\n",
    "\n",
    "The usage of the `data_sig` function is similar to the `iec_sig` function, except that we must pass in `con_tc` as a keyword argument. Here is a sanity check similar to the one we gave for `wind_profile`."
   ]
  },
  {
   "cell_type": "code",
   "execution_count": null,
   "metadata": {},
   "outputs": [],
   "source": [
    "# define the points we want to query and call data_sig\n",
    "y, z = np.meshgrid([-50, 50], np.linspace(10, 140))\n",
    "plt.figure(1, figsize=(15, 4))\n",
    "for k in range(3):  # loop through components\n",
    "    ks = k * np.ones(y.size)\n",
    "    sig_intp = data_sig(ks, y.flatten(), z.flatten(), con_tc=con_tc)\n",
    "    # calculate the values fron con_tc for comparison\n",
    "    yp, zp = np.zeros(6), con_tc.loc['z'].unique()\n",
    "    sigp = con_tc.get_time().filter(regex=f'{\"uvw\"[k]}_').std().values\n",
    "    # plot the interpolated values\n",
    "    plt.subplot(1, 3, 1 + k)\n",
    "    plot_interp(yp, zp, sigp, y, z, sig_intp)\n",
    "    plt.title(f'Component {\"uvw\"[k]} sig')"
   ]
  },
  {
   "cell_type": "markdown",
   "metadata": {},
   "source": [
    "## Spectra interpolated from data\n",
    "\n",
    "Lastly, there is also a function, `data_spectrum`, to interpolate spectral profiles from `con_tc`. Here's an example of how it works."
   ]
  },
  {
   "cell_type": "code",
   "execution_count": null,
   "metadata": {},
   "outputs": [],
   "source": [
    "# define the points we want to query and call data_spectrum\n",
    "f, f_idx = 0.05, 5  # frequency to look at and its index in the freq vector\n",
    "y, z = np.meshgrid([-50, 50], np.linspace(10, 140))\n",
    "plt.figure(1, figsize=(14, 10))\n",
    "for k in range(3):  # loop through components\n",
    "    ks = k * np.ones(y.size)\n",
    "    spc_intp = data_spectrum(f, ks, y.flatten(), z.flatten(), con_tc=con_tc)\n",
    "    # calculate the values fron con_tc for comparison\n",
    "    yp, zp = np.zeros(6), con_tc.loc['z'].unique()\n",
    "    mags = 2*np.abs(np.fft.rfft(con_tc.get_time().filter(regex=f'{\"uvw\"[k]}_'), axis=0))**2\n",
    "    spcp = mags[f_idx, :]\n",
    "    # plot the interpolated values\n",
    "    plt.subplot(2, 2, 1 + k)\n",
    "    plot_interp(yp, zp, spcp, y, z, spc_intp, fmt='%.2e')\n",
    "    plt.title(f'Component {\"uvw\"[k]} spectrum, f = {f} Hz')"
   ]
  }
 ],
 "metadata": {
  "kernelspec": {
   "display_name": "Python 3",
   "language": "python",
   "name": "python3"
  },
  "language_info": {
   "codemirror_mode": {
    "name": "ipython",
    "version": 3
   },
   "file_extension": ".py",
   "mimetype": "text/x-python",
   "name": "python",
   "nbconvert_exporter": "python",
   "pygments_lexer": "ipython3",
   "version": "3.6.8"
  }
 },
 "nbformat": 4,
 "nbformat_minor": 2
}
