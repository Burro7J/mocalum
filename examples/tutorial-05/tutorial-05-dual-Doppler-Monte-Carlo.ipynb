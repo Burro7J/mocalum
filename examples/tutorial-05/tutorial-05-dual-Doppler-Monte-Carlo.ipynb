{
 "cells": [
  {
   "cell_type": "markdown",
   "metadata": {},
   "source": [
    "# <center> *mocalum* tutorial 5 <br><br> Monte-Carlo simulation for dual-Doppler configuration <center>\n",
    "\n",
    "A notebook by Nikola Vasiljević\n",
    "    \n",
    "## Introduction\n",
    "\n",
    "In tutorial we will peform Monte-Carlo simulations of dual-Doppler configuration uncertainty. We will consider two lidars which are intersecting laser beams at a single point 100 m above ground level. Actually, this measurement point will have the same location as the center point of the PPI scan from `tutorial 4`. What we will vary in this tutorial is the between-beam angle (intersecting) of the two lidars as well the wind direction. If you are not familiar with `mocalum`, it is advisiable to go through the previous tutorials first.\n",
    "    \n",
    "If you want directly to explore earlier derives results of the Monte-Carlo simulations first import required libraries in the cell below and then go to the notebook section [Results of Monte Carlo simulations](#monte_carlo_results)."
   ]
  },
  {
   "cell_type": "code",
   "execution_count": 1,
   "metadata": {},
   "outputs": [],
   "source": [
    "import numpy as np           \n",
    "import matplotlib.pyplot as plt\n",
    "import xarray as xr\n",
    "import mocalum as mc\n",
    "\n",
    "from tqdm.notebook import trange, tqdm\n",
    "\n",
    "from mocalum_tutorial import plot_sd_scan_setup, plot_md_scan_setup, plot_bbox, plot_ffield, average_sonic"
   ]
  },
  {
   "cell_type": "code",
   "execution_count": 2,
   "metadata": {},
   "outputs": [],
   "source": [
    "# setup of fontsize for plots\n",
    "\n",
    "SMALL_SIZE = 12\n",
    "MEDIUM_SIZE = 14\n",
    "BIGGER_SIZE = 16\n",
    "\n",
    "plt.rc('font', size=MEDIUM_SIZE)          # controls default text sizes\n",
    "plt.rc('axes', titlesize=MEDIUM_SIZE)     # fontsize of the axes title\n",
    "plt.rc('axes', labelsize=MEDIUM_SIZE)    # fontsize of the x and y labels\n",
    "plt.rc('xtick', labelsize=MEDIUM_SIZE)    # fontsize of the tick labels\n",
    "plt.rc('ytick', labelsize=MEDIUM_SIZE)    # fontsize of the tick labels\n",
    "plt.rc('legend', fontsize=MEDIUM_SIZE)    # legend fontsize\n",
    "plt.rc('figure', titlesize=BIGGER_SIZE)  # fontsize of the figure title"
   ]
  },
  {
   "cell_type": "code",
   "execution_count": 3,
   "metadata": {},
   "outputs": [],
   "source": [
    "mc_dd = mc.Mocalum()"
   ]
  },
  {
   "cell_type": "markdown",
   "metadata": {},
   "source": [
    "## Initial lidar setup\n",
    "\n",
    "Lets consider two lidars 'koshava' and 'sterenn' which positions we will change only along `y` coordinate, starting co-located at the position of (0,0,0). The measurement point will be set at (1000,0,100). The two lidars will have following values for uncertainty contributors (standard uncertainty):\n",
    "- estimation uncertainty of radial velocity of 0.1 m/s \n",
    "- ranging uncertainty of 5 m\n",
    "- azimuth uncertainty of 0.1 deg\n",
    "- elevation uncertainty of 0.1 deg\n",
    "\n",
    "Currently dual-Doppler configurations don't have feature of setting up correlated uncertainties among multiple lidars:"
   ]
  },
  {
   "cell_type": "code",
   "execution_count": 19,
   "metadata": {},
   "outputs": [
    {
     "data": {
      "application/vnd.jupyter.widget-view+json": {
       "model_id": "42ca37975be04fc69691f5412ae56605",
       "version_major": 2,
       "version_minor": 0
      },
      "text/plain": [
       "HBox(children=(FloatProgress(value=0.0, description='Lidar separation loop', max=21.0, style=ProgressStyle(des…"
      ]
     },
     "metadata": {},
     "output_type": "display_data"
    },
    {
     "data": {
      "application/vnd.jupyter.widget-view+json": {
       "model_id": "",
       "version_major": 2,
       "version_minor": 0
      },
      "text/plain": [
       "HBox(children=(FloatProgress(value=0.0, description='Wind direction loop', max=2.0, style=ProgressStyle(descri…"
      ]
     },
     "metadata": {},
     "output_type": "display_data"
    },
    {
     "data": {
      "application/vnd.jupyter.widget-view+json": {
       "model_id": "",
       "version_major": 2,
       "version_minor": 0
      },
      "text/plain": [
       "HBox(children=(FloatProgress(value=0.0, description='Wind direction loop', max=2.0, style=ProgressStyle(descri…"
      ]
     },
     "metadata": {},
     "output_type": "display_data"
    },
    {
     "data": {
      "application/vnd.jupyter.widget-view+json": {
       "model_id": "",
       "version_major": 2,
       "version_minor": 0
      },
      "text/plain": [
       "HBox(children=(FloatProgress(value=0.0, description='Wind direction loop', max=2.0, style=ProgressStyle(descri…"
      ]
     },
     "metadata": {},
     "output_type": "display_data"
    },
    {
     "data": {
      "application/vnd.jupyter.widget-view+json": {
       "model_id": "",
       "version_major": 2,
       "version_minor": 0
      },
      "text/plain": [
       "HBox(children=(FloatProgress(value=0.0, description='Wind direction loop', max=2.0, style=ProgressStyle(descri…"
      ]
     },
     "metadata": {},
     "output_type": "display_data"
    },
    {
     "data": {
      "application/vnd.jupyter.widget-view+json": {
       "model_id": "",
       "version_major": 2,
       "version_minor": 0
      },
      "text/plain": [
       "HBox(children=(FloatProgress(value=0.0, description='Wind direction loop', max=2.0, style=ProgressStyle(descri…"
      ]
     },
     "metadata": {},
     "output_type": "display_data"
    },
    {
     "data": {
      "application/vnd.jupyter.widget-view+json": {
       "model_id": "",
       "version_major": 2,
       "version_minor": 0
      },
      "text/plain": [
       "HBox(children=(FloatProgress(value=0.0, description='Wind direction loop', max=2.0, style=ProgressStyle(descri…"
      ]
     },
     "metadata": {},
     "output_type": "display_data"
    },
    {
     "data": {
      "application/vnd.jupyter.widget-view+json": {
       "model_id": "",
       "version_major": 2,
       "version_minor": 0
      },
      "text/plain": [
       "HBox(children=(FloatProgress(value=0.0, description='Wind direction loop', max=2.0, style=ProgressStyle(descri…"
      ]
     },
     "metadata": {},
     "output_type": "display_data"
    },
    {
     "data": {
      "application/vnd.jupyter.widget-view+json": {
       "model_id": "",
       "version_major": 2,
       "version_minor": 0
      },
      "text/plain": [
       "HBox(children=(FloatProgress(value=0.0, description='Wind direction loop', max=2.0, style=ProgressStyle(descri…"
      ]
     },
     "metadata": {},
     "output_type": "display_data"
    },
    {
     "data": {
      "application/vnd.jupyter.widget-view+json": {
       "model_id": "",
       "version_major": 2,
       "version_minor": 0
      },
      "text/plain": [
       "HBox(children=(FloatProgress(value=0.0, description='Wind direction loop', max=2.0, style=ProgressStyle(descri…"
      ]
     },
     "metadata": {},
     "output_type": "display_data"
    },
    {
     "data": {
      "application/vnd.jupyter.widget-view+json": {
       "model_id": "",
       "version_major": 2,
       "version_minor": 0
      },
      "text/plain": [
       "HBox(children=(FloatProgress(value=0.0, description='Wind direction loop', max=2.0, style=ProgressStyle(descri…"
      ]
     },
     "metadata": {},
     "output_type": "display_data"
    },
    {
     "data": {
      "application/vnd.jupyter.widget-view+json": {
       "model_id": "",
       "version_major": 2,
       "version_minor": 0
      },
      "text/plain": [
       "HBox(children=(FloatProgress(value=0.0, description='Wind direction loop', max=2.0, style=ProgressStyle(descri…"
      ]
     },
     "metadata": {},
     "output_type": "display_data"
    },
    {
     "data": {
      "application/vnd.jupyter.widget-view+json": {
       "model_id": "",
       "version_major": 2,
       "version_minor": 0
      },
      "text/plain": [
       "HBox(children=(FloatProgress(value=0.0, description='Wind direction loop', max=2.0, style=ProgressStyle(descri…"
      ]
     },
     "metadata": {},
     "output_type": "display_data"
    },
    {
     "data": {
      "application/vnd.jupyter.widget-view+json": {
       "model_id": "",
       "version_major": 2,
       "version_minor": 0
      },
      "text/plain": [
       "HBox(children=(FloatProgress(value=0.0, description='Wind direction loop', max=2.0, style=ProgressStyle(descri…"
      ]
     },
     "metadata": {},
     "output_type": "display_data"
    },
    {
     "data": {
      "application/vnd.jupyter.widget-view+json": {
       "model_id": "",
       "version_major": 2,
       "version_minor": 0
      },
      "text/plain": [
       "HBox(children=(FloatProgress(value=0.0, description='Wind direction loop', max=2.0, style=ProgressStyle(descri…"
      ]
     },
     "metadata": {},
     "output_type": "display_data"
    },
    {
     "data": {
      "application/vnd.jupyter.widget-view+json": {
       "model_id": "",
       "version_major": 2,
       "version_minor": 0
      },
      "text/plain": [
       "HBox(children=(FloatProgress(value=0.0, description='Wind direction loop', max=2.0, style=ProgressStyle(descri…"
      ]
     },
     "metadata": {},
     "output_type": "display_data"
    },
    {
     "data": {
      "application/vnd.jupyter.widget-view+json": {
       "model_id": "",
       "version_major": 2,
       "version_minor": 0
      },
      "text/plain": [
       "HBox(children=(FloatProgress(value=0.0, description='Wind direction loop', max=2.0, style=ProgressStyle(descri…"
      ]
     },
     "metadata": {},
     "output_type": "display_data"
    },
    {
     "data": {
      "application/vnd.jupyter.widget-view+json": {
       "model_id": "",
       "version_major": 2,
       "version_minor": 0
      },
      "text/plain": [
       "HBox(children=(FloatProgress(value=0.0, description='Wind direction loop', max=2.0, style=ProgressStyle(descri…"
      ]
     },
     "metadata": {},
     "output_type": "display_data"
    },
    {
     "data": {
      "application/vnd.jupyter.widget-view+json": {
       "model_id": "",
       "version_major": 2,
       "version_minor": 0
      },
      "text/plain": [
       "HBox(children=(FloatProgress(value=0.0, description='Wind direction loop', max=2.0, style=ProgressStyle(descri…"
      ]
     },
     "metadata": {},
     "output_type": "display_data"
    },
    {
     "data": {
      "application/vnd.jupyter.widget-view+json": {
       "model_id": "",
       "version_major": 2,
       "version_minor": 0
      },
      "text/plain": [
       "HBox(children=(FloatProgress(value=0.0, description='Wind direction loop', max=2.0, style=ProgressStyle(descri…"
      ]
     },
     "metadata": {},
     "output_type": "display_data"
    },
    {
     "data": {
      "application/vnd.jupyter.widget-view+json": {
       "model_id": "",
       "version_major": 2,
       "version_minor": 0
      },
      "text/plain": [
       "HBox(children=(FloatProgress(value=0.0, description='Wind direction loop', max=2.0, style=ProgressStyle(descri…"
      ]
     },
     "metadata": {},
     "output_type": "display_data"
    },
    {
     "data": {
      "application/vnd.jupyter.widget-view+json": {
       "model_id": "",
       "version_major": 2,
       "version_minor": 0
      },
      "text/plain": [
       "HBox(children=(FloatProgress(value=0.0, description='Wind direction loop', max=2.0, style=ProgressStyle(descri…"
      ]
     },
     "metadata": {},
     "output_type": "display_data"
    },
    {
     "name": "stdout",
     "output_type": "stream",
     "text": [
      "\n"
     ]
    }
   ],
   "source": [
    "y_step = 100\n",
    "no_steps = 21\n",
    "pts = np.array([[1000,0,100]])\n",
    "\n",
    "sim_wdir = [0,90]\n",
    "\n",
    "\n",
    "unc_cfg = {'unc_az'   : 0.1,\n",
    "           'unc_el'   : 0.1,\n",
    "           'unc_rng'  : 5,\n",
    "           'unc_est'  : 0.1,\n",
    "           'corr_coef':0}\n",
    "\n",
    "CT_cfg = {\n",
    "    'points': pts,\n",
    "    'no_scans' : 2*3*5*7*9*100,\n",
    "    'acq_time' :1,\n",
    "    'sync':True,\n",
    "}\n",
    "\n",
    "\n",
    "uncertainty = np.empty((len(range(0,no_steps)),\n",
    "                        len(sim_wdir),2,2))\n",
    "\n",
    "\n",
    "b_angle = np.empty(no_steps)\n",
    "for i in trange(0,no_steps, desc =\"Lidar separation loop\"):\n",
    "\n",
    "    koshava_xyz = np.array([0,-i*y_step,0])\n",
    "    sterenn_xyz = np.array([0,i*y_step,0])\n",
    "    \n",
    "    b_angle[i] =np.degrees(np.arctan(i*y_step/1000))*2\n",
    "\n",
    "    mc_dd.add_lidar('koshava', koshava_xyz, unc_cfg)\n",
    "    mc_dd.add_lidar('sterenn', sterenn_xyz, unc_cfg)\n",
    "\n",
    "    mc_dd.generate_complex_trajectory(['koshava', 'sterenn'],CT_cfg)    \n",
    "    \n",
    "    mc_dd.generate_uncertainties('koshava')\n",
    "    mc_dd.generate_uncertainties('sterenn')\n",
    "    \n",
    "    \n",
    "    for j, wind_from_direction in enumerate(tqdm(sim_wdir, desc =\"Wind direction loop\", leave = False)):\n",
    "\n",
    "        atmo_cfg={'wind_speed':10,\n",
    "                  'upward_velocity':0,\n",
    "                  'wind_from_direction': wind_from_direction,\n",
    "                  'reference_height':100, # we set the reference height same as the scanned height \n",
    "                  'shear_exponent':0.2}\n",
    "        \n",
    "        mc_dd.generate_flow_field(['koshava', 'sterenn'], atmo_cfg, 'turbulent')\n",
    "        mc_dd.project_to_los('koshava')\n",
    "        mc_dd.project_to_los('sterenn')\n",
    "\n",
    "\n",
    "        # virtual sonic setup/generation\n",
    "        time_steps = mc_dd.data.probing['koshava'].time.values\n",
    "        mc_dd.generate_virtual_sonic(pts, time_steps)\n",
    "\n",
    "        # average and reconstruct data\n",
    "        mc_dd.reconstruct_wind(['koshava', 'sterenn'], 'dual-Doppler',600)\n",
    "        avg_sonic_data = average_sonic(mc_dd.data.sonic_wind,600)    \n",
    "\n",
    "        # calculate difference:\n",
    "        diff_ds = avg_sonic_data - mc_dd.data.rc_wind\n",
    "\n",
    "        # get standard uncertainty\n",
    "        unc_ws = diff_ds.ws.std() # standard uncertainty of horizontal wind speed\n",
    "        unc_dir = diff_ds.wdir.std() # standard uncertainty of wind direction\n",
    "        \n",
    "        uncertainty[i,j,0] = np.array([diff_ds.ws.mean(), diff_ds.ws.std()])\n",
    "        uncertainty[i,j,1] = np.array([diff_ds.wdir.mean(), diff_ds.wdir.std()])           "
   ]
  },
  {
   "cell_type": "code",
   "execution_count": 20,
   "metadata": {},
   "outputs": [
    {
     "data": {
      "image/png": "[encoded data removed]",
      "text/plain": [
       "<Figure size 540x540 with 2 Axes>"
      ]
     },
     "metadata": {
      "needs_background": "light"
     },
     "output_type": "display_data"
    }
   ],
   "source": [
    "# Lets plot the last dual-Doppler setup and wind field:\n",
    "plot_ffield(mc_dd)"
   ]
  },
  {
   "cell_type": "code",
   "execution_count": 22,
   "metadata": {},
   "outputs": [],
   "source": [
    "ds_unc = xr.Dataset({'unc_ws': (['between_beam_angle', 'wind_direction', 'statistics'], uncertainty[:,:,0]),\n",
    "                            'unc_wdir': (['between_beam_angle','wind_direction', 'statistics'], uncertainty[:,:,1])},\n",
    "                           coords={'between_beam_angle': b_angle,\n",
    "                                   'wind_direction': sim_wdir,\n",
    "                                  'statistics': ['mean', 'std']})"
   ]
  },
  {
   "cell_type": "code",
   "execution_count": 23,
   "metadata": {},
   "outputs": [
    {
     "data": {
      "text/html": [
       "<div><svg style=\"position: absolute; width: 0; height: 0; overflow: hidden\">\n",
       "<defs>\n",
       "<symbol id=\"icon-database\" viewBox=\"0 0 32 32\">\n",
       "<title>Show/Hide data repr</title>\n",
       "<path d=\"M16 0c-8.837 0-16 2.239-16 5v4c0 2.761 7.163 5 16 5s16-2.239 16-5v-4c0-2.761-7.163-5-16-5z\"></path>\n",
       "<path d=\"M16 17c-8.837 0-16-2.239-16-5v6c0 2.761 7.163 5 16 5s16-2.239 16-5v-6c0 2.761-7.163 5-16 5z\"></path>\n",
       "<path d=\"M16 26c-8.837 0-16-2.239-16-5v6c0 2.761 7.163 5 16 5s16-2.239 16-5v-6c0 2.761-7.163 5-16 5z\"></path>\n",
       "</symbol>\n",
       "<symbol id=\"icon-file-text2\" viewBox=\"0 0 32 32\">\n",
       "<title>Show/Hide attributes</title>\n",
       "<path d=\"M28.681 7.159c-0.694-0.947-1.662-2.053-2.724-3.116s-2.169-2.030-3.116-2.724c-1.612-1.182-2.393-1.319-2.841-1.319h-15.5c-1.378 0-2.5 1.121-2.5 2.5v27c0 1.378 1.122 2.5 2.5 2.5h23c1.378 0 2.5-1.122 2.5-2.5v-19.5c0-0.448-0.137-1.23-1.319-2.841zM24.543 5.457c0.959 0.959 1.712 1.825 2.268 2.543h-4.811v-4.811c0.718 0.556 1.584 1.309 2.543 2.268zM28 29.5c0 0.271-0.229 0.5-0.5 0.5h-23c-0.271 0-0.5-0.229-0.5-0.5v-27c0-0.271 0.229-0.5 0.5-0.5 0 0 15.499-0 15.5 0v7c0 0.552 0.448 1 1 1h7v19.5z\"></path>\n",
       "<path d=\"M23 26h-14c-0.552 0-1-0.448-1-1s0.448-1 1-1h14c0.552 0 1 0.448 1 1s-0.448 1-1 1z\"></path>\n",
       "<path d=\"M23 22h-14c-0.552 0-1-0.448-1-1s0.448-1 1-1h14c0.552 0 1 0.448 1 1s-0.448 1-1 1z\"></path>\n",
       "<path d=\"M23 18h-14c-0.552 0-1-0.448-1-1s0.448-1 1-1h14c0.552 0 1 0.448 1 1s-0.448 1-1 1z\"></path>\n",
       "</symbol>\n",
       "</defs>\n",
       "</svg>\n",
       "<style>/* CSS stylesheet for displaying xarray objects in jupyterlab.\n",
       " *\n",
       " */\n",
       "\n",
       ":root {\n",
       "  --xr-font-color0: var(--jp-content-font-color0, rgba(0, 0, 0, 1));\n",
       "  --xr-font-color2: var(--jp-content-font-color2, rgba(0, 0, 0, 0.54));\n",
       "  --xr-font-color3: var(--jp-content-font-color3, rgba(0, 0, 0, 0.38));\n",
       "  --xr-border-color: var(--jp-border-color2, #e0e0e0);\n",
       "  --xr-disabled-color: var(--jp-layout-color3, #bdbdbd);\n",
       "  --xr-background-color: var(--jp-layout-color0, white);\n",
       "  --xr-background-color-row-even: var(--jp-layout-color1, white);\n",
       "  --xr-background-color-row-odd: var(--jp-layout-color2, #eeeeee);\n",
       "}\n",
       "\n",
       ".xr-wrap {\n",
       "  min-width: 300px;\n",
       "  max-width: 700px;\n",
       "}\n",
       "\n",
       ".xr-header {\n",
       "  padding-top: 6px;\n",
       "  padding-bottom: 6px;\n",
       "  margin-bottom: 4px;\n",
       "  border-bottom: solid 1px var(--xr-border-color);\n",
       "}\n",
       "\n",
       ".xr-header > div,\n",
       ".xr-header > ul {\n",
       "  display: inline;\n",
       "  margin-top: 0;\n",
       "  margin-bottom: 0;\n",
       "}\n",
       "\n",
       ".xr-obj-type,\n",
       ".xr-array-name {\n",
       "  margin-left: 2px;\n",
       "  margin-right: 10px;\n",
       "}\n",
       "\n",
       ".xr-obj-type {\n",
       "  color: var(--xr-font-color2);\n",
       "}\n",
       "\n",
       ".xr-sections {\n",
       "  padding-left: 0 !important;\n",
       "  display: grid;\n",
       "  grid-template-columns: 150px auto auto 1fr 20px 20px;\n",
       "}\n",
       "\n",
       ".xr-section-item {\n",
       "  display: contents;\n",
       "}\n",
       "\n",
       ".xr-section-item input {\n",
       "  display: none;\n",
       "}\n",
       "\n",
       ".xr-section-item input + label {\n",
       "  color: var(--xr-disabled-color);\n",
       "}\n",
       "\n",
       ".xr-section-item input:enabled + label {\n",
       "  cursor: pointer;\n",
       "  color: var(--xr-font-color2);\n",
       "}\n",
       "\n",
       ".xr-section-item input:enabled + label:hover {\n",
       "  color: var(--xr-font-color0);\n",
       "}\n",
       "\n",
       ".xr-section-summary {\n",
       "  grid-column: 1;\n",
       "  color: var(--xr-font-color2);\n",
       "  font-weight: 500;\n",
       "}\n",
       "\n",
       ".xr-section-summary > span {\n",
       "  display: inline-block;\n",
       "  padding-left: 0.5em;\n",
       "}\n",
       "\n",
       ".xr-section-summary-in:disabled + label {\n",
       "  color: var(--xr-font-color2);\n",
       "}\n",
       "\n",
       ".xr-section-summary-in + label:before {\n",
       "  display: inline-block;\n",
       "  content: '►';\n",
       "  font-size: 11px;\n",
       "  width: 15px;\n",
       "  text-align: center;\n",
       "}\n",
       "\n",
       ".xr-section-summary-in:disabled + label:before {\n",
       "  color: var(--xr-disabled-color);\n",
       "}\n",
       "\n",
       ".xr-section-summary-in:checked + label:before {\n",
       "  content: '▼';\n",
       "}\n",
       "\n",
       ".xr-section-summary-in:checked + label > span {\n",
       "  display: none;\n",
       "}\n",
       "\n",
       ".xr-section-summary,\n",
       ".xr-section-inline-details {\n",
       "  padding-top: 4px;\n",
       "  padding-bottom: 4px;\n",
       "}\n",
       "\n",
       ".xr-section-inline-details {\n",
       "  grid-column: 2 / -1;\n",
       "}\n",
       "\n",
       ".xr-section-details {\n",
       "  display: none;\n",
       "  grid-column: 1 / -1;\n",
       "  margin-bottom: 5px;\n",
       "}\n",
       "\n",
       ".xr-section-summary-in:checked ~ .xr-section-details {\n",
       "  display: contents;\n",
       "}\n",
       "\n",
       ".xr-array-wrap {\n",
       "  grid-column: 1 / -1;\n",
       "  display: grid;\n",
       "  grid-template-columns: 20px auto;\n",
       "}\n",
       "\n",
       ".xr-array-wrap > label {\n",
       "  grid-column: 1;\n",
       "  vertical-align: top;\n",
       "}\n",
       "\n",
       ".xr-preview {\n",
       "  color: var(--xr-font-color3);\n",
       "}\n",
       "\n",
       ".xr-array-preview,\n",
       ".xr-array-data {\n",
       "  padding: 0 5px !important;\n",
       "  grid-column: 2;\n",
       "}\n",
       "\n",
       ".xr-array-data,\n",
       ".xr-array-in:checked ~ .xr-array-preview {\n",
       "  display: none;\n",
       "}\n",
       "\n",
       ".xr-array-in:checked ~ .xr-array-data,\n",
       ".xr-array-preview {\n",
       "  display: inline-block;\n",
       "}\n",
       "\n",
       ".xr-dim-list {\n",
       "  display: inline-block !important;\n",
       "  list-style: none;\n",
       "  padding: 0 !important;\n",
       "  margin: 0;\n",
       "}\n",
       "\n",
       ".xr-dim-list li {\n",
       "  display: inline-block;\n",
       "  padding: 0;\n",
       "  margin: 0;\n",
       "}\n",
       "\n",
       ".xr-dim-list:before {\n",
       "  content: '(';\n",
       "}\n",
       "\n",
       ".xr-dim-list:after {\n",
       "  content: ')';\n",
       "}\n",
       "\n",
       ".xr-dim-list li:not(:last-child):after {\n",
       "  content: ',';\n",
       "  padding-right: 5px;\n",
       "}\n",
       "\n",
       ".xr-has-index {\n",
       "  font-weight: bold;\n",
       "}\n",
       "\n",
       ".xr-var-list,\n",
       ".xr-var-item {\n",
       "  display: contents;\n",
       "}\n",
       "\n",
       ".xr-var-item > div,\n",
       ".xr-var-item label,\n",
       ".xr-var-item > .xr-var-name span {\n",
       "  background-color: var(--xr-background-color-row-even);\n",
       "  margin-bottom: 0;\n",
       "}\n",
       "\n",
       ".xr-var-item > .xr-var-name:hover span {\n",
       "  padding-right: 5px;\n",
       "}\n",
       "\n",
       ".xr-var-list > li:nth-child(odd) > div,\n",
       ".xr-var-list > li:nth-child(odd) > label,\n",
       ".xr-var-list > li:nth-child(odd) > .xr-var-name span {\n",
       "  background-color: var(--xr-background-color-row-odd);\n",
       "}\n",
       "\n",
       ".xr-var-name {\n",
       "  grid-column: 1;\n",
       "}\n",
       "\n",
       ".xr-var-dims {\n",
       "  grid-column: 2;\n",
       "}\n",
       "\n",
       ".xr-var-dtype {\n",
       "  grid-column: 3;\n",
       "  text-align: right;\n",
       "  color: var(--xr-font-color2);\n",
       "}\n",
       "\n",
       ".xr-var-preview {\n",
       "  grid-column: 4;\n",
       "}\n",
       "\n",
       ".xr-var-name,\n",
       ".xr-var-dims,\n",
       ".xr-var-dtype,\n",
       ".xr-preview,\n",
       ".xr-attrs dt {\n",
       "  white-space: nowrap;\n",
       "  overflow: hidden;\n",
       "  text-overflow: ellipsis;\n",
       "  padding-right: 10px;\n",
       "}\n",
       "\n",
       ".xr-var-name:hover,\n",
       ".xr-var-dims:hover,\n",
       ".xr-var-dtype:hover,\n",
       ".xr-attrs dt:hover {\n",
       "  overflow: visible;\n",
       "  width: auto;\n",
       "  z-index: 1;\n",
       "}\n",
       "\n",
       ".xr-var-attrs,\n",
       ".xr-var-data {\n",
       "  display: none;\n",
       "  background-color: var(--xr-background-color) !important;\n",
       "  padding-bottom: 5px !important;\n",
       "}\n",
       "\n",
       ".xr-var-attrs-in:checked ~ .xr-var-attrs,\n",
       ".xr-var-data-in:checked ~ .xr-var-data {\n",
       "  display: block;\n",
       "}\n",
       "\n",
       ".xr-var-data > table {\n",
       "  float: right;\n",
       "}\n",
       "\n",
       ".xr-var-name span,\n",
       ".xr-var-data,\n",
       ".xr-attrs {\n",
       "  padding-left: 25px !important;\n",
       "}\n",
       "\n",
       ".xr-attrs,\n",
       ".xr-var-attrs,\n",
       ".xr-var-data {\n",
       "  grid-column: 1 / -1;\n",
       "}\n",
       "\n",
       "dl.xr-attrs {\n",
       "  padding: 0;\n",
       "  margin: 0;\n",
       "  display: grid;\n",
       "  grid-template-columns: 125px auto;\n",
       "}\n",
       "\n",
       ".xr-attrs dt, dd {\n",
       "  padding: 0;\n",
       "  margin: 0;\n",
       "  float: left;\n",
       "  padding-right: 10px;\n",
       "  width: auto;\n",
       "}\n",
       "\n",
       ".xr-attrs dt {\n",
       "  font-weight: normal;\n",
       "  grid-column: 1;\n",
       "}\n",
       "\n",
       ".xr-attrs dt:hover span {\n",
       "  display: inline-block;\n",
       "  background: var(--xr-background-color);\n",
       "  padding-right: 10px;\n",
       "}\n",
       "\n",
       ".xr-attrs dd {\n",
       "  grid-column: 2;\n",
       "  white-space: pre-wrap;\n",
       "  word-break: break-all;\n",
       "}\n",
       "\n",
       ".xr-icon-database,\n",
       ".xr-icon-file-text2 {\n",
       "  display: inline-block;\n",
       "  vertical-align: middle;\n",
       "  width: 1em;\n",
       "  height: 1.5em !important;\n",
       "  stroke-width: 0;\n",
       "  stroke: currentColor;\n",
       "  fill: currentColor;\n",
       "}\n",
       "</style><div class='xr-wrap'><div class='xr-header'><div class='xr-obj-type'>xarray.Dataset</div></div><ul class='xr-sections'><li class='xr-section-item'><input id='section-fb53d2e7-c160-4fcb-8193-ce79dd040319' class='xr-section-summary-in' type='checkbox' disabled ><label for='section-fb53d2e7-c160-4fcb-8193-ce79dd040319' class='xr-section-summary'  title='Expand/collapse section'>Dimensions:</label><div class='xr-section-inline-details'><ul class='xr-dim-list'><li><span class='xr-has-index'>between_beam_angle</span>: 21</li><li><span class='xr-has-index'>statistics</span>: 2</li><li><span class='xr-has-index'>wind_direction</span>: 2</li></ul></div><div class='xr-section-details'></div></li><li class='xr-section-item'><input id='section-871c3580-150e-4452-83a0-999d7dd5c254' class='xr-section-summary-in' type='checkbox'  checked><label for='section-871c3580-150e-4452-83a0-999d7dd5c254' class='xr-section-summary' >Coordinates: <span>(3)</span></label><div class='xr-section-inline-details'></div><div class='xr-section-details'><ul class='xr-var-list'><li class='xr-var-item'><div class='xr-var-name'><span class='xr-has-index'>between_beam_angle</span></div><div class='xr-var-dims'>(between_beam_angle)</div><div class='xr-var-dtype'>float64</div><div class='xr-var-preview xr-preview'>0.0 11.42 22.62 ... 124.5 126.9</div><input id='attrs-0e011f12-7645-47a9-98ae-3250b866f4fb' class='xr-var-attrs-in' type='checkbox' disabled><label for='attrs-0e011f12-7645-47a9-98ae-3250b866f4fb' title='Show/Hide attributes'><svg class='icon xr-icon-file-text2'><use xlink:href='#icon-file-text2'></use></svg></label><input id='data-13aa0b04-3601-4920-a7ec-4139227e4415' class='xr-var-data-in' type='checkbox'><label for='data-13aa0b04-3601-4920-a7ec-4139227e4415' title='Show/Hide data repr'><svg class='icon xr-icon-database'><use xlink:href='#icon-database'></use></svg></label><div class='xr-var-attrs'><dl class='xr-attrs'></dl></div><pre class='xr-var-data'>array([  0.      ,  11.421186,  22.619865,  33.398488,  43.602819,  53.130102,\n",
       "        61.927513,  69.98404 ,  77.319617,  83.974425,  90.      ,  95.452622,\n",
       "       100.388858, 104.862816, 108.924644, 112.619865, 115.989234, 119.06891 ,\n",
       "       121.890792, 124.482919, 126.869898])</pre></li><li class='xr-var-item'><div class='xr-var-name'><span class='xr-has-index'>wind_direction</span></div><div class='xr-var-dims'>(wind_direction)</div><div class='xr-var-dtype'>int64</div><div class='xr-var-preview xr-preview'>0 90</div><input id='attrs-3072c670-2309-45ff-950c-9edc91eef1fd' class='xr-var-attrs-in' type='checkbox' disabled><label for='attrs-3072c670-2309-45ff-950c-9edc91eef1fd' title='Show/Hide attributes'><svg class='icon xr-icon-file-text2'><use xlink:href='#icon-file-text2'></use></svg></label><input id='data-b057d0bd-b22f-4974-86e2-9ebd428fb179' class='xr-var-data-in' type='checkbox'><label for='data-b057d0bd-b22f-4974-86e2-9ebd428fb179' title='Show/Hide data repr'><svg class='icon xr-icon-database'><use xlink:href='#icon-database'></use></svg></label><div class='xr-var-attrs'><dl class='xr-attrs'></dl></div><pre class='xr-var-data'>array([ 0, 90])</pre></li><li class='xr-var-item'><div class='xr-var-name'><span class='xr-has-index'>statistics</span></div><div class='xr-var-dims'>(statistics)</div><div class='xr-var-dtype'>&lt;U4</div><div class='xr-var-preview xr-preview'>&#x27;mean&#x27; &#x27;std&#x27;</div><input id='attrs-973b94f3-81fc-413e-af8e-402d7216a941' class='xr-var-attrs-in' type='checkbox' disabled><label for='attrs-973b94f3-81fc-413e-af8e-402d7216a941' title='Show/Hide attributes'><svg class='icon xr-icon-file-text2'><use xlink:href='#icon-file-text2'></use></svg></label><input id='data-e598bd13-5ed8-4679-9c09-8bfd1a05c413' class='xr-var-data-in' type='checkbox'><label for='data-e598bd13-5ed8-4679-9c09-8bfd1a05c413' title='Show/Hide data repr'><svg class='icon xr-icon-database'><use xlink:href='#icon-database'></use></svg></label><div class='xr-var-attrs'><dl class='xr-attrs'></dl></div><pre class='xr-var-data'>array([&#x27;mean&#x27;, &#x27;std&#x27;], dtype=&#x27;&lt;U4&#x27;)</pre></li></ul></div></li><li class='xr-section-item'><input id='section-a42f0439-1217-4285-9f85-1b222bd72ce7' class='xr-section-summary-in' type='checkbox'  checked><label for='section-a42f0439-1217-4285-9f85-1b222bd72ce7' class='xr-section-summary' >Data variables: <span>(2)</span></label><div class='xr-section-inline-details'></div><div class='xr-section-details'><ul class='xr-var-list'><li class='xr-var-item'><div class='xr-var-name'><span>unc_ws</span></div><div class='xr-var-dims'>(between_beam_angle, wind_direction, statistics)</div><div class='xr-var-dtype'>float64</div><div class='xr-var-preview xr-preview'>-2.213e+30 1.604e+30 ... 0.04799</div><input id='attrs-899612d4-9fd2-498f-bdbf-6ddb3b321a56' class='xr-var-attrs-in' type='checkbox' disabled><label for='attrs-899612d4-9fd2-498f-bdbf-6ddb3b321a56' title='Show/Hide attributes'><svg class='icon xr-icon-file-text2'><use xlink:href='#icon-file-text2'></use></svg></label><input id='data-311b153b-7dad-45c3-84b7-71c70b791005' class='xr-var-data-in' type='checkbox'><label for='data-311b153b-7dad-45c3-84b7-71c70b791005' title='Show/Hide data repr'><svg class='icon xr-icon-database'><use xlink:href='#icon-database'></use></svg></label><div class='xr-var-attrs'><dl class='xr-attrs'></dl></div><pre class='xr-var-data'>array([[[-2.21303863e+30,  1.60411155e+30],\n",
       "        [-1.00273710e+30,  7.74521118e+29]],\n",
       "\n",
       "       [[ 4.04294017e-02,  1.81109992e-01],\n",
       "        [ 5.84471476e-02,  8.59179236e-03]],\n",
       "\n",
       "       [[ 5.88947334e-02,  9.75930831e-02],\n",
       "        [ 3.17175678e-02,  8.90804795e-03]],\n",
       "\n",
       "       [[ 5.97320877e-02,  5.79496058e-02],\n",
       "        [ 3.09986384e-02,  9.57658503e-03]],\n",
       "\n",
       "       [[ 6.61304248e-02,  4.25447786e-02],\n",
       "        [ 3.76659645e-02,  1.09757920e-02]],\n",
       "\n",
       "       [[ 6.25039585e-02,  3.26716989e-02],\n",
       "        [ 4.19300062e-02,  1.21073983e-02]],\n",
       "\n",
       "       [[ 5.85201127e-02,  2.76911857e-02],\n",
       "        [ 5.51277547e-02,  1.34918323e-02]],\n",
       "\n",
       "       [[ 6.43414767e-02,  2.71641923e-02],\n",
       "        [ 6.24255364e-02,  1.35452806e-02]],\n",
       "\n",
       "       [[ 5.66797196e-02,  2.63391723e-02],\n",
       "        [ 4.22405843e-02,  1.77215396e-02]],\n",
       "\n",
       "       [[ 5.43948507e-02,  2.14082314e-02],\n",
       "        [ 5.52352135e-02,  2.02835063e-02]],\n",
       "\n",
       "       [[ 4.76454942e-02,  2.10982763e-02],\n",
       "        [ 4.56426594e-02,  2.15231895e-02]],\n",
       "\n",
       "       [[ 3.05453574e-02,  2.21870968e-02],\n",
       "        [ 4.73768242e-02,  2.61980244e-02]],\n",
       "\n",
       "       [[ 4.23555683e-02,  2.02631244e-02],\n",
       "        [ 3.64114381e-02,  2.87021812e-02]],\n",
       "\n",
       "       [[ 5.84666131e-02,  1.97336197e-02],\n",
       "        [ 7.77588532e-02,  2.58476365e-02]],\n",
       "\n",
       "       [[ 4.01450960e-02,  1.99306726e-02],\n",
       "        [ 5.25080077e-02,  3.04803998e-02]],\n",
       "\n",
       "       [[ 4.86841192e-02,  1.82305021e-02],\n",
       "        [ 7.22718514e-02,  3.72222148e-02]],\n",
       "\n",
       "       [[ 4.85913559e-02,  1.72523141e-02],\n",
       "        [ 4.59358457e-02,  3.75909861e-02]],\n",
       "\n",
       "       [[ 7.37384125e-02,  1.72297404e-02],\n",
       "        [ 7.03311551e-02,  3.94774079e-02]],\n",
       "\n",
       "       [[ 4.71698595e-02,  1.78308064e-02],\n",
       "        [ 6.10397143e-02,  3.96078119e-02]],\n",
       "\n",
       "       [[ 3.63607320e-02,  1.72063856e-02],\n",
       "        [ 5.87340743e-02,  4.36624162e-02]],\n",
       "\n",
       "       [[ 4.23442696e-02,  1.79158632e-02],\n",
       "        [ 5.82348583e-02,  4.79883277e-02]]])</pre></li><li class='xr-var-item'><div class='xr-var-name'><span>unc_wdir</span></div><div class='xr-var-dims'>(between_beam_angle, wind_direction, statistics)</div><div class='xr-var-dtype'>float64</div><div class='xr-var-preview xr-preview'>89.66 90.02 ... -0.3166 0.1331</div><input id='attrs-ea941ff7-7a2b-4ad4-b4f6-8052ae55187d' class='xr-var-attrs-in' type='checkbox' disabled><label for='attrs-ea941ff7-7a2b-4ad4-b4f6-8052ae55187d' title='Show/Hide attributes'><svg class='icon xr-icon-file-text2'><use xlink:href='#icon-file-text2'></use></svg></label><input id='data-9ae8889f-3f94-43bb-b472-5716d556849f' class='xr-var-data-in' type='checkbox'><label for='data-9ae8889f-3f94-43bb-b472-5716d556849f' title='Show/Hide data repr'><svg class='icon xr-icon-database'><use xlink:href='#icon-database'></use></svg></label><div class='xr-var-attrs'><dl class='xr-attrs'></dl></div><pre class='xr-var-data'>array([[[ 8.96611120e+01,  9.00226788e+01],\n",
       "        [ 2.18844927e+00,  8.99776059e+01]],\n",
       "\n",
       "       [[ 2.79549331e+01,  1.77887809e+02],\n",
       "        [ 1.57452339e-02,  4.70825867e-01]],\n",
       "\n",
       "       [[ 3.60704030e+01,  1.75748376e+02],\n",
       "        [-2.83971614e-02,  2.71368084e-01]],\n",
       "\n",
       "       [[ 6.09877477e+01,  1.61916891e+02],\n",
       "        [ 3.06672450e-02,  1.75953219e-01]],\n",
       "\n",
       "       [[-4.23782969e+01,  1.75153637e+02],\n",
       "        [ 2.18525908e-02,  1.56237842e-01]],\n",
       "\n",
       "       [[-1.04799082e+02,  1.46215954e+02],\n",
       "        [ 1.75699568e-01,  1.34114505e-01]],\n",
       "\n",
       "       [[-1.11502455e+01,  1.78223723e+02],\n",
       "        [ 4.51044736e-01,  1.29389421e-01]],\n",
       "\n",
       "       [[ 2.67051492e+01,  1.76389988e+02],\n",
       "        [-4.15031411e-01,  1.16170046e-01]],\n",
       "\n",
       "       [[ 6.09099012e+01,  1.74106276e+02],\n",
       "        [ 1.24503050e-01,  1.25588497e-01]],\n",
       "\n",
       "       [[-4.40132776e+01,  1.71660569e+02],\n",
       "        [-2.14829382e-01,  1.25446799e-01]],\n",
       "\n",
       "       [[-1.16537969e+02,  1.40041075e+02],\n",
       "        [ 2.39926554e-01,  1.22712182e-01]],\n",
       "\n",
       "       [[ 2.14230467e+01,  1.77956569e+02],\n",
       "        [-3.96020193e-02,  1.35184547e-01]],\n",
       "\n",
       "       [[ 4.73931764e+01,  1.71136734e+02],\n",
       "        [ 2.55828222e-02,  1.29303469e-01]],\n",
       "\n",
       "       [[ 1.05825005e+01,  1.79382691e+02],\n",
       "        [-5.26577720e-01,  1.23337816e-01]],\n",
       "\n",
       "       [[-2.17417256e+01,  1.79059712e+02],\n",
       "        [-1.84944201e-01,  1.32410155e-01]],\n",
       "\n",
       "       [[ 4.52034700e+01,  1.74798721e+02],\n",
       "        [ 2.11749836e-01,  1.48147169e-01]],\n",
       "\n",
       "       [[-3.78622480e+01,  1.75250534e+02],\n",
       "        [-3.50315777e-01,  1.35131855e-01]],\n",
       "\n",
       "       [[ 3.53941179e+01,  1.76504778e+02],\n",
       "        [-2.56064235e-01,  1.34418416e-01]],\n",
       "\n",
       "       [[-3.13898508e+01,  1.78334581e+02],\n",
       "        [-4.83818910e-02,  1.32619403e-01]],\n",
       "\n",
       "       [[-2.31104202e+00,  1.79016902e+02],\n",
       "        [-2.93046309e-01,  1.43409112e-01]],\n",
       "\n",
       "       [[-2.95777108e+01,  1.78338242e+02],\n",
       "        [-3.16553857e-01,  1.33124029e-01]]])</pre></li></ul></div></li><li class='xr-section-item'><input id='section-b4062dd0-1195-4b16-a075-a87cfcac5b2c' class='xr-section-summary-in' type='checkbox' disabled ><label for='section-b4062dd0-1195-4b16-a075-a87cfcac5b2c' class='xr-section-summary'  title='Expand/collapse section'>Attributes: <span>(0)</span></label><div class='xr-section-inline-details'></div><div class='xr-section-details'><dl class='xr-attrs'></dl></div></li></ul></div></div>"
      ],
      "text/plain": [
       "<xarray.Dataset>\n",
       "Dimensions:             (between_beam_angle: 21, statistics: 2, wind_direction: 2)\n",
       "Coordinates:\n",
       "  * between_beam_angle  (between_beam_angle) float64 0.0 11.42 ... 124.5 126.9\n",
       "  * wind_direction      (wind_direction) int64 0 90\n",
       "  * statistics          (statistics) <U4 'mean' 'std'\n",
       "Data variables:\n",
       "    unc_ws              (between_beam_angle, wind_direction, statistics) float64 -2.213e+30 ... 0.04799\n",
       "    unc_wdir            (between_beam_angle, wind_direction, statistics) float64 89.66 ... 0.1331"
      ]
     },
     "execution_count": 23,
     "metadata": {},
     "output_type": "execute_result"
    }
   ],
   "source": [
    "ds_unc"
   ]
  },
  {
   "cell_type": "code",
   "execution_count": 24,
   "metadata": {},
   "outputs": [],
   "source": [
    "ds_unc.to_netcdf('./assets/DD_uncertainty.nc')"
   ]
  },
  {
   "cell_type": "markdown",
   "metadata": {},
   "source": [
    "<a id='monte_carlo_results'></a>\n",
    "# Results of Monte Carlo simulations\n",
    "\n",
    "You can either analyze/plot your own results or you can directly load results from the previous Monte Carlo simulations which are located in the subdirectory `assets`. If you decide to load the results from the previous simulation execture the cell below, otherwise simply skip it and continue to the next cell after it."
   ]
  },
  {
   "cell_type": "code",
   "execution_count": 25,
   "metadata": {},
   "outputs": [],
   "source": [
    "ds_unc = xr.open_dataset('./assets/DD_uncertainty.nc')"
   ]
  },
  {
   "cell_type": "code",
   "execution_count": 31,
   "metadata": {},
   "outputs": [
    {
     "data": {
      "image/png": "[encoded data removed]",
      "text/plain": [
       "<Figure size 540x540 with 1 Axes>"
      ]
     },
     "metadata": {
      "needs_background": "light"
     },
     "output_type": "display_data"
    }
   ],
   "source": [
    "fig, ax = plt.subplots(figsize=(7.5, 7.5))\n",
    "plt.grid()\n",
    "\n",
    "\n",
    "ds_unc.unc_ws.sel(wind_direction=90, statistics='mean').plot(ax=ax, label='wind dir 90 deg')\n",
    "ds_unc.unc_ws.sel(wind_direction=0, statistics='mean').plot(ax=ax, label='wind dir 0 deg')\n",
    "plt.ylim(0,0.15)\n",
    "\n",
    "plt.xlabel('Between beam angle [deg]')\n",
    "plt.ylabel('Wind speed difference [m/s]')\n",
    "plt.title('Mean difference \\n between virtual sonic and dual-Doppler setup wind speed')\n",
    "\n",
    "plt.legend(loc=\"upper right\")\n",
    "plt.show()\n",
    "\n",
    "fig.savefig('./assets/mean-difference.png')"
   ]
  },
  {
   "cell_type": "code",
   "execution_count": 32,
   "metadata": {},
   "outputs": [
    {
     "data": {
      "image/png": "[encoded data removed]",
      "text/plain": [
       "<Figure size 540x540 with 1 Axes>"
      ]
     },
     "metadata": {
      "needs_background": "light"
     },
     "output_type": "display_data"
    }
   ],
   "source": [
    "fig, ax = plt.subplots(figsize=(7.5, 7.5))\n",
    "plt.grid()\n",
    "\n",
    "\n",
    "ds_unc.unc_ws.sel(wind_direction=90, statistics='std').plot(ax=ax, label='wind dir 90 deg')\n",
    "ds_unc.unc_ws.sel(wind_direction=0, statistics='std').plot(ax=ax, label='wind dir 0 deg')\n",
    "plt.ylim(0,0.15)\n",
    "\n",
    "plt.xlabel('Between beam angle [deg]')\n",
    "plt.ylabel('Standard deviation [m/s]')\n",
    "plt.title('Standard deviation of difference \\n between virtual sonic and dual-Doppler setup wind speed')\n",
    "\n",
    "plt.legend(loc=\"upper right\")\n",
    "plt.show()\n",
    "\n",
    "fig.savefig('./assets/wind_speed_uncertainty_dual-Doppler.png')"
   ]
  },
  {
   "cell_type": "code",
   "execution_count": null,
   "metadata": {},
   "outputs": [],
   "source": []
  }
 ],
 "metadata": {
  "kernelspec": {
   "display_name": "Python 3.7.6 64-bit ('mocalum_dev': conda)",
   "language": "python",
   "name": "python37664bitmocalumdevconda9f3d81576f37406bbe9589e581bccc6c"
  },
  "language_info": {
   "codemirror_mode": {
    "name": "ipython",
    "version": 3
   },
   "file_extension": ".py",
   "mimetype": "text/x-python",
   "name": "python",
   "nbconvert_exporter": "python",
   "pygments_lexer": "ipython3",
   "version": "3.7.6"
  }
 },
 "nbformat": 4,
 "nbformat_minor": 4
}
