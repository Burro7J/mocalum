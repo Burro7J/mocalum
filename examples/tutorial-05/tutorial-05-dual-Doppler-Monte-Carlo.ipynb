{
 "cells": [
  {
   "cell_type": "markdown",
   "metadata": {},
   "source": [
    "# <center> *mocalum* tutorial 5 <br><br> Monte-Carlo simulation for dual-Doppler configuration <center>\n",
    "\n",
    "A notebook by Nikola Vasiljević\n",
    "    \n",
    "## Introduction\n",
    "\n",
    "In tutorial we will peform Monte-Carlo simulations of dual-Doppler configuration uncertainty. We will consider two lidars whic are intersecting laser beams at a single point 100 m above ground level. Actually, this measurement point will have the same location as the center point of the PPI scan from `tutorial 4`. What we will vary in this tutorial is the between-beam angle (intersecting) of the two lidars as well the wind direction. If you are not familiar with `mocalum`, it is advisiable to go through the previous tutorials first.\n",
    "    \n",
    "If you want directly to explore earlier derives results of the Monte-Carlo simulations first import required libraries in the cell below and then go to the notebook section [Results of Monte Carlo simulations](#monte_carlo_results)."
   ]
  },
  {
   "cell_type": "code",
   "execution_count": 72,
   "metadata": {},
   "outputs": [],
   "source": [
    "import numpy as np           \n",
    "import matplotlib.pyplot as plt\n",
    "import xarray as xr\n",
    "import mocalum as mc\n",
    "\n",
    "from tqdm.notebook import trange, tqdm\n",
    "\n",
    "from mocalum_tutorial import plot_sd_scan_setup, plot_md_scan_setup, plot_bbox, plot_ffield, average_sonic"
   ]
  },
  {
   "cell_type": "code",
   "execution_count": 63,
   "metadata": {},
   "outputs": [],
   "source": [
    "# setup of fontsize for plots\n",
    "\n",
    "SMALL_SIZE = 12\n",
    "MEDIUM_SIZE = 14\n",
    "BIGGER_SIZE = 16\n",
    "\n",
    "plt.rc('font', size=MEDIUM_SIZE)          # controls default text sizes\n",
    "plt.rc('axes', titlesize=MEDIUM_SIZE)     # fontsize of the axes title\n",
    "plt.rc('axes', labelsize=MEDIUM_SIZE)    # fontsize of the x and y labels\n",
    "plt.rc('xtick', labelsize=MEDIUM_SIZE)    # fontsize of the tick labels\n",
    "plt.rc('ytick', labelsize=MEDIUM_SIZE)    # fontsize of the tick labels\n",
    "plt.rc('legend', fontsize=MEDIUM_SIZE)    # legend fontsize\n",
    "plt.rc('figure', titlesize=BIGGER_SIZE)  # fontsize of the figure title"
   ]
  },
  {
   "cell_type": "code",
   "execution_count": 64,
   "metadata": {},
   "outputs": [],
   "source": [
    "mc_dd = mc.Mocalum()"
   ]
  },
  {
   "cell_type": "markdown",
   "metadata": {},
   "source": [
    "## Initial lidar setup\n",
    "\n",
    "Lets consider two lidars we will call 'koshava' and 'sterenn' which positions we will change only along `y` coordinate, starting with co-location at the position of (0,0,0). The measurement point will be set at (1000,0,100). The two lidars will have following values for uncertainty contributors (standard uncertainty):\n",
    "- estimation uncertainty of radial velocity of 0.1 m/s \n",
    "- ranging uncertainty of 5 m\n",
    "- azimuth uncertainty of 0.1 deg\n",
    "- elevation uncertainty of 0.1 deg\n",
    "\n",
    "Currently dual-Doppler configurations don't have feature of setting up correlated uncertainties among multiple lidars:"
   ]
  },
  {
   "cell_type": "code",
   "execution_count": 83,
   "metadata": {},
   "outputs": [
    {
     "data": {
      "application/vnd.jupyter.widget-view+json": {
       "model_id": "632240d2e63f42b4bbb7e07f070794be",
       "version_major": 2,
       "version_minor": 0
      },
      "text/plain": [
       "HBox(children=(FloatProgress(value=0.0, description='Lidar separation loop', max=10.0, style=ProgressStyle(des…"
      ]
     },
     "metadata": {},
     "output_type": "display_data"
    },
    {
     "data": {
      "application/vnd.jupyter.widget-view+json": {
       "model_id": "",
       "version_major": 2,
       "version_minor": 0
      },
      "text/plain": [
       "HBox(children=(FloatProgress(value=0.0, description='Wind direction loop', max=2.0, style=ProgressStyle(descri…"
      ]
     },
     "metadata": {},
     "output_type": "display_data"
    },
    {
     "data": {
      "application/vnd.jupyter.widget-view+json": {
       "model_id": "",
       "version_major": 2,
       "version_minor": 0
      },
      "text/plain": [
       "HBox(children=(FloatProgress(value=0.0, description='Wind direction loop', max=2.0, style=ProgressStyle(descri…"
      ]
     },
     "metadata": {},
     "output_type": "display_data"
    },
    {
     "data": {
      "application/vnd.jupyter.widget-view+json": {
       "model_id": "",
       "version_major": 2,
       "version_minor": 0
      },
      "text/plain": [
       "HBox(children=(FloatProgress(value=0.0, description='Wind direction loop', max=2.0, style=ProgressStyle(descri…"
      ]
     },
     "metadata": {},
     "output_type": "display_data"
    },
    {
     "data": {
      "application/vnd.jupyter.widget-view+json": {
       "model_id": "",
       "version_major": 2,
       "version_minor": 0
      },
      "text/plain": [
       "HBox(children=(FloatProgress(value=0.0, description='Wind direction loop', max=2.0, style=ProgressStyle(descri…"
      ]
     },
     "metadata": {},
     "output_type": "display_data"
    },
    {
     "data": {
      "application/vnd.jupyter.widget-view+json": {
       "model_id": "",
       "version_major": 2,
       "version_minor": 0
      },
      "text/plain": [
       "HBox(children=(FloatProgress(value=0.0, description='Wind direction loop', max=2.0, style=ProgressStyle(descri…"
      ]
     },
     "metadata": {},
     "output_type": "display_data"
    },
    {
     "data": {
      "application/vnd.jupyter.widget-view+json": {
       "model_id": "",
       "version_major": 2,
       "version_minor": 0
      },
      "text/plain": [
       "HBox(children=(FloatProgress(value=0.0, description='Wind direction loop', max=2.0, style=ProgressStyle(descri…"
      ]
     },
     "metadata": {},
     "output_type": "display_data"
    },
    {
     "data": {
      "application/vnd.jupyter.widget-view+json": {
       "model_id": "",
       "version_major": 2,
       "version_minor": 0
      },
      "text/plain": [
       "HBox(children=(FloatProgress(value=0.0, description='Wind direction loop', max=2.0, style=ProgressStyle(descri…"
      ]
     },
     "metadata": {},
     "output_type": "display_data"
    },
    {
     "data": {
      "application/vnd.jupyter.widget-view+json": {
       "model_id": "",
       "version_major": 2,
       "version_minor": 0
      },
      "text/plain": [
       "HBox(children=(FloatProgress(value=0.0, description='Wind direction loop', max=2.0, style=ProgressStyle(descri…"
      ]
     },
     "metadata": {},
     "output_type": "display_data"
    },
    {
     "data": {
      "application/vnd.jupyter.widget-view+json": {
       "model_id": "",
       "version_major": 2,
       "version_minor": 0
      },
      "text/plain": [
       "HBox(children=(FloatProgress(value=0.0, description='Wind direction loop', max=2.0, style=ProgressStyle(descri…"
      ]
     },
     "metadata": {},
     "output_type": "display_data"
    },
    {
     "data": {
      "application/vnd.jupyter.widget-view+json": {
       "model_id": "",
       "version_major": 2,
       "version_minor": 0
      },
      "text/plain": [
       "HBox(children=(FloatProgress(value=0.0, description='Wind direction loop', max=2.0, style=ProgressStyle(descri…"
      ]
     },
     "metadata": {},
     "output_type": "display_data"
    },
    {
     "name": "stdout",
     "output_type": "stream",
     "text": [
      "\n"
     ]
    }
   ],
   "source": [
    "y_step = 100\n",
    "pts = np.array([[1000,0,100]])\n",
    "\n",
    "sim_wdir = [0,90]\n",
    "\n",
    "\n",
    "unc_cfg = {'unc_az'   : 0.1,\n",
    "           'unc_el'   : 0.1,\n",
    "           'unc_rng'  : 5,\n",
    "           'unc_est'  : 0.1,\n",
    "           'corr_coef':0}\n",
    "\n",
    "CT_cfg = {\n",
    "    'points': pts,\n",
    "    'no_scans' : 2*3*5*7*9*100,\n",
    "    'acq_time' :1,\n",
    "    'sync':True,\n",
    "}\n",
    "\n",
    "\n",
    "atmo_cfg={'wind_speed':10,\n",
    "          'upward_velocity':0,\n",
    "          'wind_from_direction': wind_from_direction,\n",
    "          'reference_height':100, # we set the reference height same as the scanned height \n",
    "          'shear_exponent':0.2}\n",
    "\n",
    "uncertainty = np.empty((len(range(0,10)),\n",
    "                        len(sim_wdir),2))\n",
    "\n",
    "\n",
    "b_angle = np.empty(10)\n",
    "for i in trange(0,10, desc =\"Lidar separation loop\"):\n",
    "\n",
    "    koshava_xyz = np.array([0,-i*y_step,0])\n",
    "    sterenn_xyz = np.array([0,i*y_step,0])\n",
    "    \n",
    "    b_angle[i] =np.degrees(np.arcsin(i*y_step/1000))*2\n",
    "\n",
    "    mc_dd.add_lidar('koshava', koshava_xyz, unc_cfg)\n",
    "    mc_dd.add_lidar('sterenn', sterenn_xyz, unc_cfg)\n",
    "\n",
    "    mc_dd.generate_complex_trajectory(['koshava', 'sterenn'],CT_cfg)    \n",
    "    \n",
    "    mc_dd.generate_uncertainties('koshava')\n",
    "    mc_dd.generate_uncertainties('sterenn')\n",
    "    \n",
    "    \n",
    "    for j, wind_from_direction in enumerate(tqdm(sim_wdir, desc =\"Wind direction loop\", leave = False)):\n",
    "\n",
    "        atmo_cfg={'wind_speed':10,\n",
    "                  'upward_velocity':0,\n",
    "                  'wind_from_direction': wind_from_direction,\n",
    "                  'reference_height':100, # we set the reference height same as the scanned height \n",
    "                  'shear_exponent':0.2}\n",
    "        \n",
    "        mc_dd.generate_flow_field(['koshava', 'sterenn'], atmo_cfg, 'turbulent')\n",
    "        mc_dd.project_to_los('koshava')\n",
    "        mc_dd.project_to_los('sterenn')\n",
    "\n",
    "\n",
    "        # virtual sonic setup/generation\n",
    "        time_steps = mc_dd.data.probing['koshava'].time.values\n",
    "        mc_dd.generate_virtual_sonic(pts, time_steps)\n",
    "\n",
    "        # average and reconstruct data\n",
    "        mc_dd.reconstruct_wind(['koshava', 'sterenn'], 'dual-Doppler',600)\n",
    "        avg_sonic_data = average_sonic(mc_IVAP.data.sonic_wind,600)    \n",
    "\n",
    "        # calculate difference:\n",
    "        diff_ds = avg_sonic_data - mc_dd.data.rc_wind\n",
    "\n",
    "        # get standard uncertainty\n",
    "        unc_ws = diff_ds.ws.std() # standard uncertainty of horizontal wind speed\n",
    "        unc_dir = diff_ds.wdir.std() # standard uncertainty of wind direction    \n",
    "        \n",
    "        uncertainty[i,j,0] = unc_ws\n",
    "        uncertainty[i,j,1] = unc_dir           "
   ]
  },
  {
   "cell_type": "code",
   "execution_count": 84,
   "metadata": {},
   "outputs": [
    {
     "data": {
      "image/png": "[encoded data removed]",
      "text/plain": [
       "<Figure size 540x540 with 2 Axes>"
      ]
     },
     "metadata": {
      "needs_background": "light"
     },
     "output_type": "display_data"
    }
   ],
   "source": [
    "# Lets plot the last dual-Doppler setup and wind field:\n",
    "plot_ffield(mc_dd)"
   ]
  },
  {
   "cell_type": "code",
   "execution_count": 86,
   "metadata": {},
   "outputs": [],
   "source": [
    "ds_unc = xr.Dataset({'unc_ws': (['between_beam_angle', 'wind_direction'], uncertainty[:,:,0]),\n",
    "                            'unc_wdir': (['between_beam_angle','wind_direction'], uncertainty[:,:,1])},\n",
    "                           coords={'between_beam_angle': b_angle,\n",
    "                                   'wind_direction': sim_wdir})"
   ]
  },
  {
   "cell_type": "code",
   "execution_count": 68,
   "metadata": {},
   "outputs": [],
   "source": [
    "ds_unc.to_netcdf('./assets/DD_uncertainty.nc')"
   ]
  },
  {
   "cell_type": "markdown",
   "metadata": {},
   "source": [
    "<a id='monte_carlo_results'></a>\n",
    "# Results of Monte Carlo simulations\n",
    "\n",
    "You can either analyze/plot your own results or you can directly load results from the previous Monte Carlo simulations which are located in the subdirectory `assets`. If you decide to load the results from the previous simulation execture the cell below, otherwise simply skip it and continue to the next cell after it."
   ]
  },
  {
   "cell_type": "code",
   "execution_count": 69,
   "metadata": {},
   "outputs": [],
   "source": [
    "ds_unc = xr.open_dataset('./assets/DD_uncertainty.nc')"
   ]
  },
  {
   "cell_type": "code",
   "execution_count": 91,
   "metadata": {},
   "outputs": [
    {
     "data": {
      "image/png": "[encoded data removed]",
      "text/plain": [
       "<Figure size 540x540 with 1 Axes>"
      ]
     },
     "metadata": {
      "needs_background": "light"
     },
     "output_type": "display_data"
    }
   ],
   "source": [
    "fig, ax = plt.subplots(figsize=(7.5, 7.5))\n",
    "plt.grid()\n",
    "\n",
    "\n",
    "ds_unc.unc_ws.sel(wind_direction=90).plot(ax=ax, label='wind dir 90 deg')\n",
    "ds_unc.unc_ws.sel(wind_direction=0).plot(ax=ax, label='wind dir 0 deg')\n",
    "plt.ylim(0,0.3)\n",
    "\n",
    "plt.xlabel('Between beam angle [deg]')\n",
    "plt.ylabel('Wind speed uncertainty [m/s]')\n",
    "plt.title('Wind speed uncertainty for dual-Doppler setup')\n",
    "\n",
    "plt.legend(loc=\"upper right\")\n",
    "plt.show()\n",
    "\n",
    "fig.savefig('./assets/wind_speed_uncertainty_dual-Doppler.png')"
   ]
  },
  {
   "cell_type": "code",
   "execution_count": null,
   "metadata": {},
   "outputs": [],
   "source": []
  }
 ],
 "metadata": {
  "kernelspec": {
   "display_name": "Python 3.7.6 64-bit ('mocalum_dev': conda)",
   "language": "python",
   "name": "python37664bitmocalumdevconda9f3d81576f37406bbe9589e581bccc6c"
  },
  "language_info": {
   "codemirror_mode": {
    "name": "ipython",
    "version": 3
   },
   "file_extension": ".py",
   "mimetype": "text/x-python",
   "name": "python",
   "nbconvert_exporter": "python",
   "pygments_lexer": "ipython3",
   "version": "3.7.6"
  }
 },
 "nbformat": 4,
 "nbformat_minor": 4
}
