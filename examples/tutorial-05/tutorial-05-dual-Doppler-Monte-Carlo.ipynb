{
 "cells": [
  {
   "cell_type": "markdown",
   "metadata": {},
   "source": [
    "# <center> *mocalum* tutorial 5 <br><br> Monte-Carlo simulation for dual-Doppler configuration <center>\n",
    "\n",
    "A notebook by Nikola Vasiljević\n",
    "    \n",
    "## Introduction\n",
    "\n",
    "In tutorial we will peform Monte-Carlo simulations of dual-Doppler configuration uncertainty. We will consider two lidars whic are intersecting laser beams at a single point 100 m above ground level. Actually, this measurement point will have the same location as the center point of the PPI scan from `tutorial 4`. What we will vary in this tutorial is the between-beam angle (intersecting) of the two lidars as well the wind direction. If you are not familiar with `mocalum`, it is advisiable to go through the previous tutorials first.\n",
    "    \n",
    "If you want directly to explore earlier derives results of the Monte-Carlo simulations first import required libraries in the cell below and then go to the notebook section [Results of Monte Carlo simulations](#monte_carlo_results)."
   ]
  },
  {
   "cell_type": "code",
   "execution_count": 5,
   "metadata": {},
   "outputs": [],
   "source": [
    "import numpy as np           \n",
    "import matplotlib.pyplot as plt\n",
    "import xarray as xr\n",
    "import mocalum as mc\n",
    "\n",
    "from tqdm.notebook import trange, tqdm\n",
    "\n",
    "from mocalum_tutorial import plot_sd_scan_setup, plot_md_scan_setup, plot_bbox, plot_ffield, average_sonic"
   ]
  },
  {
   "cell_type": "code",
   "execution_count": 6,
   "metadata": {},
   "outputs": [],
   "source": [
    "# setup of fontsize for plots\n",
    "\n",
    "SMALL_SIZE = 12\n",
    "MEDIUM_SIZE = 14\n",
    "BIGGER_SIZE = 16\n",
    "\n",
    "plt.rc('font', size=MEDIUM_SIZE)          # controls default text sizes\n",
    "plt.rc('axes', titlesize=MEDIUM_SIZE)     # fontsize of the axes title\n",
    "plt.rc('axes', labelsize=MEDIUM_SIZE)    # fontsize of the x and y labels\n",
    "plt.rc('xtick', labelsize=MEDIUM_SIZE)    # fontsize of the tick labels\n",
    "plt.rc('ytick', labelsize=MEDIUM_SIZE)    # fontsize of the tick labels\n",
    "plt.rc('legend', fontsize=MEDIUM_SIZE)    # legend fontsize\n",
    "plt.rc('figure', titlesize=BIGGER_SIZE)  # fontsize of the figure title"
   ]
  },
  {
   "cell_type": "code",
   "execution_count": 7,
   "metadata": {},
   "outputs": [],
   "source": [
    "mc_dd = mc.Mocalum()"
   ]
  },
  {
   "cell_type": "markdown",
   "metadata": {},
   "source": [
    "## Initial lidar setup\n",
    "\n",
    "Lets consider two lidars we will call 'koshava' and 'sterenn' which positions we will change only along `y` coordinate, starting with co-location at the position of (0,0,0). The measurement point will be set at (1000,0,100). The two lidars will have following values for uncertainty contributors (standard uncertainty):\n",
    "- estimation uncertainty of radial velocity of 0.1 m/s \n",
    "- ranging uncertainty of 5 m\n",
    "- azimuth uncertainty of 0.1 deg\n",
    "- elevation uncertainty of 0.1 deg\n",
    "\n",
    "Currently dual-Doppler configurations don't have feature of setting up correlated uncertainties among multiple lidars:"
   ]
  },
  {
   "cell_type": "code",
   "execution_count": 45,
   "metadata": {},
   "outputs": [
    {
     "data": {
      "application/vnd.jupyter.widget-view+json": {
       "model_id": "e63edb7676e742ffbfdb844140309dc9",
       "version_major": 2,
       "version_minor": 0
      },
      "text/plain": [
       "HBox(children=(FloatProgress(value=0.0, description='Lidar separation loop', max=10.0, style=ProgressStyle(des…"
      ]
     },
     "metadata": {},
     "output_type": "display_data"
    },
    {
     "data": {
      "application/vnd.jupyter.widget-view+json": {
       "model_id": "",
       "version_major": 2,
       "version_minor": 0
      },
      "text/plain": [
       "HBox(children=(FloatProgress(value=0.0, description='Wind direction loop', max=2.0, style=ProgressStyle(descri…"
      ]
     },
     "metadata": {},
     "output_type": "display_data"
    },
    {
     "data": {
      "application/vnd.jupyter.widget-view+json": {
       "model_id": "",
       "version_major": 2,
       "version_minor": 0
      },
      "text/plain": [
       "HBox(children=(FloatProgress(value=0.0, description='Wind direction loop', max=2.0, style=ProgressStyle(descri…"
      ]
     },
     "metadata": {},
     "output_type": "display_data"
    },
    {
     "data": {
      "application/vnd.jupyter.widget-view+json": {
       "model_id": "",
       "version_major": 2,
       "version_minor": 0
      },
      "text/plain": [
       "HBox(children=(FloatProgress(value=0.0, description='Wind direction loop', max=2.0, style=ProgressStyle(descri…"
      ]
     },
     "metadata": {},
     "output_type": "display_data"
    },
    {
     "data": {
      "application/vnd.jupyter.widget-view+json": {
       "model_id": "",
       "version_major": 2,
       "version_minor": 0
      },
      "text/plain": [
       "HBox(children=(FloatProgress(value=0.0, description='Wind direction loop', max=2.0, style=ProgressStyle(descri…"
      ]
     },
     "metadata": {},
     "output_type": "display_data"
    },
    {
     "data": {
      "application/vnd.jupyter.widget-view+json": {
       "model_id": "",
       "version_major": 2,
       "version_minor": 0
      },
      "text/plain": [
       "HBox(children=(FloatProgress(value=0.0, description='Wind direction loop', max=2.0, style=ProgressStyle(descri…"
      ]
     },
     "metadata": {},
     "output_type": "display_data"
    },
    {
     "data": {
      "application/vnd.jupyter.widget-view+json": {
       "model_id": "",
       "version_major": 2,
       "version_minor": 0
      },
      "text/plain": [
       "HBox(children=(FloatProgress(value=0.0, description='Wind direction loop', max=2.0, style=ProgressStyle(descri…"
      ]
     },
     "metadata": {},
     "output_type": "display_data"
    },
    {
     "data": {
      "application/vnd.jupyter.widget-view+json": {
       "model_id": "",
       "version_major": 2,
       "version_minor": 0
      },
      "text/plain": [
       "HBox(children=(FloatProgress(value=0.0, description='Wind direction loop', max=2.0, style=ProgressStyle(descri…"
      ]
     },
     "metadata": {},
     "output_type": "display_data"
    },
    {
     "data": {
      "application/vnd.jupyter.widget-view+json": {
       "model_id": "",
       "version_major": 2,
       "version_minor": 0
      },
      "text/plain": [
       "HBox(children=(FloatProgress(value=0.0, description='Wind direction loop', max=2.0, style=ProgressStyle(descri…"
      ]
     },
     "metadata": {},
     "output_type": "display_data"
    },
    {
     "data": {
      "application/vnd.jupyter.widget-view+json": {
       "model_id": "",
       "version_major": 2,
       "version_minor": 0
      },
      "text/plain": [
       "HBox(children=(FloatProgress(value=0.0, description='Wind direction loop', max=2.0, style=ProgressStyle(descri…"
      ]
     },
     "metadata": {},
     "output_type": "display_data"
    },
    {
     "data": {
      "application/vnd.jupyter.widget-view+json": {
       "model_id": "",
       "version_major": 2,
       "version_minor": 0
      },
      "text/plain": [
       "HBox(children=(FloatProgress(value=0.0, description='Wind direction loop', max=2.0, style=ProgressStyle(descri…"
      ]
     },
     "metadata": {},
     "output_type": "display_data"
    },
    {
     "name": "stdout",
     "output_type": "stream",
     "text": [
      "\n"
     ]
    }
   ],
   "source": [
    "y_step = 100\n",
    "pts = np.array([[1000,0,100]])\n",
    "\n",
    "sim_wdir = [0,90]\n",
    "\n",
    "\n",
    "unc_cfg = {'unc_az'   : 0.1,\n",
    "           'unc_el'   : 0.1,\n",
    "           'unc_rng'  : 5,\n",
    "           'unc_est'  : 0.1,\n",
    "           'corr_coef':0}\n",
    "\n",
    "CT_cfg = {\n",
    "    'points': pts,\n",
    "    'no_scans' : 2*3*5*7*9*100,\n",
    "    'acq_time' :1,\n",
    "    'sync':True,\n",
    "}\n",
    "\n",
    "\n",
    "uncertainty = np.empty((len(range(0,10)),\n",
    "                        len(sim_wdir),2,2))\n",
    "\n",
    "\n",
    "b_angle = np.empty(10)\n",
    "for i in trange(0,10, desc =\"Lidar separation loop\"):\n",
    "\n",
    "    koshava_xyz = np.array([0,-i*y_step,0])\n",
    "    sterenn_xyz = np.array([0,i*y_step,0])\n",
    "    \n",
    "    b_angle[i] =np.degrees(np.arcsin(i*y_step/1000))*2\n",
    "\n",
    "    mc_dd.add_lidar('koshava', koshava_xyz, unc_cfg)\n",
    "    mc_dd.add_lidar('sterenn', sterenn_xyz, unc_cfg)\n",
    "\n",
    "    mc_dd.generate_complex_trajectory(['koshava', 'sterenn'],CT_cfg)    \n",
    "    \n",
    "    mc_dd.generate_uncertainties('koshava')\n",
    "    mc_dd.generate_uncertainties('sterenn')\n",
    "    \n",
    "    \n",
    "    for j, wind_from_direction in enumerate(tqdm(sim_wdir, desc =\"Wind direction loop\", leave = False)):\n",
    "\n",
    "        atmo_cfg={'wind_speed':10,\n",
    "                  'upward_velocity':0,\n",
    "                  'wind_from_direction': wind_from_direction,\n",
    "                  'reference_height':100, # we set the reference height same as the scanned height \n",
    "                  'shear_exponent':0.2}\n",
    "        \n",
    "        mc_dd.generate_flow_field(['koshava', 'sterenn'], atmo_cfg, 'turbulent')\n",
    "        mc_dd.project_to_los('koshava')\n",
    "        mc_dd.project_to_los('sterenn')\n",
    "\n",
    "\n",
    "        # virtual sonic setup/generation\n",
    "        time_steps = mc_dd.data.probing['koshava'].time.values\n",
    "        mc_dd.generate_virtual_sonic(pts, time_steps)\n",
    "\n",
    "        # average and reconstruct data\n",
    "        mc_dd.reconstruct_wind(['koshava', 'sterenn'], 'dual-Doppler',600)\n",
    "        avg_sonic_data = average_sonic(mc_dd.data.sonic_wind,600)    \n",
    "\n",
    "        # calculate difference:\n",
    "        diff_ds = avg_sonic_data - mc_dd.data.rc_wind\n",
    "\n",
    "        # get standard uncertainty\n",
    "        unc_ws = diff_ds.ws.std() # standard uncertainty of horizontal wind speed\n",
    "        unc_dir = diff_ds.wdir.std() # standard uncertainty of wind direction\n",
    "        \n",
    "        uncertainty[i,j,0] = np.array([diff_ds.ws.mean(), diff_ds.ws.std()])\n",
    "        uncertainty[i,j,1] = np.array([diff_ds.wdir.mean(), diff_ds.wdir.std()])           "
   ]
  },
  {
   "cell_type": "code",
   "execution_count": 46,
   "metadata": {},
   "outputs": [
    {
     "data": {
      "image/png": "[encoded data removed]",
      "text/plain": [
       "<Figure size 540x540 with 2 Axes>"
      ]
     },
     "metadata": {
      "needs_background": "light"
     },
     "output_type": "display_data"
    }
   ],
   "source": [
    "# Lets plot the last dual-Doppler setup and wind field:\n",
    "plot_ffield(mc_dd)"
   ]
  },
  {
   "cell_type": "code",
   "execution_count": 54,
   "metadata": {},
   "outputs": [],
   "source": [
    "ds_unc = xr.Dataset({'unc_ws': (['between_beam_angle', 'wind_direction', 'statistics'], uncertainty[:,:,0]),\n",
    "                            'unc_wdir': (['between_beam_angle','wind_direction', 'statistics'], uncertainty[:,:,1])},\n",
    "                           coords={'between_beam_angle': b_angle,\n",
    "                                   'wind_direction': sim_wdir,\n",
    "                                  'statistics': ['mean', 'std']})"
   ]
  },
  {
   "cell_type": "code",
   "execution_count": 55,
   "metadata": {},
   "outputs": [
    {
     "data": {
      "text/html": [
       "<div><svg style=\"position: absolute; width: 0; height: 0; overflow: hidden\">\n",
       "<defs>\n",
       "<symbol id=\"icon-database\" viewBox=\"0 0 32 32\">\n",
       "<title>Show/Hide data repr</title>\n",
       "<path d=\"M16 0c-8.837 0-16 2.239-16 5v4c0 2.761 7.163 5 16 5s16-2.239 16-5v-4c0-2.761-7.163-5-16-5z\"></path>\n",
       "<path d=\"M16 17c-8.837 0-16-2.239-16-5v6c0 2.761 7.163 5 16 5s16-2.239 16-5v-6c0 2.761-7.163 5-16 5z\"></path>\n",
       "<path d=\"M16 26c-8.837 0-16-2.239-16-5v6c0 2.761 7.163 5 16 5s16-2.239 16-5v-6c0 2.761-7.163 5-16 5z\"></path>\n",
       "</symbol>\n",
       "<symbol id=\"icon-file-text2\" viewBox=\"0 0 32 32\">\n",
       "<title>Show/Hide attributes</title>\n",
       "<path d=\"M28.681 7.159c-0.694-0.947-1.662-2.053-2.724-3.116s-2.169-2.030-3.116-2.724c-1.612-1.182-2.393-1.319-2.841-1.319h-15.5c-1.378 0-2.5 1.121-2.5 2.5v27c0 1.378 1.122 2.5 2.5 2.5h23c1.378 0 2.5-1.122 2.5-2.5v-19.5c0-0.448-0.137-1.23-1.319-2.841zM24.543 5.457c0.959 0.959 1.712 1.825 2.268 2.543h-4.811v-4.811c0.718 0.556 1.584 1.309 2.543 2.268zM28 29.5c0 0.271-0.229 0.5-0.5 0.5h-23c-0.271 0-0.5-0.229-0.5-0.5v-27c0-0.271 0.229-0.5 0.5-0.5 0 0 15.499-0 15.5 0v7c0 0.552 0.448 1 1 1h7v19.5z\"></path>\n",
       "<path d=\"M23 26h-14c-0.552 0-1-0.448-1-1s0.448-1 1-1h14c0.552 0 1 0.448 1 1s-0.448 1-1 1z\"></path>\n",
       "<path d=\"M23 22h-14c-0.552 0-1-0.448-1-1s0.448-1 1-1h14c0.552 0 1 0.448 1 1s-0.448 1-1 1z\"></path>\n",
       "<path d=\"M23 18h-14c-0.552 0-1-0.448-1-1s0.448-1 1-1h14c0.552 0 1 0.448 1 1s-0.448 1-1 1z\"></path>\n",
       "</symbol>\n",
       "</defs>\n",
       "</svg>\n",
       "<style>/* CSS stylesheet for displaying xarray objects in jupyterlab.\n",
       " *\n",
       " */\n",
       "\n",
       ":root {\n",
       "  --xr-font-color0: var(--jp-content-font-color0, rgba(0, 0, 0, 1));\n",
       "  --xr-font-color2: var(--jp-content-font-color2, rgba(0, 0, 0, 0.54));\n",
       "  --xr-font-color3: var(--jp-content-font-color3, rgba(0, 0, 0, 0.38));\n",
       "  --xr-border-color: var(--jp-border-color2, #e0e0e0);\n",
       "  --xr-disabled-color: var(--jp-layout-color3, #bdbdbd);\n",
       "  --xr-background-color: var(--jp-layout-color0, white);\n",
       "  --xr-background-color-row-even: var(--jp-layout-color1, white);\n",
       "  --xr-background-color-row-odd: var(--jp-layout-color2, #eeeeee);\n",
       "}\n",
       "\n",
       ".xr-wrap {\n",
       "  min-width: 300px;\n",
       "  max-width: 700px;\n",
       "}\n",
       "\n",
       ".xr-header {\n",
       "  padding-top: 6px;\n",
       "  padding-bottom: 6px;\n",
       "  margin-bottom: 4px;\n",
       "  border-bottom: solid 1px var(--xr-border-color);\n",
       "}\n",
       "\n",
       ".xr-header > div,\n",
       ".xr-header > ul {\n",
       "  display: inline;\n",
       "  margin-top: 0;\n",
       "  margin-bottom: 0;\n",
       "}\n",
       "\n",
       ".xr-obj-type,\n",
       ".xr-array-name {\n",
       "  margin-left: 2px;\n",
       "  margin-right: 10px;\n",
       "}\n",
       "\n",
       ".xr-obj-type {\n",
       "  color: var(--xr-font-color2);\n",
       "}\n",
       "\n",
       ".xr-sections {\n",
       "  padding-left: 0 !important;\n",
       "  display: grid;\n",
       "  grid-template-columns: 150px auto auto 1fr 20px 20px;\n",
       "}\n",
       "\n",
       ".xr-section-item {\n",
       "  display: contents;\n",
       "}\n",
       "\n",
       ".xr-section-item input {\n",
       "  display: none;\n",
       "}\n",
       "\n",
       ".xr-section-item input + label {\n",
       "  color: var(--xr-disabled-color);\n",
       "}\n",
       "\n",
       ".xr-section-item input:enabled + label {\n",
       "  cursor: pointer;\n",
       "  color: var(--xr-font-color2);\n",
       "}\n",
       "\n",
       ".xr-section-item input:enabled + label:hover {\n",
       "  color: var(--xr-font-color0);\n",
       "}\n",
       "\n",
       ".xr-section-summary {\n",
       "  grid-column: 1;\n",
       "  color: var(--xr-font-color2);\n",
       "  font-weight: 500;\n",
       "}\n",
       "\n",
       ".xr-section-summary > span {\n",
       "  display: inline-block;\n",
       "  padding-left: 0.5em;\n",
       "}\n",
       "\n",
       ".xr-section-summary-in:disabled + label {\n",
       "  color: var(--xr-font-color2);\n",
       "}\n",
       "\n",
       ".xr-section-summary-in + label:before {\n",
       "  display: inline-block;\n",
       "  content: '►';\n",
       "  font-size: 11px;\n",
       "  width: 15px;\n",
       "  text-align: center;\n",
       "}\n",
       "\n",
       ".xr-section-summary-in:disabled + label:before {\n",
       "  color: var(--xr-disabled-color);\n",
       "}\n",
       "\n",
       ".xr-section-summary-in:checked + label:before {\n",
       "  content: '▼';\n",
       "}\n",
       "\n",
       ".xr-section-summary-in:checked + label > span {\n",
       "  display: none;\n",
       "}\n",
       "\n",
       ".xr-section-summary,\n",
       ".xr-section-inline-details {\n",
       "  padding-top: 4px;\n",
       "  padding-bottom: 4px;\n",
       "}\n",
       "\n",
       ".xr-section-inline-details {\n",
       "  grid-column: 2 / -1;\n",
       "}\n",
       "\n",
       ".xr-section-details {\n",
       "  display: none;\n",
       "  grid-column: 1 / -1;\n",
       "  margin-bottom: 5px;\n",
       "}\n",
       "\n",
       ".xr-section-summary-in:checked ~ .xr-section-details {\n",
       "  display: contents;\n",
       "}\n",
       "\n",
       ".xr-array-wrap {\n",
       "  grid-column: 1 / -1;\n",
       "  display: grid;\n",
       "  grid-template-columns: 20px auto;\n",
       "}\n",
       "\n",
       ".xr-array-wrap > label {\n",
       "  grid-column: 1;\n",
       "  vertical-align: top;\n",
       "}\n",
       "\n",
       ".xr-preview {\n",
       "  color: var(--xr-font-color3);\n",
       "}\n",
       "\n",
       ".xr-array-preview,\n",
       ".xr-array-data {\n",
       "  padding: 0 5px !important;\n",
       "  grid-column: 2;\n",
       "}\n",
       "\n",
       ".xr-array-data,\n",
       ".xr-array-in:checked ~ .xr-array-preview {\n",
       "  display: none;\n",
       "}\n",
       "\n",
       ".xr-array-in:checked ~ .xr-array-data,\n",
       ".xr-array-preview {\n",
       "  display: inline-block;\n",
       "}\n",
       "\n",
       ".xr-dim-list {\n",
       "  display: inline-block !important;\n",
       "  list-style: none;\n",
       "  padding: 0 !important;\n",
       "  margin: 0;\n",
       "}\n",
       "\n",
       ".xr-dim-list li {\n",
       "  display: inline-block;\n",
       "  padding: 0;\n",
       "  margin: 0;\n",
       "}\n",
       "\n",
       ".xr-dim-list:before {\n",
       "  content: '(';\n",
       "}\n",
       "\n",
       ".xr-dim-list:after {\n",
       "  content: ')';\n",
       "}\n",
       "\n",
       ".xr-dim-list li:not(:last-child):after {\n",
       "  content: ',';\n",
       "  padding-right: 5px;\n",
       "}\n",
       "\n",
       ".xr-has-index {\n",
       "  font-weight: bold;\n",
       "}\n",
       "\n",
       ".xr-var-list,\n",
       ".xr-var-item {\n",
       "  display: contents;\n",
       "}\n",
       "\n",
       ".xr-var-item > div,\n",
       ".xr-var-item label,\n",
       ".xr-var-item > .xr-var-name span {\n",
       "  background-color: var(--xr-background-color-row-even);\n",
       "  margin-bottom: 0;\n",
       "}\n",
       "\n",
       ".xr-var-item > .xr-var-name:hover span {\n",
       "  padding-right: 5px;\n",
       "}\n",
       "\n",
       ".xr-var-list > li:nth-child(odd) > div,\n",
       ".xr-var-list > li:nth-child(odd) > label,\n",
       ".xr-var-list > li:nth-child(odd) > .xr-var-name span {\n",
       "  background-color: var(--xr-background-color-row-odd);\n",
       "}\n",
       "\n",
       ".xr-var-name {\n",
       "  grid-column: 1;\n",
       "}\n",
       "\n",
       ".xr-var-dims {\n",
       "  grid-column: 2;\n",
       "}\n",
       "\n",
       ".xr-var-dtype {\n",
       "  grid-column: 3;\n",
       "  text-align: right;\n",
       "  color: var(--xr-font-color2);\n",
       "}\n",
       "\n",
       ".xr-var-preview {\n",
       "  grid-column: 4;\n",
       "}\n",
       "\n",
       ".xr-var-name,\n",
       ".xr-var-dims,\n",
       ".xr-var-dtype,\n",
       ".xr-preview,\n",
       ".xr-attrs dt {\n",
       "  white-space: nowrap;\n",
       "  overflow: hidden;\n",
       "  text-overflow: ellipsis;\n",
       "  padding-right: 10px;\n",
       "}\n",
       "\n",
       ".xr-var-name:hover,\n",
       ".xr-var-dims:hover,\n",
       ".xr-var-dtype:hover,\n",
       ".xr-attrs dt:hover {\n",
       "  overflow: visible;\n",
       "  width: auto;\n",
       "  z-index: 1;\n",
       "}\n",
       "\n",
       ".xr-var-attrs,\n",
       ".xr-var-data {\n",
       "  display: none;\n",
       "  background-color: var(--xr-background-color) !important;\n",
       "  padding-bottom: 5px !important;\n",
       "}\n",
       "\n",
       ".xr-var-attrs-in:checked ~ .xr-var-attrs,\n",
       ".xr-var-data-in:checked ~ .xr-var-data {\n",
       "  display: block;\n",
       "}\n",
       "\n",
       ".xr-var-data > table {\n",
       "  float: right;\n",
       "}\n",
       "\n",
       ".xr-var-name span,\n",
       ".xr-var-data,\n",
       ".xr-attrs {\n",
       "  padding-left: 25px !important;\n",
       "}\n",
       "\n",
       ".xr-attrs,\n",
       ".xr-var-attrs,\n",
       ".xr-var-data {\n",
       "  grid-column: 1 / -1;\n",
       "}\n",
       "\n",
       "dl.xr-attrs {\n",
       "  padding: 0;\n",
       "  margin: 0;\n",
       "  display: grid;\n",
       "  grid-template-columns: 125px auto;\n",
       "}\n",
       "\n",
       ".xr-attrs dt, dd {\n",
       "  padding: 0;\n",
       "  margin: 0;\n",
       "  float: left;\n",
       "  padding-right: 10px;\n",
       "  width: auto;\n",
       "}\n",
       "\n",
       ".xr-attrs dt {\n",
       "  font-weight: normal;\n",
       "  grid-column: 1;\n",
       "}\n",
       "\n",
       ".xr-attrs dt:hover span {\n",
       "  display: inline-block;\n",
       "  background: var(--xr-background-color);\n",
       "  padding-right: 10px;\n",
       "}\n",
       "\n",
       ".xr-attrs dd {\n",
       "  grid-column: 2;\n",
       "  white-space: pre-wrap;\n",
       "  word-break: break-all;\n",
       "}\n",
       "\n",
       ".xr-icon-database,\n",
       ".xr-icon-file-text2 {\n",
       "  display: inline-block;\n",
       "  vertical-align: middle;\n",
       "  width: 1em;\n",
       "  height: 1.5em !important;\n",
       "  stroke-width: 0;\n",
       "  stroke: currentColor;\n",
       "  fill: currentColor;\n",
       "}\n",
       "</style><div class='xr-wrap'><div class='xr-header'><div class='xr-obj-type'>xarray.Dataset</div></div><ul class='xr-sections'><li class='xr-section-item'><input id='section-64099e02-4560-4afd-b241-530c7f1c7be3' class='xr-section-summary-in' type='checkbox' disabled ><label for='section-64099e02-4560-4afd-b241-530c7f1c7be3' class='xr-section-summary'  title='Expand/collapse section'>Dimensions:</label><div class='xr-section-inline-details'><ul class='xr-dim-list'><li><span class='xr-has-index'>between_beam_angle</span>: 10</li><li><span class='xr-has-index'>statistics</span>: 2</li><li><span class='xr-has-index'>wind_direction</span>: 2</li></ul></div><div class='xr-section-details'></div></li><li class='xr-section-item'><input id='section-7cc3bbe9-68c2-4e0a-9d74-0e227852d4c3' class='xr-section-summary-in' type='checkbox'  checked><label for='section-7cc3bbe9-68c2-4e0a-9d74-0e227852d4c3' class='xr-section-summary' >Coordinates: <span>(3)</span></label><div class='xr-section-inline-details'></div><div class='xr-section-details'><ul class='xr-var-list'><li class='xr-var-item'><div class='xr-var-name'><span class='xr-has-index'>between_beam_angle</span></div><div class='xr-var-dims'>(between_beam_angle)</div><div class='xr-var-dtype'>float64</div><div class='xr-var-preview xr-preview'>0.0 11.48 23.07 ... 106.3 128.3</div><input id='attrs-c6e12e77-a4fc-4782-acd2-e193422031ca' class='xr-var-attrs-in' type='checkbox' disabled><label for='attrs-c6e12e77-a4fc-4782-acd2-e193422031ca' title='Show/Hide attributes'><svg class='icon xr-icon-file-text2'><use xlink:href='#icon-file-text2'></use></svg></label><input id='data-867e74cf-4f69-4cd6-81ff-dc0989dfc923' class='xr-var-data-in' type='checkbox'><label for='data-867e74cf-4f69-4cd6-81ff-dc0989dfc923' title='Show/Hide data repr'><svg class='icon xr-icon-database'><use xlink:href='#icon-database'></use></svg></label><div class='xr-var-attrs'><dl class='xr-attrs'></dl></div><pre class='xr-var-data'>array([  0.      ,  11.478341,  23.073918,  34.915206,  47.156357,  60.      ,\n",
       "        73.739795,  88.854008, 106.260205, 128.316134])</pre></li><li class='xr-var-item'><div class='xr-var-name'><span class='xr-has-index'>wind_direction</span></div><div class='xr-var-dims'>(wind_direction)</div><div class='xr-var-dtype'>int64</div><div class='xr-var-preview xr-preview'>0 90</div><input id='attrs-88bc9c7e-d4a9-4f05-b4c9-af3aa055346d' class='xr-var-attrs-in' type='checkbox' disabled><label for='attrs-88bc9c7e-d4a9-4f05-b4c9-af3aa055346d' title='Show/Hide attributes'><svg class='icon xr-icon-file-text2'><use xlink:href='#icon-file-text2'></use></svg></label><input id='data-d7bda2dc-af3c-4c77-8e45-74d8c7715fb2' class='xr-var-data-in' type='checkbox'><label for='data-d7bda2dc-af3c-4c77-8e45-74d8c7715fb2' title='Show/Hide data repr'><svg class='icon xr-icon-database'><use xlink:href='#icon-database'></use></svg></label><div class='xr-var-attrs'><dl class='xr-attrs'></dl></div><pre class='xr-var-data'>array([ 0, 90])</pre></li><li class='xr-var-item'><div class='xr-var-name'><span class='xr-has-index'>statistics</span></div><div class='xr-var-dims'>(statistics)</div><div class='xr-var-dtype'>&lt;U4</div><div class='xr-var-preview xr-preview'>&#x27;mean&#x27; &#x27;std&#x27;</div><input id='attrs-86b1f910-6a7b-45d4-b50e-c68b6c56ba65' class='xr-var-attrs-in' type='checkbox' disabled><label for='attrs-86b1f910-6a7b-45d4-b50e-c68b6c56ba65' title='Show/Hide attributes'><svg class='icon xr-icon-file-text2'><use xlink:href='#icon-file-text2'></use></svg></label><input id='data-1500d20a-f4ff-466b-90d0-76cbdcb365e1' class='xr-var-data-in' type='checkbox'><label for='data-1500d20a-f4ff-466b-90d0-76cbdcb365e1' title='Show/Hide data repr'><svg class='icon xr-icon-database'><use xlink:href='#icon-database'></use></svg></label><div class='xr-var-attrs'><dl class='xr-attrs'></dl></div><pre class='xr-var-data'>array([&#x27;mean&#x27;, &#x27;std&#x27;], dtype=&#x27;&lt;U4&#x27;)</pre></li></ul></div></li><li class='xr-section-item'><input id='section-e7d36efc-ed0c-46d5-a25f-17343c60f418' class='xr-section-summary-in' type='checkbox'  checked><label for='section-e7d36efc-ed0c-46d5-a25f-17343c60f418' class='xr-section-summary' >Data variables: <span>(2)</span></label><div class='xr-section-inline-details'></div><div class='xr-section-details'><ul class='xr-var-list'><li class='xr-var-item'><div class='xr-var-name'><span>unc_ws</span></div><div class='xr-var-dims'>(between_beam_angle, wind_direction, statistics)</div><div class='xr-var-dtype'>float64</div><div class='xr-var-preview xr-preview'>-2.371e+30 1.691e+30 ... 0.02092</div><input id='attrs-321b80d3-a6c4-4f57-b2ad-97cc846e4f3c' class='xr-var-attrs-in' type='checkbox' disabled><label for='attrs-321b80d3-a6c4-4f57-b2ad-97cc846e4f3c' title='Show/Hide attributes'><svg class='icon xr-icon-file-text2'><use xlink:href='#icon-file-text2'></use></svg></label><input id='data-c2ad3365-621b-4090-8a4e-ed1e6c85ad36' class='xr-var-data-in' type='checkbox'><label for='data-c2ad3365-621b-4090-8a4e-ed1e6c85ad36' title='Show/Hide data repr'><svg class='icon xr-icon-database'><use xlink:href='#icon-database'></use></svg></label><div class='xr-var-attrs'><dl class='xr-attrs'></dl></div><pre class='xr-var-data'>array([[[-2.37087205e+30,  1.69077169e+30],\n",
       "        [-1.09148288e+30,  8.68360791e+29]],\n",
       "\n",
       "       [[ 8.21158547e-02,  1.58549409e-01],\n",
       "        [ 5.76714196e-02,  8.75841947e-03]],\n",
       "\n",
       "       [[ 5.44929608e-02,  8.83481403e-02],\n",
       "        [ 4.26872948e-02,  8.70405442e-03]],\n",
       "\n",
       "       [[ 7.14888978e-02,  5.83173353e-02],\n",
       "        [ 4.83398454e-02,  8.87495640e-03]],\n",
       "\n",
       "       [[ 6.41656523e-02,  4.11089665e-02],\n",
       "        [ 4.72634144e-02,  1.07251468e-02]],\n",
       "\n",
       "       [[ 7.56437258e-02,  3.36441518e-02],\n",
       "        [ 5.36711039e-02,  1.09769944e-02]],\n",
       "\n",
       "       [[ 5.56965985e-02,  3.03340403e-02],\n",
       "        [ 5.39678578e-02,  1.33668597e-02]],\n",
       "\n",
       "       [[ 7.74077363e-02,  2.64646463e-02],\n",
       "        [ 5.22100839e-02,  1.51920487e-02]],\n",
       "\n",
       "       [[ 4.94378856e-02,  2.35868001e-02],\n",
       "        [ 3.78417435e-02,  1.57600826e-02]],\n",
       "\n",
       "       [[ 3.22898956e-02,  2.36763888e-02],\n",
       "        [ 3.93821629e-02,  2.09161330e-02]]])</pre></li><li class='xr-var-item'><div class='xr-var-name'><span>unc_wdir</span></div><div class='xr-var-dims'>(between_beam_angle, wind_direction, statistics)</div><div class='xr-var-dtype'>float64</div><div class='xr-var-preview xr-preview'>82.82 89.9 ... -0.1359 0.1352</div><input id='attrs-dacdadae-df7a-4500-9ec2-145179f7a773' class='xr-var-attrs-in' type='checkbox' disabled><label for='attrs-dacdadae-df7a-4500-9ec2-145179f7a773' title='Show/Hide attributes'><svg class='icon xr-icon-file-text2'><use xlink:href='#icon-file-text2'></use></svg></label><input id='data-0792288e-b994-4f75-924a-0b708643e4b2' class='xr-var-data-in' type='checkbox'><label for='data-0792288e-b994-4f75-924a-0b708643e4b2' title='Show/Hide data repr'><svg class='icon xr-icon-database'><use xlink:href='#icon-database'></use></svg></label><div class='xr-var-attrs'><dl class='xr-attrs'></dl></div><pre class='xr-var-data'>array([[[ 8.28197009e+01,  8.99034500e+01],\n",
       "        [-3.55586476e+00,  8.99244020e+01]],\n",
       "\n",
       "       [[-9.90900657e+00,  1.79883136e+02],\n",
       "        [-4.36564042e-01,  4.38639836e-01]],\n",
       "\n",
       "       [[-2.66527044e+01,  1.78182870e+02],\n",
       "        [-7.40370285e-03,  2.77821272e-01]],\n",
       "\n",
       "       [[ 1.67509579e+01,  1.76609984e+02],\n",
       "        [ 2.07985362e-02,  1.75713262e-01]],\n",
       "\n",
       "       [[ 1.19258050e+02,  1.44643041e+02],\n",
       "        [ 1.26878254e-01,  1.55923791e-01]],\n",
       "\n",
       "       [[ 1.17374241e+02,  1.40980916e+02],\n",
       "        [-1.30572951e-01,  1.36672191e-01]],\n",
       "\n",
       "       [[-1.35373638e+01,  1.79328925e+02],\n",
       "        [ 9.71264219e-02,  1.40735687e-01]],\n",
       "\n",
       "       [[ 1.28966618e+01,  1.79582625e+02],\n",
       "        [ 3.08661470e-01,  1.25947525e-01]],\n",
       "\n",
       "       [[-7.43273767e+01,  1.63477704e+02],\n",
       "        [-5.58623102e-02,  1.31854584e-01]],\n",
       "\n",
       "       [[ 1.61936389e+01,  1.77575917e+02],\n",
       "        [-1.35913837e-01,  1.35177358e-01]]])</pre></li></ul></div></li><li class='xr-section-item'><input id='section-3f29006d-97c4-492c-94b2-f2f4ed65e3f3' class='xr-section-summary-in' type='checkbox' disabled ><label for='section-3f29006d-97c4-492c-94b2-f2f4ed65e3f3' class='xr-section-summary'  title='Expand/collapse section'>Attributes: <span>(0)</span></label><div class='xr-section-inline-details'></div><div class='xr-section-details'><dl class='xr-attrs'></dl></div></li></ul></div></div>"
      ],
      "text/plain": [
       "<xarray.Dataset>\n",
       "Dimensions:             (between_beam_angle: 10, statistics: 2, wind_direction: 2)\n",
       "Coordinates:\n",
       "  * between_beam_angle  (between_beam_angle) float64 0.0 11.48 ... 106.3 128.3\n",
       "  * wind_direction      (wind_direction) int64 0 90\n",
       "  * statistics          (statistics) <U4 'mean' 'std'\n",
       "Data variables:\n",
       "    unc_ws              (between_beam_angle, wind_direction, statistics) float64 -2.371e+30 ... 0.02092\n",
       "    unc_wdir            (between_beam_angle, wind_direction, statistics) float64 82.82 ... 0.1352"
      ]
     },
     "execution_count": 55,
     "metadata": {},
     "output_type": "execute_result"
    }
   ],
   "source": [
    "ds_unc"
   ]
  },
  {
   "cell_type": "code",
   "execution_count": null,
   "metadata": {},
   "outputs": [],
   "source": [
    "ds_unc.to_netcdf('./assets/DD_uncertainty.nc')"
   ]
  },
  {
   "cell_type": "markdown",
   "metadata": {},
   "source": [
    "<a id='monte_carlo_results'></a>\n",
    "# Results of Monte Carlo simulations\n",
    "\n",
    "You can either analyze/plot your own results or you can directly load results from the previous Monte Carlo simulations which are located in the subdirectory `assets`. If you decide to load the results from the previous simulation execture the cell below, otherwise simply skip it and continue to the next cell after it."
   ]
  },
  {
   "cell_type": "code",
   "execution_count": 28,
   "metadata": {},
   "outputs": [],
   "source": [
    "ds_unc = xr.open_dataset('./assets/DD_uncertainty.nc')"
   ]
  },
  {
   "cell_type": "code",
   "execution_count": 41,
   "metadata": {},
   "outputs": [
    {
     "data": {
      "image/png": "[encoded data removed]",
      "text/plain": [
       "<Figure size 540x540 with 1 Axes>"
      ]
     },
     "metadata": {
      "needs_background": "light"
     },
     "output_type": "display_data"
    }
   ],
   "source": [
    "fig, ax = plt.subplots(figsize=(7.5, 7.5))\n",
    "plt.grid()\n",
    "\n",
    "\n",
    "ds_unc.unc_ws.sel(wind_direction=90, statistics='mean').plot(ax=ax, label='wind dir 90 deg')\n",
    "ds_unc.unc_ws.sel(wind_direction=0, statistics='mean').plot(ax=ax, label='wind dir 0 deg')\n",
    "plt.ylim(0,0.3)\n",
    "\n",
    "plt.xlabel('Between beam angle [deg]')\n",
    "plt.ylabel('Wind speed difference [m/s]')\n",
    "plt.title('Mean difference \\n between virtual sonic and dual-Doppler setup wind speed')\n",
    "\n",
    "plt.legend(loc=\"upper right\")\n",
    "plt.show()\n",
    "\n",
    "fig.savefig('./assets/mean-difference.png')"
   ]
  },
  {
   "cell_type": "code",
   "execution_count": 44,
   "metadata": {},
   "outputs": [
    {
     "data": {
      "image/png": "[encoded data removed]",
      "text/plain": [
       "<Figure size 540x540 with 1 Axes>"
      ]
     },
     "metadata": {
      "needs_background": "light"
     },
     "output_type": "display_data"
    }
   ],
   "source": [
    "fig, ax = plt.subplots(figsize=(7.5, 7.5))\n",
    "plt.grid()\n",
    "\n",
    "\n",
    "ds_unc.unc_ws.sel(wind_direction=90, statistics='std').plot(ax=ax, label='wind dir 90 deg')\n",
    "ds_unc.unc_ws.sel(wind_direction=0, statistics='std').plot(ax=ax, label='wind dir 0 deg')\n",
    "plt.ylim(0,0.15)\n",
    "\n",
    "plt.xlabel('Between beam angle [deg]')\n",
    "plt.ylabel('Standard deviation [m/s]')\n",
    "plt.title('Standard deviation of difference \\n between virtual sonic and dual-Doppler setup wind speed')\n",
    "\n",
    "plt.legend(loc=\"upper right\")\n",
    "plt.show()\n",
    "\n",
    "fig.savefig('./assets/wind_speed_uncertainty_dual-Doppler.png')"
   ]
  },
  {
   "cell_type": "code",
   "execution_count": null,
   "metadata": {},
   "outputs": [],
   "source": []
  }
 ],
 "metadata": {
  "kernelspec": {
   "display_name": "Python 3.7.6 64-bit ('mocalum_dev': conda)",
   "language": "python",
   "name": "python37664bitmocalumdevconda9f3d81576f37406bbe9589e581bccc6c"
  },
  "language_info": {
   "codemirror_mode": {
    "name": "ipython",
    "version": 3
   },
   "file_extension": ".py",
   "mimetype": "text/x-python",
   "name": "python",
   "nbconvert_exporter": "python",
   "pygments_lexer": "ipython3",
   "version": "3.7.6"
  }
 },
 "nbformat": 4,
 "nbformat_minor": 4
}
