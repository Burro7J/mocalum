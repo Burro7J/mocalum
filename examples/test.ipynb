{
 "cells": [
  {
   "cell_type": "code",
   "execution_count": 1,
   "metadata": {},
   "outputs": [],
   "source": [
    "import numpy as np\n",
    "import matplotlib.pyplot as plt\n",
    "import mocalum as mc\n",
    "import xarray as xr\n",
    "import time"
   ]
  },
  {
   "cell_type": "code",
   "execution_count": 2,
   "metadata": {},
   "outputs": [],
   "source": [
    "# single wind config MC setup\n",
    "koshava_xyz = [0, 0, 0]\n",
    "no_scans = 10000\n",
    "# wind field setup\n",
    "ref_height = 100      # power law reference height\n",
    "meas_height = 100 \n",
    "shear_exponent = 0.2  # power law shear exponent\n",
    "wind_speed = 10       # wind speed at referenec height\n",
    "wind_dir = 180        # wind direction\n",
    "w = 0\n",
    "\n",
    "# beam steering setup\n",
    "distance = 1000   # meter\n",
    "elevation = np.degrees(np.arcsin(meas_height / distance))\n",
    "angular_res = 1   # degree\n",
    "azimuth_mid = 90   # central azimuth angle\n",
    "sector_size = 30  # degree\n",
    "scan_speed = 1    # degree.s^-1\n",
    "max_speed = 50    # degree.s^-1\n",
    "max_acc = 100     # degree.s^-2\n",
    "\n",
    "# Uncertainty terms\n",
    "no_sim = 10000 # number of simulations\n",
    "corr_coef = 0   # correlation coefficient\n",
    "mu = 0         # we assume no systematic uncertainty\n",
    "azim_std = 0.1 # degrees\n",
    "elev_std = 0.1 # degrees\n",
    "dis_std = 10   # meters\n",
    "rad_std = 0.1  # m.s-1"
   ]
  },
  {
   "cell_type": "code",
   "execution_count": 3,
   "metadata": {},
   "outputs": [],
   "source": [
    "tmp = mc.Mocalum()\n",
    "tmp.x_res = tmp.y_res = 10"
   ]
  },
  {
   "cell_type": "code",
   "execution_count": 4,
   "metadata": {},
   "outputs": [
    {
     "name": "stdout",
     "output_type": "stream",
     "text": [
      "0.04108178989627296\n",
      "0.02418835177910149\n",
      "0.01966984639086382\n",
      "0.017221332057256\n",
      "0.015395454613397556\n",
      "0.014429891581224963\n",
      "0.013677977702596829\n",
      "0.01286404545773255\n",
      "0.012345404246856866\n"
     ]
    }
   ],
   "source": [
    "for sectrsz in range(10,100,10):\n",
    "    tmp.set_ivap_probing(koshava_xyz, sectrsz, azimuth_mid, angular_res, elevation, distance, \n",
    "                        no_scans, scan_speed, max_speed,max_acc)\n",
    "\n",
    "    tmp.gen_unc_contributors(corr_coef)\n",
    "    tmp.gen_plaw_ffield(wind_speed, 90, w, ref_height, shear_exponent)\n",
    "    tmp.calc_los_speed()\n",
    "    tmp.reconstruct_wind()\n",
    "    print(tmp.data.rc_wind.ws.std().values)"
   ]
  },
  {
   "cell_type": "code",
   "execution_count": 5,
   "metadata": {},
   "outputs": [
    {
     "data": {
      "text/plain": [
       "{'x': {'min': 676.4425458585671, 'max': 1041.7372476408038, 'res': 10},\n",
       " 'y': {'min': -733.4296671150438, 'max': 733.3291125265, 'res': 10},\n",
       " 'z': {'min': 90.2225605412307, 'max': 110.526268646544, 'res': 1},\n",
       " 'time_steps': array([0.000000e+00, 1.000000e+00, 2.000000e+00, ..., 9.229957e+05,\n",
       "        9.229967e+05, 9.229977e+05])}"
      ]
     },
     "execution_count": 5,
     "metadata": {},
     "output_type": "execute_result"
    }
   ],
   "source": [
    "tmp.data.ffield_bbox_cfg"
   ]
  },
  {
   "cell_type": "code",
   "execution_count": 6,
   "metadata": {},
   "outputs": [
    {
     "data": {
      "text/plain": [
       "<matplotlib.collections.QuadMesh at 0x10410b690>"
      ]
     },
     "execution_count": 6,
     "metadata": {},
     "output_type": "execute_result"
    },
    {
     "data": {
      "image/png": "[encoded data removed]",
      "text/plain": [
       "<Figure size 432x288 with 2 Axes>"
      ]
     },
     "metadata": {
      "needs_background": "light"
     },
     "output_type": "display_data"
    }
   ],
   "source": [
    "tmp.data.ffield.v.isel(y=0).plot()\n"
   ]
  },
  {
   "cell_type": "code",
   "execution_count": null,
   "metadata": {},
   "outputs": [],
   "source": []
  }
 ],
 "metadata": {
  "kernelspec": {
   "display_name": "Python 3",
   "language": "python",
   "name": "python3"
  },
  "language_info": {
   "codemirror_mode": {
    "name": "ipython",
    "version": 3
   },
   "file_extension": ".py",
   "mimetype": "text/x-python",
   "name": "python",
   "nbconvert_exporter": "python",
   "pygments_lexer": "ipython3",
   "version": "3.7.6"
  }
 },
 "nbformat": 4,
 "nbformat_minor": 2
}
