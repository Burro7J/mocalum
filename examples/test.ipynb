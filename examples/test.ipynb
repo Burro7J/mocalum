{
 "cells": [
  {
   "cell_type": "code",
   "execution_count": 1,
   "metadata": {},
   "outputs": [],
   "source": [
    "import numpy as np\n",
    "import matplotlib.pyplot as plt\n",
    "import mocalum as mc\n",
    "from tqdm.notebook import trange, tqdm\n",
    "import xarray as xr"
   ]
  },
  {
   "cell_type": "code",
   "execution_count": 2,
   "metadata": {},
   "outputs": [],
   "source": [
    "# single wind config MC setup\n",
    "koshava_xyz = [0, 0, 0]\n",
    "no_scans = 10000\n",
    "# wind field setup\n",
    "ref_height = 100      # power law reference height \n",
    "shear_exponent = 0.2  # power law shear exponent\n",
    "wind_speed = 10       # wind speed at referenec height\n",
    "wind_dir = 180        # wind direction\n",
    "\n",
    "# beam steering setup\n",
    "distance = 1000   # meter\n",
    "angular_res = 1   # degree\n",
    "azimuth_mid = 90   # central azimuth angle\n",
    "sector_size = 30  # degree\n",
    "scan_speed = 1    # degree.s^-1\n",
    "max_speed = 50    # degree.s^-1\n",
    "max_acc = 100     # degree.s^-2\n",
    "elevation = 5\n",
    "\n",
    "\n",
    "# Uncertainty terms\n",
    "no_sim = 10000 # number of simulations\n",
    "corr_coef = 1   # correlation coefficient\n",
    "mu = 0         # we assume no systematic uncertainty\n",
    "azim_std = 0.1 # degrees\n",
    "elev_std = 0.1 # degrees\n",
    "dis_std = 10   # meters\n",
    "rad_std = 0.1  # m.s-1\n",
    "\n",
    "\n",
    "\n",
    "def mc_config_ivap(no_sim, **kwargs):\n",
    "    pass"
   ]
  },
  {
   "cell_type": "code",
   "execution_count": 4,
   "metadata": {},
   "outputs": [
    {
     "name": "stdout",
     "output_type": "stream",
     "text": "CPU times: user 28.9 ms, sys: 30.9 ms, total: 59.8 ms\nWall time: 58.8 ms\n"
    }
   ],
   "source": [
    "%%time\n",
    "\n",
    "ds = mc.get_ivap_probing(sector_size, azimuth_mid, \n",
    "                                angular_res,elevation, distance,no_scans)\n"
   ]
  },
  {
   "cell_type": "code",
   "execution_count": 5,
   "metadata": {},
   "outputs": [
    {
     "name": "stdout",
     "output_type": "stream",
     "text": "CPU times: user 1.03 s, sys: 67 ms, total: 1.1 s\nWall time: 308 ms\n"
    }
   ],
   "source": [
    "%%time\n",
    "ds = mc.mc_config_ivap(ds, koshava_xyz,corr_coef=0)"
   ]
  },
  {
   "cell_type": "code",
   "execution_count": 6,
   "metadata": {},
   "outputs": [
    {
     "name": "stdout",
     "output_type": "stream",
     "text": "CPU times: user 19.6 ms, sys: 1.87 ms, total: 21.5 ms\nWall time: 20.1 ms\n"
    }
   ],
   "source": [
    "%%time\n",
    "ds_wind = mc.gen_pl_field(ds)"
   ]
  },
  {
   "cell_type": "code",
   "execution_count": 10,
   "metadata": {},
   "outputs": [
    {
     "name": "stdout",
     "output_type": "stream",
     "text": "CPU times: user 87.3 ms, sys: 6.38 ms, total: 93.7 ms\nWall time: 92.8 ms\n"
    }
   ],
   "source": [
    "%%time\n",
    "u, v, wind_speed = mc.ivap(v_rad_split, azm_split, 1)"
   ]
  },
  {
   "cell_type": "code",
   "execution_count": 3,
   "metadata": {},
   "outputs": [
    {
     "name": "stdout",
     "output_type": "stream",
     "text": "0.5472422747713782\n0.20883283978800513\n0.11788672011123115\n0.07772931409145648\n0.05675646226454488\n0.04438123343235192\n0.03565679194318858\n0.029401614653143858\n0.025521871449183487\n"
    }
   ],
   "source": [
    "\n",
    "for sector_size in range(10,90+10,10):\n",
    "    ds = mc.get_ivap_probing(sector_size, azimuth_mid, \n",
    "                                angular_res,elevation, distance,no_scans)\n",
    "\n",
    "    ds = mc.mc_config_ivap(ds, koshava_xyz,corr_coef=0)\n",
    "    ds_wind = mc.gen_pl_field(ds)\n",
    "    ds = mc.inject_wind_data(ds, ds_wind)\n",
    "\n",
    "    v_rad_split = np.asarray(np.split(ds.v_rad.values, ds.no_scans.values))\n",
    "    azm_split = np.asarray(np.split(ds.az.values, ds.no_scans.values))\n",
    "\n",
    "    u, v, wind_speed = mc.ivap(v_rad_split, azm_split, 1)\n",
    "    print(wind_speed.std())"
   ]
  },
  {
   "cell_type": "code",
   "execution_count": 28,
   "metadata": {},
   "outputs": [
    {
     "name": "stdout",
     "output_type": "stream",
     "text": "0.5606280875217938\n0.2117521524265735\n0.11762475451977471\n0.0786112462913212\n0.057227157247672356\n0.04419794463855552\n0.03569395734074025\n0.02943328921525187\n0.025706472581494246\n"
    }
   ],
   "source": [
    "for sector_size in range(10,90+10,10):\n",
    "    ds = utils.get_ivap_probing(sector_size, azimuth_mid, \n",
    "                                angular_res,elevation, distance,no_scans)\n",
    "\n",
    "    ds = samples.mc_config_ivap(ds, koshava_xyz,corr_coef=0)\n",
    "    ds_wind = utils.gen_pl_field(ds)\n",
    "    ds = utils.inject_wind_data(ds, ds_wind)\n",
    "\n",
    "    v_rad_split = np.asarray(np.split(ds.v_rad.values, ds.no_scans.values))\n",
    "    azm_split = np.asarray(np.split(ds.az.values, ds.no_scans.values))\n",
    "\n",
    "    u, v, wind_speed = utils.ivap(v_rad_split, azm_split, 1)\n",
    "    print(wind_speed.std())"
   ]
  },
  {
   "cell_type": "code",
   "execution_count": 6,
   "metadata": {},
   "outputs": [],
   "source": [
    "ds = utils.inject_wind_data(ds, ds_wind)"
   ]
  },
  {
   "cell_type": "code",
   "execution_count": 7,
   "metadata": {},
   "outputs": [],
   "source": [
    "v_rad_split = np.asarray(np.split(ds.v_rad.values, ds.no_scans.values))\n",
    "azm_split = np.asarray(np.split(ds.az.values, ds.no_scans.values))"
   ]
  },
  {
   "cell_type": "markdown",
   "metadata": {},
   "source": [
    "az_split"
   ]
  },
  {
   "cell_type": "code",
   "execution_count": 10,
   "metadata": {},
   "outputs": [],
   "source": [
    "u, v, wind_speed = utils.ivap(v_rad_split, azm_split, 1)"
   ]
  },
  {
   "cell_type": "code",
   "execution_count": 12,
   "metadata": {},
   "outputs": [
    {
     "data": {
      "text/plain": "0.019804295201233092"
     },
     "execution_count": 12,
     "metadata": {},
     "output_type": "execute_result"
    }
   ],
   "source": [
    "wind_speed.std()"
   ]
  },
  {
   "cell_type": "code",
   "execution_count": 15,
   "metadata": {},
   "outputs": [
    {
     "data": {
      "text/html": "<pre>&lt;xarray.DataArray &#x27;unc_los&#x27; ()&gt;\narray(-1.48682615e-05)</pre>",
      "text/plain": "<xarray.DataArray 'unc_los' ()>\narray(-1.48682615e-05)"
     },
     "execution_count": 15,
     "metadata": {},
     "output_type": "execute_result"
    }
   ],
   "source": [
    "ds.unc_los.mean()"
   ]
  },
  {
   "cell_type": "code",
   "execution_count": null,
   "metadata": {},
   "outputs": [],
   "source": []
  }
 ],
 "metadata": {
  "kernelspec": {
   "display_name": "Python 3.7.6 64-bit ('mocalum': conda)",
   "language": "python",
   "name": "python37664bitmocalumcondab72766089ef34ad38f3a62fea8a3ca45"
  },
  "language_info": {
   "codemirror_mode": {
    "name": "ipython",
    "version": 3
   },
   "file_extension": ".py",
   "mimetype": "text/x-python",
   "name": "python",
   "nbconvert_exporter": "python",
   "pygments_lexer": "ipython3",
   "version": "3.7.6-final"
  }
 },
 "nbformat": 4,
 "nbformat_minor": 2
}