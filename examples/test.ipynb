{
 "cells": [
  {
   "cell_type": "code",
   "execution_count": 1,
   "metadata": {},
   "outputs": [],
   "source": [
    "import numpy as np\n",
    "import matplotlib.pyplot as plt\n",
    "import mocalum as mc\n",
    "import xarray as xr\n",
    "import time"
   ]
  },
  {
   "cell_type": "code",
   "execution_count": 2,
   "metadata": {},
   "outputs": [],
   "source": [
    "# single wind config MC setup\n",
    "koshava_xyz = [0, 0, 0]\n",
    "no_scans = 10000\n",
    "# wind field setup\n",
    "ref_height = 100      # power law reference height\n",
    "meas_height = 100 \n",
    "shear_exponent = 0.2  # power law shear exponent\n",
    "wind_speed = 10       # wind speed at referenec height\n",
    "wind_dir = 180        # wind direction\n",
    "w = 0\n",
    "\n",
    "# beam steering setup\n",
    "distance = 1000   # meter\n",
    "elevation = np.degrees(np.arcsin(meas_height / distance))\n",
    "angular_res = 1   # degree\n",
    "azimuth_mid = 90   # central azimuth angle\n",
    "sector_size = 30  # degree\n",
    "scan_speed = 1    # degree.s^-1\n",
    "max_speed = 50    # degree.s^-1\n",
    "max_acc = 100     # degree.s^-2\n",
    "\n",
    "# Uncertainty terms\n",
    "no_sim = 10000 # number of simulations\n",
    "corr_coef = 0   # correlation coefficient\n",
    "mu = 0         # we assume no systematic uncertainty\n",
    "azim_std = 0.1 # degrees\n",
    "elev_std = 0.1 # degrees\n",
    "dis_std = 10   # meters\n",
    "rad_std = 0.1  # m.s-1"
   ]
  },
  {
   "cell_type": "code",
   "execution_count": 3,
   "metadata": {},
   "outputs": [],
   "source": [
    "tmp = mc.Mocalum()\n",
    "tmp.x_res = tmp.y_res = 10"
   ]
  },
  {
   "cell_type": "code",
   "execution_count": 7,
   "metadata": {},
   "outputs": [],
   "source": [
    "for sectrsz in range(10,20,10):\n",
    "    tmp.set_ivap_probing(koshava_xyz, sectrsz, azimuth_mid, angular_res, elevation, distance, \n",
    "                        no_scans, scan_speed, max_speed,max_acc)\n",
    "\n",
    "    tmp.gen_unc_contributors(corr_coef)\n",
    "    tmp.gen_plaw_ffield(wind_speed, 90, w, ref_height, shear_exponent)\n",
    "#    tmp.calc_los_speed()\n",
    "#    tmp.reconstruct_wind()\n",
    "#    print(tmp.data.rc_wind.ws.std().values)"
   ]
  },
  {
   "cell_type": "code",
   "execution_count": 13,
   "metadata": {},
   "outputs": [
    {
     "data": {
      "text/plain": [
       "KeysView(Frozen(SortedKeysDict({'z': 4, 'y': 19, 'x': 10, 'Northing': 19, 'Height': 4})))"
      ]
     },
     "execution_count": 13,
     "metadata": {},
     "output_type": "execute_result"
    }
   ],
   "source": [
    "tmp.data.ffield.dims.keys()"
   ]
  },
  {
   "cell_type": "code",
   "execution_count": 12,
   "metadata": {},
   "outputs": [
    {
     "data": {
      "text/plain": [
       "<matplotlib.collections.QuadMesh at 0x12e33d050>"
      ]
     },
     "execution_count": 12,
     "metadata": {},
     "output_type": "execute_result"
    },
    {
     "data": {
      "image/png": "[encoded data removed]",
      "text/plain": [
       "<Figure size 432x288 with 2 Axes>"
      ]
     },
     "metadata": {
      "needs_background": "light"
     },
     "output_type": "display_data"
    }
   ],
   "source": [
    "tmp.data.ffield.v.isel(y=0).plot.pcolormesh('z','x')\n"
   ]
  }
 ],
 "metadata": {
  "kernelspec": {
   "display_name": "Python 3",
   "language": "python",
   "name": "python3"
  },
  "language_info": {
   "codemirror_mode": {
    "name": "ipython",
    "version": 3
   },
   "file_extension": ".py",
   "mimetype": "text/x-python",
   "name": "python",
   "nbconvert_exporter": "python",
   "pygments_lexer": "ipython3",
   "version": "3.7.6"
  }
 },
 "nbformat": 4,
 "nbformat_minor": 2
}
