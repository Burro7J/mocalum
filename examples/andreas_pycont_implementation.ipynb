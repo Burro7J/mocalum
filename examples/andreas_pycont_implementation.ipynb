{
 "cells": [
  {
   "cell_type": "code",
   "execution_count": 1,
   "metadata": {},
   "outputs": [],
   "source": [
    "import numpy as np\n",
    "from numpy.lib import stride_tricks\n",
    "\n",
    "from scipy.interpolate import griddata\n",
    "import matplotlib.pyplot as plt\n",
    "from matplotlib.pyplot import Polygon\n",
    "from mpl_toolkits.mplot3d import Axes3D\n",
    "import matplotlib.patches as mpatches\n",
    "import matplotlib.lines as mlines\n",
    "import mocalum as mc\n",
    "import pandas as pd\n",
    "import xarray as xr\n",
    "import time\n",
    "\n",
    "from pyconturb import gen_turb, gen_spat_grid  # generate turbulence, useful helper\n",
    "from pyconturb.sig_models import iec_sig  # IEC 61400-1 turbulence std dev\n",
    "from pyconturb.spectral_models import kaimal_spectrum  # Kaimal spectrum\n",
    "from pyconturb.wind_profiles import constant_profile, power_profile  # wind-speed profile functions  "
   ]
  },
  {
   "cell_type": "code",
   "execution_count": 79,
   "metadata": {},
   "outputs": [],
   "source": [
    "def sliding_window_slicing(a, no_items, item_type=0):\n",
    "    \"\"\"This method perfoms sliding window slicing of numpy arrays\n",
    "\n",
    "    Parameters\n",
    "    ----------\n",
    "    a : numpy\n",
    "        An array to be slided in subarrays\n",
    "    no_items : int\n",
    "        Number of sliced arrays or elements in sliced arrays\n",
    "    item_type: int\n",
    "        Indicates if no_items is number of sliced arrays (item_type=0) or\n",
    "        number of elements in sliced array (item_type=1), by default 0\n",
    "\n",
    "    Return\n",
    "    ------\n",
    "    numpy\n",
    "        Sliced numpy array\n",
    "    \"\"\"\n",
    "    if item_type == 0:\n",
    "        no_slices = no_items\n",
    "        no_elements = len(a) + 1 - no_slices\n",
    "        if no_elements <=0:\n",
    "            raise ValueError('Sliding slicing not possible, no_items is larger than ' + str(len(a)))\n",
    "    else:\n",
    "        no_elements = no_items                \n",
    "        no_slices = len(a) - no_elements + 1\n",
    "        if no_slices <=0:\n",
    "            raise ValueError('Sliding slicing not possible, no_items is larger than ' + str(len(a)))\n",
    "\n",
    "    subarray_shape = a.shape[1:]\n",
    "    shape_cfg = (no_slices, no_elements) + subarray_shape\n",
    "    strides_cfg = (a.strides[0],) + a.strides\n",
    "    as_strided = np.lib.stride_tricks.as_strided #shorthand\n",
    "    return as_strided(a, shape=shape_cfg, strides=strides_cfg)\n",
    "\n",
    "\n",
    "def _get_max_turbbox_width(ffield_bbox_cfg):\n",
    "    x_len = ffield_bbox_cfg['x']['max']-ffield_bbox_cfg['x']['min']\n",
    "    y_len = ffield_bbox_cfg['y']['max']-ffield_bbox_cfg['y']['min']    \n",
    "    return ((x_len)**2+(y_len)**2)**(.5)\n",
    "    \n",
    "\n",
    "def _get_bbox_pts(ffield_bbox_cfg):\n",
    "    bbox_pts = np.full((4,2), np.nan)\n",
    "    bbox_pts[0] = np.array([ffield_bbox_cfg['x']['min'], ffield_bbox_cfg['y']['min']])\n",
    "    bbox_pts[1] = np.array([ffield_bbox_cfg['x']['min'], ffield_bbox_cfg['y']['max']])    \n",
    "    bbox_pts[2] = np.array([ffield_bbox_cfg['x']['max'], ffield_bbox_cfg['y']['max']])        \n",
    "    bbox_pts[3] = np.array([ffield_bbox_cfg['x']['max'], ffield_bbox_cfg['y']['min']])            \n",
    "    \n",
    "    return bbox_pts\n",
    "\n",
    "\n",
    "def _rot_matrix(wind_dir):\n",
    "\n",
    "    azimuth = wind_dir - 90  # it is revers since something is fishy with dot product\n",
    "    azimuth = np.radians(azimuth) # converts to radians    \n",
    "    c, s = np.cos(azimuth), np.sin(azimuth)\n",
    "    R = np.array([[c, s], [-s, c]])\n",
    "    return R\n",
    "\n",
    "\n",
    "def _get_turbbbox(ffield_bbox_cfg, wind_dir):\n",
    "    bbox_pts = _get_bbox_pts(tmp.data.ffield_bbox_cfg)\n",
    "    \n",
    "    # Normalize points to be at the coordinate system center\n",
    "    bbox_pts_norm =bbox_pts - bbox_pts.mean(axis=0)\n",
    "    \n",
    "    # Find position of normalized points in future turb box coord sys\n",
    "    pts_new_cord = bbox_pts_norm.dot(_rot_matrix(wind_dir)) \n",
    "    \n",
    "    # Find minimum turb bounding box\n",
    "    x_min, y_min = pts_new_cord.min(axis = 0)\n",
    "    x_max, y_max = pts_new_cord.max(axis = 0)\n",
    "\n",
    "    tbox_pts = np.full((4,2), np.nan)\n",
    "    tbox_pts[0] = np.array([x_min, y_min])\n",
    "    tbox_pts[1] = np.array([x_min, y_max])    \n",
    "    tbox_pts[2] = np.array([x_max, y_max])        \n",
    "    tbox_pts[3] = np.array([x_max, y_min])\n",
    "    \n",
    "    return tbox_pts\n",
    "\n",
    "\n",
    "def _get_prob_cords(probing, bbox_pts):\n",
    "    \n",
    "    x = probing.x.values[:probing.no_los.values]\n",
    "    x_norm = x - bbox_pts.mean(axis=0)[0]\n",
    "    y = probing.y.values[:probing.no_los.values]\n",
    "    y_norm = y - bbox_pts.mean(axis=0)[1]\n",
    "    \n",
    "    return x_norm,y_norm"
   ]
  },
  {
   "cell_type": "code",
   "execution_count": 91,
   "metadata": {},
   "outputs": [],
   "source": [
    "koshava_xyz = [0, 0, 0]\n",
    "no_scans = 10000\n",
    "# wind field setup\n",
    "ref_height = 100      # power law reference height\n",
    "meas_height = 100 \n",
    "shear_exponent = 0.2  # power law shear exponent\n",
    "wind_speed = 10       # wind speed at referenec height\n",
    "wind_dir = 340        # wind direction\n",
    "w = 0\n",
    "\n",
    "# beam steering setup\n",
    "distance = 1000   # meter\n",
    "elevation = np.degrees(np.arcsin(meas_height / distance))\n",
    "angular_res = 1   # degree\n",
    "azimuth_mid = 0   # central azimuth angle\n",
    "sector_size = 90  # degree\n",
    "scan_speed = 1    # degree.s^-1\n",
    "max_speed = 50    # degree.s^-1\n",
    "max_acc = 100     # degree.s^-2\n",
    "\n",
    "# Uncertainty terms\n",
    "no_sim = 10000 # number of simulations\n",
    "corr_coef = 0   # correlation coefficient\n",
    "mu = 0         # we assume no systematic uncertainty\n",
    "azim_std = 0.1 # degrees\n",
    "elev_std = 0.1 # degrees\n",
    "dis_std = 10   # meters\n",
    "rad_std = 0.1  # m.s-1  In [23]:  \n",
    "\n",
    "tmp = mc.Mocalum()\n",
    "tmp.x_res = tmp.y_res = 10\n",
    "  \n",
    "tmp.set_ivap_probing(koshava_xyz, sector_size, azimuth_mid, angular_res, elevation, distance, \n",
    "                    no_scans, scan_speed, max_speed,max_acc)\n",
    "\n",
    "tmp.gen_unc_contributors(corr_coef)\n",
    "tmp.gen_plaw_ffield(wind_speed, wind_dir, w, ref_height, shear_exponent)\n",
    "tmp.calc_los_speed()\n",
    "tmp.reconstruct_wind()\n"
   ]
  },
  {
   "cell_type": "code",
   "execution_count": 92,
   "metadata": {},
   "outputs": [
    {
     "data": {
      "image/png": "[encoded data removed]",
      "text/plain": [
       "<Figure size 540x540 with 1 Axes>"
      ]
     },
     "metadata": {
      "needs_background": "light"
     },
     "output_type": "display_data"
    }
   ],
   "source": [
    "# polygon = Polygon(bbox_pts_norm,alpha=0.4, color='black')\n",
    "diag = _get_max_turbbox_width(tmp.data.ffield_bbox_cfg)\n",
    "bbox_pts = _get_bbox_pts(tmp.data.ffield_bbox_cfg)\n",
    "bbox_pts_norm = bbox_pts - bbox_pts.mean(axis=0)\n",
    "\n",
    "x_cords, y_cords = _get_prob_cords(tmp.data.probing, bbox_pts)\n",
    "\n",
    "tbox_pts = _get_turbbbox(tmp.data.ffield_bbox_cfg, wind_dir)\n",
    "\n",
    "# coordinates in turbox coord sys\n",
    "pts_new_cord = bbox_pts_norm.dot(_rot_matrix(wind_dir))\n",
    "\n",
    "wind_dir_pt = mc.utils.spher2cart(wind_dir,0,diag/2)[:2]\n",
    "bbox = Polygon(bbox_pts_norm,alpha=0.4, color='red')\n",
    "tbox = Polygon(tbox_pts.dot(_rot_matrix(-wind_dir)),alpha=0.4, color='green')\n",
    "# tbox2 = Polygon(tbox_pts.dot(_rot_bbox(wind_dir)),alpha=0.4, color='yellow')\n",
    "\n",
    "# polygon = Polygon(bbox_pts.dot(R))\n",
    "\n",
    "fig, ax = plt.subplots(figsize=(7.5, 7.5))\n",
    "plt.grid()\n",
    "ax.add_patch(bbox)\n",
    "ax.add_patch(tbox)\n",
    "\n",
    "plt.scatter(bbox_pts_norm[:,0],bbox_pts_norm[:,1], c=\"black\")\n",
    "plt.scatter(x_cords,y_cords, c=\"blue\")\n",
    "ax.set_aspect('equal')\n",
    "ax.annotate(\"\", xy=(wind_dir_pt[0], wind_dir_pt[1]), xytext=(0, 0),arrowprops=dict(arrowstyle=\"<-\",color='red'))\n",
    "\n",
    "ax.set_xlim(-diag,diag)\n",
    "ax.set_ylim(-diag,diag)\n",
    "plt.show()"
   ]
  },
  {
   "cell_type": "code",
   "execution_count": 88,
   "metadata": {},
   "outputs": [
    {
     "data": {
      "text/plain": [
       "array([[-181.8320238 , -731.94898946],\n",
       "       [-181.8320238 ,  731.94898946],\n",
       "       [ 181.8320238 ,  731.94898946],\n",
       "       [ 181.8320238 , -731.94898946]])"
      ]
     },
     "execution_count": 88,
     "metadata": {},
     "output_type": "execute_result"
    }
   ],
   "source": [
    "tbox_pts"
   ]
  },
  {
   "cell_type": "code",
   "execution_count": 90,
   "metadata": {},
   "outputs": [
    {
     "data": {
      "text/plain": [
       "array([[-731.94898946, -181.8320238 ],\n",
       "       [-731.94898946,  181.8320238 ],\n",
       "       [ 731.94898946,  181.8320238 ],\n",
       "       [ 731.94898946, -181.8320238 ]])"
      ]
     },
     "execution_count": 90,
     "metadata": {},
     "output_type": "execute_result"
    }
   ],
   "source": [
    "bbox_pts_norm"
   ]
  },
  {
   "cell_type": "code",
   "execution_count": 453,
   "metadata": {},
   "outputs": [
    {
     "data": {
      "text/plain": [
       "array([[                   1,                    2,                    3],\n",
       "       [                   4,                    5,                    6],\n",
       "       [                   7,                    8,                    9],\n",
       "       [    1407374883553288,                    2,                    2],\n",
       "       [                   8,                   16, -2305834245875262183]])"
      ]
     },
     "execution_count": 453,
     "metadata": {},
     "output_type": "execute_result"
    }
   ],
   "source": [
    "a = np.array([1, 2, 3, 4, 5, 6, 7])\n",
    "\n",
    "a = np.array([np.arange(1,15),np.arange(1,15)]).transpose()\n",
    "\n",
    "\n",
    "as_strided = np.lib.stride_tricks.as_strided\n"
   ]
  },
  {
   "cell_type": "code",
   "execution_count": 456,
   "metadata": {},
   "outputs": [
    {
     "data": {
      "text/plain": [
       "array([[               1,                2,                3],\n",
       "       [               4,                5,                6],\n",
       "       [               7,                8,                9],\n",
       "       [1465873313461358,                0,       5036803920],\n",
       "       [              -4,               -1,                0]])"
      ]
     },
     "execution_count": 456,
     "metadata": {},
     "output_type": "execute_result"
    }
   ],
   "source": [
    "a = np.arange(1,10).reshape(3,3)\n",
    "\n",
    "a.strides\n",
    "a\n",
    "\n",
    "np.lib.stride_tricks.as_strided(a, shape=(5,3), strides=a.strides)"
   ]
  },
  {
   "cell_type": "code",
   "execution_count": 4,
   "metadata": {},
   "outputs": [],
   "source": [
    "def strided_app(a, L, S ):  # Window len = L, Stride len/stepsize = S\n",
    "    nrows = ((a.size-L)//S)+1\n",
    "    n = a.strides[0]\n",
    "    return np.lib.stride_tricks.as_strided(a, shape=(nrows,L), strides=(S*n,n))\n",
    "\n",
    "\n"
   ]
  },
  {
   "cell_type": "code",
   "execution_count": 73,
   "metadata": {},
   "outputs": [
    {
     "data": {
      "text/plain": [
       "(200, 40, 8)"
      ]
     },
     "execution_count": 73,
     "metadata": {},
     "output_type": "execute_result"
    }
   ],
   "source": [
    "x = np.arange(100).reshape([4, 5,5])\n",
    "\n",
    "x\n",
    "\n",
    "x.strides\n",
    "\n"
   ]
  },
  {
   "cell_type": "code",
   "execution_count": 49,
   "metadata": {},
   "outputs": [
    {
     "data": {
      "text/plain": [
       "(40, 40, 8)"
      ]
     },
     "execution_count": 49,
     "metadata": {},
     "output_type": "execute_result"
    }
   ],
   "source": [
    "(x.strides[0],) + x.strides"
   ]
  },
  {
   "cell_type": "code",
   "execution_count": 70,
   "metadata": {},
   "outputs": [
    {
     "data": {
      "text/plain": [
       "(200, 40, 8)"
      ]
     },
     "execution_count": 70,
     "metadata": {},
     "output_type": "execute_result"
    }
   ],
   "source": [
    "\n",
    "\n",
    "tmp_array = np.empty((10000, 5,5))\n",
    "\n",
    "tmp_array.strides"
   ]
  },
  {
   "cell_type": "code",
   "execution_count": 65,
   "metadata": {},
   "outputs": [
    {
     "data": {
      "text/plain": [
       "dtype('int64')"
      ]
     },
     "execution_count": 65,
     "metadata": {},
     "output_type": "execute_result"
    }
   ],
   "source": [
    "tmp_array.dtype"
   ]
  },
  {
   "cell_type": "code",
   "execution_count": 54,
   "metadata": {},
   "outputs": [
    {
     "data": {
      "text/plain": [
       "array([[[0., 0., 0., 0., 0.],\n",
       "        [0., 0., 0., 0., 0.],\n",
       "        [0., 0., 0., 0., 0.],\n",
       "        [0., 0., 0., 0., 0.],\n",
       "        [0., 0., 0., 0., 0.],\n",
       "        [0., 0., 0., 0., 0.],\n",
       "        [0., 0., 0., 0., 0.],\n",
       "        [0., 0., 0., 0., 0.]],\n",
       "\n",
       "       [[0., 0., 0., 0., 0.],\n",
       "        [0., 0., 0., 0., 0.],\n",
       "        [0., 0., 0., 0., 0.],\n",
       "        [0., 0., 0., 0., 0.],\n",
       "        [0., 0., 0., 0., 0.],\n",
       "        [0., 0., 0., 0., 0.],\n",
       "        [0., 0., 0., 0., 0.],\n",
       "        [0., 0., 0., 0., 0.]],\n",
       "\n",
       "       [[0., 0., 0., 0., 0.],\n",
       "        [0., 0., 0., 0., 0.],\n",
       "        [0., 0., 0., 0., 0.],\n",
       "        [0., 0., 0., 0., 0.],\n",
       "        [0., 0., 0., 0., 0.],\n",
       "        [0., 0., 0., 0., 0.],\n",
       "        [0., 0., 0., 0., 0.],\n",
       "        [0., 0., 0., 0., 0.]]])"
      ]
     },
     "execution_count": 54,
     "metadata": {},
     "output_type": "execute_result"
    }
   ],
   "source": [
    "tmp_array"
   ]
  },
  {
   "cell_type": "code",
   "execution_count": 151,
   "metadata": {},
   "outputs": [],
   "source": [
    "a = np.arange(10)"
   ]
  },
  {
   "cell_type": "code",
   "execution_count": 141,
   "metadata": {},
   "outputs": [
    {
     "data": {
      "text/plain": [
       "array([[[0, 1],\n",
       "        [2, 3],\n",
       "        [4, 5],\n",
       "        [6, 7],\n",
       "        [8, 9]]])"
      ]
     },
     "execution_count": 141,
     "metadata": {},
     "output_type": "execute_result"
    }
   ],
   "source": [
    "len(a)\n",
    "\n",
    "sliding_window_slicing(a, 5)"
   ]
  },
  {
   "cell_type": "code",
   "execution_count": 153,
   "metadata": {},
   "outputs": [
    {
     "data": {
      "text/plain": [
       "array([[0, 1, 2, 3, 4, 5, 6, 7, 8],\n",
       "       [1, 2, 3, 4, 5, 6, 7, 8, 9]])"
      ]
     },
     "execution_count": 153,
     "metadata": {},
     "output_type": "execute_result"
    }
   ],
   "source": [
    "sliding_window_slicing_alt(a, 2)"
   ]
  },
  {
   "cell_type": "code",
   "execution_count": 99,
   "metadata": {},
   "outputs": [
    {
     "data": {
      "text/plain": [
       "(4, 1, 5, 5)"
      ]
     },
     "execution_count": 99,
     "metadata": {},
     "output_type": "execute_result"
    }
   ],
   "source": [
    "x.shape[1:]\n",
    "\n",
    "xslided = _sliding_window_slicing(x,1)\n",
    "xslided.shape\n"
   ]
  },
  {
   "cell_type": "code",
   "execution_count": null,
   "metadata": {},
   "outputs": [],
   "source": []
  },
  {
   "cell_type": "code",
   "execution_count": null,
   "metadata": {},
   "outputs": [],
   "source": [
    "for no_elements in range(0,1000):\n",
    "    print(len(1)"
   ]
  },
  {
   "cell_type": "code",
   "execution_count": 145,
   "metadata": {},
   "outputs": [],
   "source": [
    "def sliding_window_slicing(a, no_items, item_type=0):\n",
    "    \"\"\"This method perfoms sliding window slicing of numpy arrays\n",
    "\n",
    "    Parameters\n",
    "    ----------\n",
    "    a : numpy\n",
    "        An array to be slided in subarrays\n",
    "    no_items : int\n",
    "        Number of sliced arrays or elements in sliced arrays\n",
    "    item_type: int\n",
    "        Indicates if no_items is number of sliced arrays (item_type=0) or\n",
    "        number of elements in sliced array (item_type=1), by default 0\n",
    "\n",
    "    Return\n",
    "    ------\n",
    "    numpy\n",
    "        Sliced numpy array\n",
    "    \"\"\"\n",
    "    if item_type == 0:\n",
    "        no_slices = no_items\n",
    "        no_elements = len(a) + 1 - no_slices\n",
    "        if no_elements <=0:\n",
    "            raise ValueError('Sliding slicing not possible, no_items is larger than ' + str(len(a)))\n",
    "    else:\n",
    "        no_elements = no_items                \n",
    "        no_slices = len(a) - no_elements + 1\n",
    "        if no_slices <=0:\n",
    "            raise ValueError('Sliding slicing not possible, no_items is larger than ' + str(len(a)))\n",
    "\n",
    "    subarray_shape = a.shape[1:]\n",
    "    shape_cfg = (no_slices, no_elements) + subarray_shape\n",
    "    strides_cfg = (a.strides[0],) + a.strides\n",
    "    as_strided = np.lib.stride_tricks.as_strided #shorthand\n",
    "    return as_strided(a, shape=shape_cfg, strides=strides_cfg)\n",
    "\n",
    "\n",
    "\n",
    "def sliding_window_slicing_old(a, no_elements):\n",
    "    \"\"\"This method perfoms sliding window slicing of numpy arrays\n",
    "\n",
    "    Parameters\n",
    "    ----------\n",
    "    a : numpy\n",
    "        An array to be slided in subarrays\n",
    "    no_elements : int\n",
    "        Number of elements in sliced array\n",
    "\n",
    "    Return\n",
    "    ------\n",
    "    numpy\n",
    "        Sliced numpy array\n",
    "    \"\"\"\n",
    "    no_slices = len(a) - no_elements + 1 \n",
    "    if no_slices <=0:\n",
    "        raise ValueError('Sliding slicing not possible, no_elements is larger than ' + str(len(a)))\n",
    "    subarray_shape = a.shape[1:]\n",
    "    shape_cfg = (no_slices, no_elements) + subarray_shape\n",
    "    strides_cfg = (a.strides[0],) + a.strides\n",
    "    as_strided = np.lib.stride_tricks.as_strided #shorthand\n",
    "    return as_strided(a, shape=shape_cfg, strides=strides_cfg)\n",
    "    \n",
    "# shape[-1]\n",
    "\n",
    "    \n",
    "\n",
    "# # from https://stackoverflow.com/questions/53097952/how-to-understand-numpy-strides-for-layman\n",
    "# # pay attention on how one getting strides!\n",
    "# no_rows = 2\n",
    "# strides = (x.strides[0],) + x.strides\n",
    "\n",
    "# strided_a = stride_tricks.as_strided(x, shape=(no_slices, no_rows, 5,5), strides=strides)\n",
    "# strided_a"
   ]
  },
  {
   "cell_type": "code",
   "execution_count": 3,
   "metadata": {},
   "outputs": [],
   "source": [
    "# pulls bbox corners\n",
    "\n",
    "x_bb_min=tmp.data.ffield_bbox_cfg['x']['min']\n",
    "x_bb_max=tmp.data.ffield_bbox_cfg['x']['max']\n",
    "y_bb_min=tmp.data.ffield_bbox_cfg['y']['min']\n",
    "y_bb_max=tmp.data.ffield_bbox_cfg['y']['max']\n",
    "z_bb_min=tmp.data.ffield_bbox_cfg['z']['min']\n",
    "z_bb_max=tmp.data.ffield_bbox_cfg['z']['max']\n",
    "x_bb_c=x_bb_min+(x_bb_max-x_bb_min)/2\n",
    "y_bb_c=y_bb_min+(y_bb_max-y_bb_min)/2\n",
    "w_tbox=((x_bb_max-x_bb_min)**2+(y_bb_max-y_bb_min)**2)**(.5)"
   ]
  },
  {
   "cell_type": "code",
   "execution_count": 33,
   "metadata": {},
   "outputs": [
    {
     "data": {
      "text/plain": [
       "1508.122369153815"
      ]
     },
     "execution_count": 33,
     "metadata": {},
     "output_type": "execute_result"
    }
   ],
   "source": [
    "w_tbox"
   ]
  },
  {
   "cell_type": "code",
   "execution_count": 18,
   "metadata": {},
   "outputs": [],
   "source": [
    "######### Turbulence box code starts here ###################################\n",
    "### input ##### x = longitudian y =lateral z= same\n",
    "x_dens=300 #max 60 on my dell\n",
    "y_dens=5\n",
    "z_dens=3\n",
    "dt_in=2 #max 10 on my dell\n",
    "T_in=x_dens*dt_in\n",
    "u_ref_in=10\n",
    "wdir=330\n",
    "\n",
    "###############\n",
    "y = np.linspace(-w_tbox/2, w_tbox/2, y_dens)  # 11 lateral points from -50 to 50 (center @ 0)\n",
    "z = np.linspace(z_bb_min, z_bb_max, z_dens) # 13 vertical points from 40 to 160 (center @ 100)\n",
    "\n",
    "spat_df = gen_spat_grid(y, z)\n",
    "\n",
    "turb_df = gen_turb(spat_df, T=2*T_in, dt=dt_in, u_ref=u_ref_in)\n",
    "\n",
    "x=np.linspace(-T_in*u_ref_in,0, x_dens) #dt_in number of longitudinal points from 0 m to T_in*u_ref_in meters\n",
    "# xs, ys, zs, = np.meshgrid(x, y, z)\n",
    "# xs3=np.repeat(xs, 3, axis=2)\n",
    "# results=np.array(xs3).flatten() \n",
    "\n",
    "# creating 3D gen spat usying modified jenny function\n",
    "comps=[0, 1, 2]\n",
    "_spat_rownames = ['k', 'x', 'y', 'z']\n",
    "xs,ys, zs = np.meshgrid(x, y, z)  # make a 3d meshgrid\n",
    "ks = np.array(comps, dtype=int)  # sanitizing\n",
    "col_names = [f'{\"uvw\"[k]}_p{ip}' for ip in range(xs.size) for k in ks]\n",
    "# spat_arr = np.c_[np.tile(comps, xs.size),\n",
    "#                   np.repeat(np.c_[xs.ravel(), ys.T.ravel(), zs.T.ravel()],\n",
    "#                             ks.size, axis=0)].T  # create array using numpy\n",
    "spat_arr = np.c_[np.tile(comps, xs.size),\n",
    "                  np.repeat(np.c_[xs.transpose(1,0,2).ravel(),ys.transpose(1,0,2).ravel(),zs.transpose(0,1,2).ravel()],\n",
    "                            ks.size, axis=0)].T\n",
    "spat_df3d=pd.DataFrame(spat_arr, index=_spat_rownames, columns=col_names)\n",
    "\n",
    "\n",
    "# spat_df.loc['x']=np.array(xs3).flatten() \n",
    "\n",
    "# adapting turb_df to 3D (frozen turbulence assumption)\n",
    "turb3d=turb_df.values # df to numpy to make things easier\n",
    "temp=np.full((x_dens, x_dens*turb3d.shape[1]), np.nan)\n",
    "for rown in range(x_dens):\n",
    "    temp[rown]=turb3d[rown:rown+x_dens,:].ravel() \n",
    "\n",
    "for rown in range(temp.shape[0]): #appending 3D turbulence to 3D grid\n",
    "    spat_df3d.loc[turb_df.index[rown],:] = temp[rown,:]\n",
    "# del temp\n",
    "#defying rotation matrix\n",
    "theta = np.radians(wdir-270)\n",
    "c, s = np.cos(theta), np.sin(theta)\n",
    "R = np.array(((c, -s), (s, c))) # or x = pd.DataFrame(data=R,index=['X','Y'])\n",
    "\n",
    "#trying to rotate turbulence box along wind direction\n",
    "xy_df=spat_df3d.loc[['x','y']].transpose()\n",
    "p =xy_df.values\n",
    "rotated_array = p.dot(R)\n",
    "rotated_array[:,0]=rotated_array[:,0]+x_bb_c+w_tbox/2*np.cos(theta)\n",
    "rotated_array[:,1]=rotated_array[:,1]+y_bb_c-w_tbox/2*np.sin(theta)\n",
    "mmmm=spat_df3d.loc['z'].transpose().values\n",
    "rotated_array=np.concatenate((rotated_array,mmmm[:,None]),axis=1)"
   ]
  },
  {
   "cell_type": "code",
   "execution_count": 47,
   "metadata": {},
   "outputs": [
    {
     "data": {
      "text/html": [
       "<div>\n",
       "<style scoped>\n",
       "    .dataframe tbody tr th:only-of-type {\n",
       "        vertical-align: middle;\n",
       "    }\n",
       "\n",
       "    .dataframe tbody tr th {\n",
       "        vertical-align: top;\n",
       "    }\n",
       "\n",
       "    .dataframe thead th {\n",
       "        text-align: right;\n",
       "    }\n",
       "</style>\n",
       "<table border=\"1\" class=\"dataframe\">\n",
       "  <thead>\n",
       "    <tr style=\"text-align: right;\">\n",
       "      <th></th>\n",
       "      <th>x</th>\n",
       "      <th>y</th>\n",
       "    </tr>\n",
       "  </thead>\n",
       "  <tbody>\n",
       "    <tr>\n",
       "      <th>u_p0</th>\n",
       "      <td>-6000.0</td>\n",
       "      <td>-754.061185</td>\n",
       "    </tr>\n",
       "    <tr>\n",
       "      <th>v_p0</th>\n",
       "      <td>-6000.0</td>\n",
       "      <td>-754.061185</td>\n",
       "    </tr>\n",
       "    <tr>\n",
       "      <th>w_p0</th>\n",
       "      <td>-6000.0</td>\n",
       "      <td>-754.061185</td>\n",
       "    </tr>\n",
       "    <tr>\n",
       "      <th>u_p1</th>\n",
       "      <td>-6000.0</td>\n",
       "      <td>-754.061185</td>\n",
       "    </tr>\n",
       "    <tr>\n",
       "      <th>v_p1</th>\n",
       "      <td>-6000.0</td>\n",
       "      <td>-754.061185</td>\n",
       "    </tr>\n",
       "    <tr>\n",
       "      <th>...</th>\n",
       "      <td>...</td>\n",
       "      <td>...</td>\n",
       "    </tr>\n",
       "    <tr>\n",
       "      <th>v_p4498</th>\n",
       "      <td>0.0</td>\n",
       "      <td>754.061185</td>\n",
       "    </tr>\n",
       "    <tr>\n",
       "      <th>w_p4498</th>\n",
       "      <td>0.0</td>\n",
       "      <td>754.061185</td>\n",
       "    </tr>\n",
       "    <tr>\n",
       "      <th>u_p4499</th>\n",
       "      <td>0.0</td>\n",
       "      <td>754.061185</td>\n",
       "    </tr>\n",
       "    <tr>\n",
       "      <th>v_p4499</th>\n",
       "      <td>0.0</td>\n",
       "      <td>754.061185</td>\n",
       "    </tr>\n",
       "    <tr>\n",
       "      <th>w_p4499</th>\n",
       "      <td>0.0</td>\n",
       "      <td>754.061185</td>\n",
       "    </tr>\n",
       "  </tbody>\n",
       "</table>\n",
       "<p>13500 rows × 2 columns</p>\n",
       "</div>"
      ],
      "text/plain": [
       "              x           y\n",
       "u_p0    -6000.0 -754.061185\n",
       "v_p0    -6000.0 -754.061185\n",
       "w_p0    -6000.0 -754.061185\n",
       "u_p1    -6000.0 -754.061185\n",
       "v_p1    -6000.0 -754.061185\n",
       "...         ...         ...\n",
       "v_p4498     0.0  754.061185\n",
       "w_p4498     0.0  754.061185\n",
       "u_p4499     0.0  754.061185\n",
       "v_p4499     0.0  754.061185\n",
       "w_p4499     0.0  754.061185\n",
       "\n",
       "[13500 rows x 2 columns]"
      ]
     },
     "execution_count": 47,
     "metadata": {},
     "output_type": "execute_result"
    }
   ],
   "source": [
    "xy_df"
   ]
  },
  {
   "cell_type": "code",
   "execution_count": 28,
   "metadata": {},
   "outputs": [
    {
     "data": {
      "text/html": [
       "<div>\n",
       "<style scoped>\n",
       "    .dataframe tbody tr th:only-of-type {\n",
       "        vertical-align: middle;\n",
       "    }\n",
       "\n",
       "    .dataframe tbody tr th {\n",
       "        vertical-align: top;\n",
       "    }\n",
       "\n",
       "    .dataframe thead th {\n",
       "        text-align: right;\n",
       "    }\n",
       "</style>\n",
       "<table border=\"1\" class=\"dataframe\">\n",
       "  <thead>\n",
       "    <tr style=\"text-align: right;\">\n",
       "      <th></th>\n",
       "      <th>u_p0</th>\n",
       "      <th>v_p0</th>\n",
       "      <th>w_p0</th>\n",
       "      <th>u_p1</th>\n",
       "      <th>v_p1</th>\n",
       "      <th>w_p1</th>\n",
       "      <th>u_p2</th>\n",
       "      <th>v_p2</th>\n",
       "      <th>w_p2</th>\n",
       "      <th>u_p3</th>\n",
       "      <th>...</th>\n",
       "      <th>w_p4496</th>\n",
       "      <th>u_p4497</th>\n",
       "      <th>v_p4497</th>\n",
       "      <th>w_p4497</th>\n",
       "      <th>u_p4498</th>\n",
       "      <th>v_p4498</th>\n",
       "      <th>w_p4498</th>\n",
       "      <th>u_p4499</th>\n",
       "      <th>v_p4499</th>\n",
       "      <th>w_p4499</th>\n",
       "    </tr>\n",
       "  </thead>\n",
       "  <tbody>\n",
       "    <tr>\n",
       "      <th>k</th>\n",
       "      <td>0.000000</td>\n",
       "      <td>1.000000</td>\n",
       "      <td>2.000000</td>\n",
       "      <td>0.000000</td>\n",
       "      <td>1.000000</td>\n",
       "      <td>2.000000</td>\n",
       "      <td>0.000000</td>\n",
       "      <td>1.000000</td>\n",
       "      <td>2.000000</td>\n",
       "      <td>0.000000</td>\n",
       "      <td>...</td>\n",
       "      <td>2.000000</td>\n",
       "      <td>0.000000</td>\n",
       "      <td>1.000000</td>\n",
       "      <td>2.000000</td>\n",
       "      <td>0.000000</td>\n",
       "      <td>1.000000</td>\n",
       "      <td>2.000000</td>\n",
       "      <td>0.000000</td>\n",
       "      <td>1.000000</td>\n",
       "      <td>2.000000</td>\n",
       "    </tr>\n",
       "    <tr>\n",
       "      <th>x</th>\n",
       "      <td>-6000.000000</td>\n",
       "      <td>-6000.000000</td>\n",
       "      <td>-6000.000000</td>\n",
       "      <td>-6000.000000</td>\n",
       "      <td>-6000.000000</td>\n",
       "      <td>-6000.000000</td>\n",
       "      <td>-6000.000000</td>\n",
       "      <td>-6000.000000</td>\n",
       "      <td>-6000.000000</td>\n",
       "      <td>-6000.000000</td>\n",
       "      <td>...</td>\n",
       "      <td>0.000000</td>\n",
       "      <td>0.000000</td>\n",
       "      <td>0.000000</td>\n",
       "      <td>0.000000</td>\n",
       "      <td>0.000000</td>\n",
       "      <td>0.000000</td>\n",
       "      <td>0.000000</td>\n",
       "      <td>0.000000</td>\n",
       "      <td>0.000000</td>\n",
       "      <td>0.000000</td>\n",
       "    </tr>\n",
       "    <tr>\n",
       "      <th>y</th>\n",
       "      <td>-754.061185</td>\n",
       "      <td>-754.061185</td>\n",
       "      <td>-754.061185</td>\n",
       "      <td>-754.061185</td>\n",
       "      <td>-754.061185</td>\n",
       "      <td>-754.061185</td>\n",
       "      <td>-754.061185</td>\n",
       "      <td>-754.061185</td>\n",
       "      <td>-754.061185</td>\n",
       "      <td>-377.030592</td>\n",
       "      <td>...</td>\n",
       "      <td>377.030592</td>\n",
       "      <td>754.061185</td>\n",
       "      <td>754.061185</td>\n",
       "      <td>754.061185</td>\n",
       "      <td>754.061185</td>\n",
       "      <td>754.061185</td>\n",
       "      <td>754.061185</td>\n",
       "      <td>754.061185</td>\n",
       "      <td>754.061185</td>\n",
       "      <td>754.061185</td>\n",
       "    </tr>\n",
       "    <tr>\n",
       "      <th>z</th>\n",
       "      <td>91.401601</td>\n",
       "      <td>91.401601</td>\n",
       "      <td>91.401601</td>\n",
       "      <td>100.633039</td>\n",
       "      <td>100.633039</td>\n",
       "      <td>100.633039</td>\n",
       "      <td>109.864477</td>\n",
       "      <td>109.864477</td>\n",
       "      <td>109.864477</td>\n",
       "      <td>91.401601</td>\n",
       "      <td>...</td>\n",
       "      <td>109.864477</td>\n",
       "      <td>91.401601</td>\n",
       "      <td>91.401601</td>\n",
       "      <td>91.401601</td>\n",
       "      <td>100.633039</td>\n",
       "      <td>100.633039</td>\n",
       "      <td>100.633039</td>\n",
       "      <td>109.864477</td>\n",
       "      <td>109.864477</td>\n",
       "      <td>109.864477</td>\n",
       "    </tr>\n",
       "    <tr>\n",
       "      <th>0</th>\n",
       "      <td>9.990025</td>\n",
       "      <td>1.017063</td>\n",
       "      <td>-0.110348</td>\n",
       "      <td>9.602300</td>\n",
       "      <td>-2.346109</td>\n",
       "      <td>-1.620956</td>\n",
       "      <td>9.564256</td>\n",
       "      <td>-0.167290</td>\n",
       "      <td>-0.184390</td>\n",
       "      <td>8.222523</td>\n",
       "      <td>...</td>\n",
       "      <td>-0.364785</td>\n",
       "      <td>11.836679</td>\n",
       "      <td>-0.049849</td>\n",
       "      <td>0.424740</td>\n",
       "      <td>11.162591</td>\n",
       "      <td>1.140341</td>\n",
       "      <td>-2.886425</td>\n",
       "      <td>10.576262</td>\n",
       "      <td>-1.039654</td>\n",
       "      <td>1.009553</td>\n",
       "    </tr>\n",
       "    <tr>\n",
       "      <th>...</th>\n",
       "      <td>...</td>\n",
       "      <td>...</td>\n",
       "      <td>...</td>\n",
       "      <td>...</td>\n",
       "      <td>...</td>\n",
       "      <td>...</td>\n",
       "      <td>...</td>\n",
       "      <td>...</td>\n",
       "      <td>...</td>\n",
       "      <td>...</td>\n",
       "      <td>...</td>\n",
       "      <td>...</td>\n",
       "      <td>...</td>\n",
       "      <td>...</td>\n",
       "      <td>...</td>\n",
       "      <td>...</td>\n",
       "      <td>...</td>\n",
       "      <td>...</td>\n",
       "      <td>...</td>\n",
       "      <td>...</td>\n",
       "      <td>...</td>\n",
       "    </tr>\n",
       "    <tr>\n",
       "      <th>590</th>\n",
       "      <td>10.651234</td>\n",
       "      <td>0.829385</td>\n",
       "      <td>-0.869936</td>\n",
       "      <td>10.229688</td>\n",
       "      <td>-1.205126</td>\n",
       "      <td>0.601371</td>\n",
       "      <td>9.743578</td>\n",
       "      <td>-3.576556</td>\n",
       "      <td>-0.617733</td>\n",
       "      <td>11.591437</td>\n",
       "      <td>...</td>\n",
       "      <td>0.336112</td>\n",
       "      <td>6.009698</td>\n",
       "      <td>0.640577</td>\n",
       "      <td>0.480673</td>\n",
       "      <td>9.021090</td>\n",
       "      <td>-2.842163</td>\n",
       "      <td>0.327854</td>\n",
       "      <td>8.500410</td>\n",
       "      <td>-0.641420</td>\n",
       "      <td>-0.744871</td>\n",
       "    </tr>\n",
       "    <tr>\n",
       "      <th>592</th>\n",
       "      <td>11.303291</td>\n",
       "      <td>-0.836046</td>\n",
       "      <td>-1.498124</td>\n",
       "      <td>11.509051</td>\n",
       "      <td>-0.697671</td>\n",
       "      <td>0.616929</td>\n",
       "      <td>11.641171</td>\n",
       "      <td>-2.965294</td>\n",
       "      <td>-0.636922</td>\n",
       "      <td>12.013145</td>\n",
       "      <td>...</td>\n",
       "      <td>0.104011</td>\n",
       "      <td>7.198770</td>\n",
       "      <td>1.090110</td>\n",
       "      <td>0.848680</td>\n",
       "      <td>8.345808</td>\n",
       "      <td>-1.897097</td>\n",
       "      <td>-0.877951</td>\n",
       "      <td>10.268377</td>\n",
       "      <td>-0.807081</td>\n",
       "      <td>-0.646697</td>\n",
       "    </tr>\n",
       "    <tr>\n",
       "      <th>594</th>\n",
       "      <td>11.294007</td>\n",
       "      <td>-1.191049</td>\n",
       "      <td>0.065615</td>\n",
       "      <td>12.853170</td>\n",
       "      <td>-0.379885</td>\n",
       "      <td>-0.428679</td>\n",
       "      <td>12.301221</td>\n",
       "      <td>-2.390863</td>\n",
       "      <td>-0.919249</td>\n",
       "      <td>11.457015</td>\n",
       "      <td>...</td>\n",
       "      <td>0.213291</td>\n",
       "      <td>5.946730</td>\n",
       "      <td>2.391923</td>\n",
       "      <td>1.538414</td>\n",
       "      <td>9.116616</td>\n",
       "      <td>-2.907809</td>\n",
       "      <td>-0.924004</td>\n",
       "      <td>9.872254</td>\n",
       "      <td>-0.043221</td>\n",
       "      <td>-0.257821</td>\n",
       "    </tr>\n",
       "    <tr>\n",
       "      <th>596</th>\n",
       "      <td>11.819856</td>\n",
       "      <td>-1.726537</td>\n",
       "      <td>-0.150475</td>\n",
       "      <td>11.338694</td>\n",
       "      <td>-0.344695</td>\n",
       "      <td>-0.210357</td>\n",
       "      <td>9.896663</td>\n",
       "      <td>-2.808191</td>\n",
       "      <td>0.228212</td>\n",
       "      <td>11.468255</td>\n",
       "      <td>...</td>\n",
       "      <td>-0.082839</td>\n",
       "      <td>5.318019</td>\n",
       "      <td>1.001779</td>\n",
       "      <td>0.290742</td>\n",
       "      <td>6.911879</td>\n",
       "      <td>0.435650</td>\n",
       "      <td>-0.320893</td>\n",
       "      <td>7.921912</td>\n",
       "      <td>1.923540</td>\n",
       "      <td>0.115111</td>\n",
       "    </tr>\n",
       "    <tr>\n",
       "      <th>598</th>\n",
       "      <td>11.318604</td>\n",
       "      <td>-0.603064</td>\n",
       "      <td>-0.479179</td>\n",
       "      <td>11.440360</td>\n",
       "      <td>-0.612392</td>\n",
       "      <td>0.328119</td>\n",
       "      <td>11.222275</td>\n",
       "      <td>-3.140206</td>\n",
       "      <td>-0.512809</td>\n",
       "      <td>11.417992</td>\n",
       "      <td>...</td>\n",
       "      <td>-0.218824</td>\n",
       "      <td>5.766735</td>\n",
       "      <td>0.519373</td>\n",
       "      <td>-0.248275</td>\n",
       "      <td>6.763613</td>\n",
       "      <td>0.273792</td>\n",
       "      <td>-1.229572</td>\n",
       "      <td>8.146786</td>\n",
       "      <td>2.856271</td>\n",
       "      <td>-1.102754</td>\n",
       "    </tr>\n",
       "  </tbody>\n",
       "</table>\n",
       "<p>304 rows × 13500 columns</p>\n",
       "</div>"
      ],
      "text/plain": [
       "            u_p0         v_p0         w_p0         u_p1         v_p1  \\\n",
       "k       0.000000     1.000000     2.000000     0.000000     1.000000   \n",
       "x   -6000.000000 -6000.000000 -6000.000000 -6000.000000 -6000.000000   \n",
       "y    -754.061185  -754.061185  -754.061185  -754.061185  -754.061185   \n",
       "z      91.401601    91.401601    91.401601   100.633039   100.633039   \n",
       "0       9.990025     1.017063    -0.110348     9.602300    -2.346109   \n",
       "..           ...          ...          ...          ...          ...   \n",
       "590    10.651234     0.829385    -0.869936    10.229688    -1.205126   \n",
       "592    11.303291    -0.836046    -1.498124    11.509051    -0.697671   \n",
       "594    11.294007    -1.191049     0.065615    12.853170    -0.379885   \n",
       "596    11.819856    -1.726537    -0.150475    11.338694    -0.344695   \n",
       "598    11.318604    -0.603064    -0.479179    11.440360    -0.612392   \n",
       "\n",
       "            w_p1         u_p2         v_p2         w_p2         u_p3  ...  \\\n",
       "k       2.000000     0.000000     1.000000     2.000000     0.000000  ...   \n",
       "x   -6000.000000 -6000.000000 -6000.000000 -6000.000000 -6000.000000  ...   \n",
       "y    -754.061185  -754.061185  -754.061185  -754.061185  -377.030592  ...   \n",
       "z     100.633039   109.864477   109.864477   109.864477    91.401601  ...   \n",
       "0      -1.620956     9.564256    -0.167290    -0.184390     8.222523  ...   \n",
       "..           ...          ...          ...          ...          ...  ...   \n",
       "590     0.601371     9.743578    -3.576556    -0.617733    11.591437  ...   \n",
       "592     0.616929    11.641171    -2.965294    -0.636922    12.013145  ...   \n",
       "594    -0.428679    12.301221    -2.390863    -0.919249    11.457015  ...   \n",
       "596    -0.210357     9.896663    -2.808191     0.228212    11.468255  ...   \n",
       "598     0.328119    11.222275    -3.140206    -0.512809    11.417992  ...   \n",
       "\n",
       "        w_p4496     u_p4497     v_p4497     w_p4497     u_p4498     v_p4498  \\\n",
       "k      2.000000    0.000000    1.000000    2.000000    0.000000    1.000000   \n",
       "x      0.000000    0.000000    0.000000    0.000000    0.000000    0.000000   \n",
       "y    377.030592  754.061185  754.061185  754.061185  754.061185  754.061185   \n",
       "z    109.864477   91.401601   91.401601   91.401601  100.633039  100.633039   \n",
       "0     -0.364785   11.836679   -0.049849    0.424740   11.162591    1.140341   \n",
       "..          ...         ...         ...         ...         ...         ...   \n",
       "590    0.336112    6.009698    0.640577    0.480673    9.021090   -2.842163   \n",
       "592    0.104011    7.198770    1.090110    0.848680    8.345808   -1.897097   \n",
       "594    0.213291    5.946730    2.391923    1.538414    9.116616   -2.907809   \n",
       "596   -0.082839    5.318019    1.001779    0.290742    6.911879    0.435650   \n",
       "598   -0.218824    5.766735    0.519373   -0.248275    6.763613    0.273792   \n",
       "\n",
       "        w_p4498     u_p4499     v_p4499     w_p4499  \n",
       "k      2.000000    0.000000    1.000000    2.000000  \n",
       "x      0.000000    0.000000    0.000000    0.000000  \n",
       "y    754.061185  754.061185  754.061185  754.061185  \n",
       "z    100.633039  109.864477  109.864477  109.864477  \n",
       "0     -2.886425   10.576262   -1.039654    1.009553  \n",
       "..          ...         ...         ...         ...  \n",
       "590    0.327854    8.500410   -0.641420   -0.744871  \n",
       "592   -0.877951   10.268377   -0.807081   -0.646697  \n",
       "594   -0.924004    9.872254   -0.043221   -0.257821  \n",
       "596   -0.320893    7.921912    1.923540    0.115111  \n",
       "598   -1.229572    8.146786    2.856271   -1.102754  \n",
       "\n",
       "[304 rows x 13500 columns]"
      ]
     },
     "execution_count": 28,
     "metadata": {},
     "output_type": "execute_result"
    }
   ],
   "source": [
    "spat_df3d."
   ]
  },
  {
   "cell_type": "code",
   "execution_count": 6,
   "metadata": {},
   "outputs": [],
   "source": [
    "#interpolating - obtaining final grid\n",
    "xp=tmp.data.ffield.x.values\n",
    "yp=tmp.data.ffield.y.values\n",
    "zp=tmp.data.ffield.z.values\n",
    "XXX, YYY, ZZZ = np.meshgrid(xp,yp,zp)\n",
    "XX=XXX.transpose(1,0,2).reshape(-1,XXX.shape[1])\n",
    "Xp=XX.reshape(-1,1)\n",
    "YY=YYY.transpose(1,0,2).reshape(-1,YYY.shape[1])\n",
    "Yp=YY.reshape(-1,1)\n",
    "ZZ=ZZZ.transpose(0,1,2).reshape(-1,ZZZ.shape[1])\n",
    "Zp=ZZ.reshape(-1,1)\n",
    "request=np.concatenate((Xp,Yp,Zp),axis=1)"
   ]
  },
  {
   "cell_type": "code",
   "execution_count": 8,
   "metadata": {},
   "outputs": [],
   "source": [
    "#rearranging dataframe for xarray conversion\n",
    "spat_df3d.loc['x']=rotated_array[:,0]\n",
    "spat_df3d.loc['y']=rotated_array[:,1]\n",
    "spat_turb=spat_df3d.drop('k')\n",
    "del spat_df3d"
   ]
  },
  {
   "cell_type": "code",
   "execution_count": 9,
   "metadata": {},
   "outputs": [],
   "source": [
    "# for u\n",
    "mask_u_df = spat_turb.columns.str.contains('u_p*')\n",
    "u_df=spat_turb.loc[:,mask_u_df].T\n",
    "#interpolation here\n",
    "points=u_df[['x','y','z']].values\n",
    "values=u_df.iloc[:,3:].values\n",
    "u_p=griddata(points, values, request)\n",
    "u_df1=pd.DataFrame(np.concatenate((request,u_p),axis=1), columns=u_df.columns)\n",
    "# for u continues\n",
    "u_df_stacked = u_df1.set_index(['x', 'y', 'z']).stack().reset_index(name='u')\n",
    "u_df_stacked.columns=u_df_stacked.columns.str.replace('level_3','t')\n",
    "u_df_multiindex = u_df_stacked.set_index(['x', 'y', 'z', 't'])\n",
    "del u_df,u_df_stacked\n",
    "u_ds=u_df_multiindex.to_xarray() #main problem for memory\n"
   ]
  },
  {
   "cell_type": "code",
   "execution_count": 10,
   "metadata": {},
   "outputs": [],
   "source": [
    "# for v\n",
    "mask_v_df = spat_turb.columns.str.contains('v_p*')\n",
    "v_df=spat_turb.loc[:,mask_v_df].T\n",
    "#interpolation here\n",
    "points=v_df[['x','y','z']].values\n",
    "values=v_df.iloc[:,3:].values\n",
    "v_p=griddata(points, values, request)\n",
    "v_df1=pd.DataFrame(np.concatenate((request,v_p),axis=1), columns=v_df.columns)\n",
    "# for v continues\n",
    "v_df_stacked = v_df1.set_index(['x', 'y', 'z']).stack().reset_index(name='v')\n",
    "v_df_stacked.columns=v_df_stacked.columns.str.replace('level_3','t')\n",
    "v_df_multiindex = v_df_stacked.set_index(['x', 'y', 'z', 't'])\n",
    "del v_df,v_df_stacked\n",
    "v_ds=v_df_multiindex.to_xarray() #main problem for memory"
   ]
  },
  {
   "cell_type": "code",
   "execution_count": 11,
   "metadata": {},
   "outputs": [],
   "source": [
    "# for w\n",
    "mask_w_df = spat_turb.columns.str.contains('w_p*')\n",
    "w_df=spat_turb.loc[:,mask_w_df].T\n",
    "#interpolation here?\n",
    "points=w_df[['x','y','z']].values\n",
    "values=w_df.iloc[:,3:].values\n",
    "w_p=griddata(points, values, request)\n",
    "w_df1=pd.DataFrame(np.concatenate((request,w_p),axis=1), columns=w_df.columns)\n",
    "# for w continues\n",
    "w_df_stacked = w_df1.set_index(['x', 'y', 'z']).stack().reset_index(name='w')\n",
    "w_df_stacked.columns=w_df_stacked.columns.str.replace('level_3','t')\n",
    "w_df_multiindex = w_df_stacked.set_index(['x', 'y', 'z', 't'])\n",
    "del w_df, w_df_stacked\n",
    "w_ds=w_df_multiindex.to_xarray()"
   ]
  },
  {
   "cell_type": "code",
   "execution_count": 12,
   "metadata": {},
   "outputs": [],
   "source": [
    "# mergining three separate dataarrays\n",
    "turb=xr.merge([u_ds, v_ds, w_ds])\n",
    "turb.attrs['title'] = 'Flow field dataset'\n",
    "turb.attrs['generator'] = 'pyconturb(Rinker et al.)'"
   ]
  },
  {
   "cell_type": "code",
   "execution_count": 13,
   "metadata": {},
   "outputs": [
    {
     "data": {
      "text/plain": [
       "<matplotlib.collections.PathCollection at 0x12bd86a50>"
      ]
     },
     "execution_count": 13,
     "metadata": {},
     "output_type": "execute_result"
    },
    {
     "data": {
      "image/png": "[encoded data removed]",
      "text/plain": [
       "<Figure size 432x288 with 1 Axes>"
      ]
     },
     "metadata": {
      "needs_background": "light"
     },
     "output_type": "display_data"
    }
   ],
   "source": [
    "#plotting\n",
    "plt.plot(spat_turb.loc['x'], spat_turb.loc['y'], 'o', color='black');plt.grid();\n",
    "plt.gca().set_aspect('equal', adjustable='box')\n",
    "plt.draw()\n",
    "\n",
    "plt.scatter(x_bb_min,y_bb_min)\n",
    "plt.scatter(x_bb_min,y_bb_max)\n",
    "plt.scatter(x_bb_max,y_bb_min)\n",
    "plt.scatter(x_bb_max,y_bb_max)\n",
    "plt.scatter(x_bb_c,y_bb_c)"
   ]
  },
  {
   "cell_type": "code",
   "execution_count": null,
   "metadata": {},
   "outputs": [],
   "source": []
  }
 ],
 "metadata": {
  "kernelspec": {
   "display_name": "Python 3",
   "language": "python",
   "name": "python3"
  },
  "language_info": {
   "codemirror_mode": {
    "name": "ipython",
    "version": 3
   },
   "file_extension": ".py",
   "mimetype": "text/x-python",
   "name": "python",
   "nbconvert_exporter": "python",
   "pygments_lexer": "ipython3",
   "version": "3.7.6"
  }
 },
 "nbformat": 4,
 "nbformat_minor": 4
}
