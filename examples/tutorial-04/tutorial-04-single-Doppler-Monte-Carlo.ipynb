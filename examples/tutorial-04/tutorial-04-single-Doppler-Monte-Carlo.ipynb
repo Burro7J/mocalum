{
 "cells": [
  {
   "cell_type": "markdown",
   "metadata": {},
   "source": [
    "# <center> *mocalum* tutorial 4 <br><br> Monte-Carlo simulation for single-Doppler configuration <center>\n",
    "\n",
    "A notebook by Nikola Vasiljević\n",
    "    \n",
    "## Introduction\n",
    "\n",
    "In tutorial we will peform Monte-Carlo simulations of single-Doppler configuration uncertainty. We will consider a sector-scanning lidar peforming a PPI scan, which size we will vary. Also, we will vary wind direction. Furthremore, we will consider that uncertainties are correlated or uncorrelated from one to another line of sigh of the PPI scan. Finally, we will collect all results and derive plots which show dependency of the wind speed uncertainty with respect to the size of the scanned sector, wind direction and correlation coefficient. The range, and thus elevation angle of the PPI scan will be kept fixed. If you are not familiar with `mocalum`, it is advisiable to go through the previous tutorials first.\n",
    "    \n",
    "If you want directly to explore earlier derives results of the Monte-Carlo simulations first import required libraries in the cell below and then go to the notebook section [Results of Monte Carlo simulations](#monte_carlo_results)."
   ]
  },
  {
   "cell_type": "code",
   "execution_count": 48,
   "metadata": {},
   "outputs": [],
   "source": [
    "import numpy as np           \n",
    "import matplotlib.pyplot as plt\n",
    "import xarray as xr\n",
    "import mocalum as mc\n",
    "\n",
    "from mocalum_tutorial import plot_sd_scan_setup, plot_bbox, plot_ffield, average_sonic"
   ]
  },
  {
   "cell_type": "code",
   "execution_count": 2,
   "metadata": {},
   "outputs": [],
   "source": [
    "mc_IVAP = mc.Mocalum()"
   ]
  },
  {
   "cell_type": "markdown",
   "metadata": {},
   "source": [
    "## Case 1: Uncorrelated uncertainties\n",
    "\n",
    "Lets consider a lidar which we will call 'koshava', located at position of (0,0,0) having following values for uncertainty contributors (standard uncertainty):\n",
    "- estimation uncertainty of radial velocity of 0.1 m/s \n",
    "- ranging uncertainty of 5 m\n",
    "- azimuth uncertainty of 0.1 deg\n",
    "- elevation uncertainty of 0.1 deg\n",
    "We will consider that uncertainty values are not correlated from one LOS to another, thus correlation coeficient will be equal to 0:"
   ]
  },
  {
   "cell_type": "code",
   "execution_count": 36,
   "metadata": {},
   "outputs": [],
   "source": [
    "lidar_pos = np.array([0,0,0])\n",
    "\n",
    "unc_cfg = {'unc_az'   : 0.1,\n",
    "           'unc_el'   : 0.1,\n",
    "           'unc_rng'  : 5,\n",
    "           'unc_est'  : 0.1,\n",
    "           'corr_coef':0}\n",
    "\n",
    "mc_IVAP.add_lidar('koshava', lidar_pos, unc_cfg)"
   ]
  },
  {
   "cell_type": "markdown",
   "metadata": {},
   "source": [
    "Now we will prepare bundle up `mocalum` configurations, which will be execute in `for loop`. For simplicity, we will omit kinematic limits in these configurations. We will generate `turbulent` flow field. Since we are generating `turbulent` flow field, thus flow varies with time, just directly computing standard deviation of the reconstructured wind speed will not tell us directly what is the standard uncertainty. We need to compute the standard deviation of the difference between the actual wind speed and reconstructed. In field calibration we do that by comparing lidar measurements to a reference, typically an anemometer. That's why in `mocalum` `generate_virtual_sonic` is provided to extract the 'reference measurements. Unlike a physical sonic anemometer, this virtual version is a perfect 'instrument' sampling wind vector without any uncertainties, i.e. it is absolutely 'accurate'. This method takes following parameters:\n",
    " - `meas_pts` : Measurement points position as (n,3) shaped numpy array\n",
    " - `time_steps` : Numpy array of time instances at which sonic is 'measuring'\n",
    " \n",
    " > **mocalum note**: Beware that `meas_pts` must contain points which are within the bounding box of lidar measurement points. Otherwise the method `generate_virtual_sonic`  will return `NaNs`.\n",
    " \n",
    "In this tutorial we will set `meas_pts` to the central point of the PPI scan, while `time_steps` will be take values of `data.probing[lidar_id].time`. \n",
    " \n",
    "The result of this method is an `xarray` dataset `data.sonic_wind` containing the wind vector values at given point(s) and given time instances. Since we are going to average PPI scans prior the wind speed reconstruction a function `average_sonic` is provided, which takes the following input parameters: \n",
    " - `ds` : `mocalum` sonic_wind xr dataset\n",
    " - `no_samples` : number of samples in averaging block\n",
    " and return the averaged sonic_wind xr dataset.\n",
    " \n",
    "We will have to be careful to match `no_samples`, such that the averaged sonic_wind dataset has length matching to the lenght of the reconstructed wind dataset.\n",
    " \n",
    "\n",
    "Before we bundle this all together lets remind ourselves what are the steps in configuration:"
   ]
  },
  {
   "cell_type": "code",
   "execution_count": 37,
   "metadata": {},
   "outputs": [],
   "source": [
    "meas_range = 1000 # in m\n",
    "meas_height = 100 # in m\n",
    "sector_size = 30 # in deg\n",
    "wind_from_direction = 45 # in deg\n",
    "avg_period = 600 # in seconds\n",
    "\n",
    "PPI_cfg = {\n",
    "    'no_scans' : 2*3*5*7*9*100, # to be able to average for various combination of sector size\n",
    "    'range' : 1000,\n",
    "    'meas_height' : meas_height,\n",
    "    'elevation' : np.degrees(np.arcsin(meas_height / meas_range)), # to assure measurements at 100 m agl\n",
    "    'angular_step' : 1,  # degreee\n",
    "    'acq_time' : 1,      # s\n",
    "    'azimuth_mid' : 90,  # central azimuth angle\n",
    "    'sector_size' : sector_size,  # degree\n",
    "}\n",
    "\n",
    "# calculating number of scans and sonic samples in averaging block\n",
    "lidar_scans_per_blck = int(avg_period/(sector_size/(PPI_cfg['angular_step'] / PPI_cfg['acq_time'])))\n",
    "sonic_samples_per_blck = int(avg_period/PPI_cfg['acq_time'])\n",
    "\n",
    "\n",
    "atmo_cfg={'wind_speed':10,\n",
    "          'upward_velocity':0,\n",
    "          'wind_from_direction': wind_from_direction,\n",
    "          'reference_height':100, # we set the reference height same as the scanned height \n",
    "          'shear_exponent':0.2}\n",
    "\n",
    "\n",
    "mc_IVAP.generate_PPI_scan('koshava', PPI_cfg)\n",
    "mc_IVAP.generate_uncertainties('koshava')\n",
    "mc_IVAP.generate_flow_field('koshava', atmo_cfg, 'turbulent')\n",
    "mc_IVAP.project_to_los('koshava')\n",
    "\n",
    "# virtual sonic setup/generation\n",
    "time_steps = mc_IVAP.data.probing['koshava'].time.values\n",
    "sonic_pos = np.array([[1000,0,meas_height]])\n",
    "mc_IVAP.generate_virtual_sonic(sonic_pos, time_steps)\n",
    "\n",
    "# average and reconstruct data\n",
    "mc_IVAP.reconstruct_wind('koshava', 'IVAP', lidar_scans_per_blck)\n",
    "avg_sonic_data = average_sonic(mc_IVAP.data.sonic_wind, sonic_samples_per_blck)\n",
    "\n",
    "# calculate difference:\n",
    "diff_ds = avg_sonic_data - mc_IVAP.data.rc_wind\n",
    "\n",
    "# get standard uncertainty\n",
    "unc_ws = diff_ds.ws.std() # standard uncertainty of horizontal wind speed\n",
    "unc_dir = diff_ds.wdir.std() # standard uncertainty of wind direction"
   ]
  },
  {
   "cell_type": "markdown",
   "metadata": {},
   "source": [
    "Let's now setup loop that will perform Monte Carlo simulations.\n",
    "\n",
    "We will loop over sector size starting at 10 deg finishing at 90, and run simulations for two wind direciton 0 deg (wind perpendicular to the PPI scan) and 90 deg (wind aligned with the PPI scan).\n",
    "\n",
    "To know how far we are in simulations we will import package `tqdm` which will display the current progress.\n",
    "\n",
    "The end result of the simulation will be provided as `xarray` dataset, which will be exported as a [NetCDF](https://en.wikipedia.org/wiki/NetCDF) file for future reuse."
   ]
  },
  {
   "cell_type": "code",
   "execution_count": 51,
   "metadata": {},
   "outputs": [],
   "source": [
    "from tqdm.notebook import trange, tqdm"
   ]
  },
  {
   "cell_type": "code",
   "execution_count": 52,
   "metadata": {},
   "outputs": [
    {
     "data": {
      "application/vnd.jupyter.widget-view+json": {
       "model_id": "5b68526759e9403e9dac4b4176b530c2",
       "version_major": 2,
       "version_minor": 0
      },
      "text/plain": [
       "HBox(children=(FloatProgress(value=0.0, description='Sector size loop', max=10.0, style=ProgressStyle(descript…"
      ]
     },
     "metadata": {},
     "output_type": "display_data"
    },
    {
     "data": {
      "application/vnd.jupyter.widget-view+json": {
       "model_id": "",
       "version_major": 2,
       "version_minor": 0
      },
      "text/plain": [
       "HBox(children=(FloatProgress(value=0.0, description='Wind direction loop', max=2.0, style=ProgressStyle(descri…"
      ]
     },
     "metadata": {},
     "output_type": "display_data"
    },
    {
     "data": {
      "application/vnd.jupyter.widget-view+json": {
       "model_id": "",
       "version_major": 2,
       "version_minor": 0
      },
      "text/plain": [
       "HBox(children=(FloatProgress(value=0.0, description='Wind direction loop', max=2.0, style=ProgressStyle(descri…"
      ]
     },
     "metadata": {},
     "output_type": "display_data"
    },
    {
     "data": {
      "application/vnd.jupyter.widget-view+json": {
       "model_id": "",
       "version_major": 2,
       "version_minor": 0
      },
      "text/plain": [
       "HBox(children=(FloatProgress(value=0.0, description='Wind direction loop', max=2.0, style=ProgressStyle(descri…"
      ]
     },
     "metadata": {},
     "output_type": "display_data"
    },
    {
     "data": {
      "application/vnd.jupyter.widget-view+json": {
       "model_id": "",
       "version_major": 2,
       "version_minor": 0
      },
      "text/plain": [
       "HBox(children=(FloatProgress(value=0.0, description='Wind direction loop', max=2.0, style=ProgressStyle(descri…"
      ]
     },
     "metadata": {},
     "output_type": "display_data"
    },
    {
     "data": {
      "application/vnd.jupyter.widget-view+json": {
       "model_id": "",
       "version_major": 2,
       "version_minor": 0
      },
      "text/plain": [
       "HBox(children=(FloatProgress(value=0.0, description='Wind direction loop', max=2.0, style=ProgressStyle(descri…"
      ]
     },
     "metadata": {},
     "output_type": "display_data"
    },
    {
     "data": {
      "application/vnd.jupyter.widget-view+json": {
       "model_id": "",
       "version_major": 2,
       "version_minor": 0
      },
      "text/plain": [
       "HBox(children=(FloatProgress(value=0.0, description='Wind direction loop', max=2.0, style=ProgressStyle(descri…"
      ]
     },
     "metadata": {},
     "output_type": "display_data"
    },
    {
     "data": {
      "application/vnd.jupyter.widget-view+json": {
       "model_id": "",
       "version_major": 2,
       "version_minor": 0
      },
      "text/plain": [
       "HBox(children=(FloatProgress(value=0.0, description='Wind direction loop', max=2.0, style=ProgressStyle(descri…"
      ]
     },
     "metadata": {},
     "output_type": "display_data"
    },
    {
     "data": {
      "application/vnd.jupyter.widget-view+json": {
       "model_id": "",
       "version_major": 2,
       "version_minor": 0
      },
      "text/plain": [
       "HBox(children=(FloatProgress(value=0.0, description='Wind direction loop', max=2.0, style=ProgressStyle(descri…"
      ]
     },
     "metadata": {},
     "output_type": "display_data"
    },
    {
     "data": {
      "application/vnd.jupyter.widget-view+json": {
       "model_id": "",
       "version_major": 2,
       "version_minor": 0
      },
      "text/plain": [
       "HBox(children=(FloatProgress(value=0.0, description='Wind direction loop', max=2.0, style=ProgressStyle(descri…"
      ]
     },
     "metadata": {},
     "output_type": "display_data"
    },
    {
     "data": {
      "application/vnd.jupyter.widget-view+json": {
       "model_id": "",
       "version_major": 2,
       "version_minor": 0
      },
      "text/plain": [
       "HBox(children=(FloatProgress(value=0.0, description='Wind direction loop', max=2.0, style=ProgressStyle(descri…"
      ]
     },
     "metadata": {},
     "output_type": "display_data"
    },
    {
     "name": "stdout",
     "output_type": "stream",
     "text": [
      "\n"
     ]
    }
   ],
   "source": [
    "meas_range = 1000 # in m\n",
    "meas_height = 100 # in m\n",
    "avg_period = 600 # in seconds\n",
    "\n",
    "sim_ssize = [10, 20, 30, 40, 50, 60, 70, 80, 90, 100]\n",
    "sim_wdir = [0,90]\n",
    "\n",
    "uncertainty = np.empty((len(sim_ssize),\n",
    "                        len(sim_wdir),2))\n",
    "\n",
    "for i,sector in enumerate(tqdm(sim_ssize, desc =\"Sector size loop\")):\n",
    "\n",
    "    sector_size = sector # in deg\n",
    "\n",
    "    PPI_cfg = {\n",
    "        'no_scans' : 2*3*5*7*9*100, # to be able to average for various combination of sector size\n",
    "        'range' : 1000,\n",
    "        'meas_height' : meas_height,\n",
    "        'elevation' : np.degrees(np.arcsin(meas_height / meas_range)), # to assure measurements at 100 m agl\n",
    "        'angular_step' : 1,  # degreee\n",
    "        'acq_time' : 1,      # s\n",
    "        'azimuth_mid' : 90,  # central azimuth angle\n",
    "        'sector_size' : sector_size,  # degree\n",
    "    }\n",
    "\n",
    "    # calculating number of scans and sonic samples in averaging block\n",
    "    lidar_scans_per_blck = int(avg_period/(sector_size/(PPI_cfg['angular_step'] / PPI_cfg['acq_time'])))\n",
    "    sonic_samples_per_blck = int(avg_period/PPI_cfg['acq_time'])\n",
    "\n",
    "\n",
    "    for j,wind_from_direction in enumerate(tqdm(sim_wdir, desc =\"Wind direction loop\", leave = False)):\n",
    "        atmo_cfg={'wind_speed':10,\n",
    "                  'upward_velocity':0,\n",
    "                  'wind_from_direction': wind_from_direction,\n",
    "                  'reference_height':100, # we set the reference height same as the scanned height \n",
    "                  'shear_exponent':0.2}\n",
    "\n",
    "\n",
    "        mc_IVAP.generate_PPI_scan('koshava', PPI_cfg)\n",
    "        mc_IVAP.generate_uncertainties('koshava')\n",
    "        mc_IVAP.generate_flow_field('koshava', atmo_cfg, 'turbulent')\n",
    "        mc_IVAP.project_to_los('koshava')\n",
    "\n",
    "        # virtual sonic setup/generation\n",
    "        time_steps = mc_IVAP.data.probing['koshava'].time.values\n",
    "        sonic_pos = np.array([[1000,0,meas_height]])\n",
    "        mc_IVAP.generate_virtual_sonic(sonic_pos, time_steps)\n",
    "\n",
    "        # average and reconstruct data\n",
    "        mc_IVAP.reconstruct_wind('koshava', 'IVAP', lidar_scans_per_blck)\n",
    "        avg_sonic_data = average_sonic(mc_IVAP.data.sonic_wind, sonic_samples_per_blck)\n",
    "\n",
    "        # calculate difference:\n",
    "        diff_ds = avg_sonic_data - mc_IVAP.data.rc_wind\n",
    "\n",
    "        # get standard uncertainty\n",
    "        unc_ws = diff_ds.ws.std() # standard uncertainty of horizontal wind speed\n",
    "        unc_dir = diff_ds.wdir.std() # standard uncertainty of wind direction\n",
    "\n",
    "        uncertainty[i,j,0] = unc_ws\n",
    "        uncertainty[i,j,1] = unc_dir        "
   ]
  },
  {
   "cell_type": "code",
   "execution_count": 73,
   "metadata": {},
   "outputs": [],
   "source": [
    "ds_unc_uncorr = xr.Dataset({'unc_ws': (['corr_coef', 'sector_size', 'wind_direction'], np.array([uncertainty[:,:,0]])),\n",
    "                            'unc_wdir': (['corr_coef', 'sector_size', 'wind_direction'], np.array([uncertainty[:,:,1]]))},\n",
    "                           coords={'corr_coef': [0],\n",
    "                                   'sector_size': sim_ssize,\n",
    "                                   'wind_direction': sim_wdir})"
   ]
  },
  {
   "cell_type": "markdown",
   "metadata": {},
   "source": [
    "## Case 2: Correlated uncertainties\n",
    "\n",
    "The only difference comparing to the first case is setting up `corr_coef` to 1."
   ]
  },
  {
   "cell_type": "code",
   "execution_count": 76,
   "metadata": {},
   "outputs": [
    {
     "data": {
      "application/vnd.jupyter.widget-view+json": {
       "model_id": "d8e00c1edd80485e9b5dc7739dc0ccc1",
       "version_major": 2,
       "version_minor": 0
      },
      "text/plain": [
       "HBox(children=(FloatProgress(value=0.0, description='Sector size loop', max=10.0, style=ProgressStyle(descript…"
      ]
     },
     "metadata": {},
     "output_type": "display_data"
    },
    {
     "data": {
      "application/vnd.jupyter.widget-view+json": {
       "model_id": "",
       "version_major": 2,
       "version_minor": 0
      },
      "text/plain": [
       "HBox(children=(FloatProgress(value=0.0, description='Wind direction loop', max=2.0, style=ProgressStyle(descri…"
      ]
     },
     "metadata": {},
     "output_type": "display_data"
    },
    {
     "data": {
      "application/vnd.jupyter.widget-view+json": {
       "model_id": "",
       "version_major": 2,
       "version_minor": 0
      },
      "text/plain": [
       "HBox(children=(FloatProgress(value=0.0, description='Wind direction loop', max=2.0, style=ProgressStyle(descri…"
      ]
     },
     "metadata": {},
     "output_type": "display_data"
    },
    {
     "data": {
      "application/vnd.jupyter.widget-view+json": {
       "model_id": "",
       "version_major": 2,
       "version_minor": 0
      },
      "text/plain": [
       "HBox(children=(FloatProgress(value=0.0, description='Wind direction loop', max=2.0, style=ProgressStyle(descri…"
      ]
     },
     "metadata": {},
     "output_type": "display_data"
    },
    {
     "data": {
      "application/vnd.jupyter.widget-view+json": {
       "model_id": "",
       "version_major": 2,
       "version_minor": 0
      },
      "text/plain": [
       "HBox(children=(FloatProgress(value=0.0, description='Wind direction loop', max=2.0, style=ProgressStyle(descri…"
      ]
     },
     "metadata": {},
     "output_type": "display_data"
    },
    {
     "data": {
      "application/vnd.jupyter.widget-view+json": {
       "model_id": "",
       "version_major": 2,
       "version_minor": 0
      },
      "text/plain": [
       "HBox(children=(FloatProgress(value=0.0, description='Wind direction loop', max=2.0, style=ProgressStyle(descri…"
      ]
     },
     "metadata": {},
     "output_type": "display_data"
    },
    {
     "data": {
      "application/vnd.jupyter.widget-view+json": {
       "model_id": "",
       "version_major": 2,
       "version_minor": 0
      },
      "text/plain": [
       "HBox(children=(FloatProgress(value=0.0, description='Wind direction loop', max=2.0, style=ProgressStyle(descri…"
      ]
     },
     "metadata": {},
     "output_type": "display_data"
    },
    {
     "data": {
      "application/vnd.jupyter.widget-view+json": {
       "model_id": "",
       "version_major": 2,
       "version_minor": 0
      },
      "text/plain": [
       "HBox(children=(FloatProgress(value=0.0, description='Wind direction loop', max=2.0, style=ProgressStyle(descri…"
      ]
     },
     "metadata": {},
     "output_type": "display_data"
    },
    {
     "data": {
      "application/vnd.jupyter.widget-view+json": {
       "model_id": "",
       "version_major": 2,
       "version_minor": 0
      },
      "text/plain": [
       "HBox(children=(FloatProgress(value=0.0, description='Wind direction loop', max=2.0, style=ProgressStyle(descri…"
      ]
     },
     "metadata": {},
     "output_type": "display_data"
    },
    {
     "data": {
      "application/vnd.jupyter.widget-view+json": {
       "model_id": "",
       "version_major": 2,
       "version_minor": 0
      },
      "text/plain": [
       "HBox(children=(FloatProgress(value=0.0, description='Wind direction loop', max=2.0, style=ProgressStyle(descri…"
      ]
     },
     "metadata": {},
     "output_type": "display_data"
    },
    {
     "data": {
      "application/vnd.jupyter.widget-view+json": {
       "model_id": "",
       "version_major": 2,
       "version_minor": 0
      },
      "text/plain": [
       "HBox(children=(FloatProgress(value=0.0, description='Wind direction loop', max=2.0, style=ProgressStyle(descri…"
      ]
     },
     "metadata": {},
     "output_type": "display_data"
    },
    {
     "name": "stdout",
     "output_type": "stream",
     "text": [
      "\n"
     ]
    }
   ],
   "source": [
    "lidar_pos = np.array([0,0,0])\n",
    "\n",
    "unc_cfg = {'unc_az'   : 0.1,\n",
    "           'unc_el'   : 0.1,\n",
    "           'unc_rng'  : 5,\n",
    "           'unc_est'  : 0.1,\n",
    "           'corr_coef':1}\n",
    "\n",
    "mc_IVAP.add_lidar('koshava', lidar_pos, unc_cfg)\n",
    "\n",
    "\n",
    "\n",
    "meas_range = 1000 # in m\n",
    "meas_height = 100 # in m\n",
    "avg_period = 600 # in seconds\n",
    "\n",
    "sim_ssize = [10, 20, 30, 40, 50, 60, 70, 80, 90, 100]\n",
    "sim_wdir = [0,90]\n",
    "\n",
    "uncertainty = np.empty((len(sim_ssize),\n",
    "                        len(sim_wdir),2))\n",
    "\n",
    "for i,sector in enumerate(tqdm(sim_ssize, desc =\"Sector size loop\")):\n",
    "\n",
    "    sector_size = sector # in deg\n",
    "\n",
    "    PPI_cfg = {\n",
    "        'no_scans' : 2*3*5*7*9*100, # to be able to average for various combination of sector size\n",
    "        'range' : 1000,\n",
    "        'meas_height' : meas_height,\n",
    "        'elevation' : np.degrees(np.arcsin(meas_height / meas_range)), # to assure measurements at 100 m agl\n",
    "        'angular_step' : 1,  # degreee\n",
    "        'acq_time' : 1,      # s\n",
    "        'azimuth_mid' : 90,  # central azimuth angle\n",
    "        'sector_size' : sector_size,  # degree\n",
    "    }\n",
    "\n",
    "    # calculating number of scans and sonic samples in averaging block\n",
    "    lidar_scans_per_blck = int(avg_period/(sector_size/(PPI_cfg['angular_step'] / PPI_cfg['acq_time'])))\n",
    "    sonic_samples_per_blck = int(avg_period/PPI_cfg['acq_time'])\n",
    "\n",
    "\n",
    "    for j,wind_from_direction in enumerate(tqdm(sim_wdir, desc =\"Wind direction loop\", leave = False)):\n",
    "        atmo_cfg={'wind_speed':10,\n",
    "                  'upward_velocity':0,\n",
    "                  'wind_from_direction': wind_from_direction,\n",
    "                  'reference_height':100, # we set the reference height same as the scanned height \n",
    "                  'shear_exponent':0.2}\n",
    "\n",
    "\n",
    "        mc_IVAP.generate_PPI_scan('koshava', PPI_cfg)\n",
    "        mc_IVAP.generate_uncertainties('koshava')\n",
    "        mc_IVAP.generate_flow_field('koshava', atmo_cfg, 'turbulent')\n",
    "        mc_IVAP.project_to_los('koshava')\n",
    "\n",
    "        # virtual sonic setup/generation\n",
    "        time_steps = mc_IVAP.data.probing['koshava'].time.values\n",
    "        sonic_pos = np.array([[1000,0,meas_height]])\n",
    "        mc_IVAP.generate_virtual_sonic(sonic_pos, time_steps)\n",
    "\n",
    "        # average and reconstruct data\n",
    "        mc_IVAP.reconstruct_wind('koshava', 'IVAP', lidar_scans_per_blck)\n",
    "        avg_sonic_data = average_sonic(mc_IVAP.data.sonic_wind, sonic_samples_per_blck)\n",
    "\n",
    "        # calculate difference:\n",
    "        diff_ds = avg_sonic_data - mc_IVAP.data.rc_wind\n",
    "\n",
    "        # get standard uncertainty\n",
    "        unc_ws = diff_ds.ws.std() # standard uncertainty of horizontal wind speed\n",
    "        unc_dir = diff_ds.wdir.std() # standard uncertainty of wind direction\n",
    "\n",
    "        uncertainty[i,j,0] = unc_ws\n",
    "        uncertainty[i,j,1] = unc_dir        "
   ]
  },
  {
   "cell_type": "code",
   "execution_count": 78,
   "metadata": {},
   "outputs": [],
   "source": [
    "ds_unc_corr = xr.Dataset({'unc_ws': (['corr_coef', 'sector_size', 'wind_direction'], np.array([uncertainty[:,:,0]])),\n",
    "                          'unc_wdir': (['corr_coef', 'sector_size', 'wind_direction'], np.array([uncertainty[:,:,1]]))},\n",
    "                         coords={'corr_coef': [1],\n",
    "                                 'sector_size': sim_ssize,\n",
    "                                 'wind_direction': sim_wdir})"
   ]
  },
  {
   "cell_type": "code",
   "execution_count": 79,
   "metadata": {},
   "outputs": [
    {
     "data": {
      "text/html": [
       "<div><svg style=\"position: absolute; width: 0; height: 0; overflow: hidden\">\n",
       "<defs>\n",
       "<symbol id=\"icon-database\" viewBox=\"0 0 32 32\">\n",
       "<title>Show/Hide data repr</title>\n",
       "<path d=\"M16 0c-8.837 0-16 2.239-16 5v4c0 2.761 7.163 5 16 5s16-2.239 16-5v-4c0-2.761-7.163-5-16-5z\"></path>\n",
       "<path d=\"M16 17c-8.837 0-16-2.239-16-5v6c0 2.761 7.163 5 16 5s16-2.239 16-5v-6c0 2.761-7.163 5-16 5z\"></path>\n",
       "<path d=\"M16 26c-8.837 0-16-2.239-16-5v6c0 2.761 7.163 5 16 5s16-2.239 16-5v-6c0 2.761-7.163 5-16 5z\"></path>\n",
       "</symbol>\n",
       "<symbol id=\"icon-file-text2\" viewBox=\"0 0 32 32\">\n",
       "<title>Show/Hide attributes</title>\n",
       "<path d=\"M28.681 7.159c-0.694-0.947-1.662-2.053-2.724-3.116s-2.169-2.030-3.116-2.724c-1.612-1.182-2.393-1.319-2.841-1.319h-15.5c-1.378 0-2.5 1.121-2.5 2.5v27c0 1.378 1.122 2.5 2.5 2.5h23c1.378 0 2.5-1.122 2.5-2.5v-19.5c0-0.448-0.137-1.23-1.319-2.841zM24.543 5.457c0.959 0.959 1.712 1.825 2.268 2.543h-4.811v-4.811c0.718 0.556 1.584 1.309 2.543 2.268zM28 29.5c0 0.271-0.229 0.5-0.5 0.5h-23c-0.271 0-0.5-0.229-0.5-0.5v-27c0-0.271 0.229-0.5 0.5-0.5 0 0 15.499-0 15.5 0v7c0 0.552 0.448 1 1 1h7v19.5z\"></path>\n",
       "<path d=\"M23 26h-14c-0.552 0-1-0.448-1-1s0.448-1 1-1h14c0.552 0 1 0.448 1 1s-0.448 1-1 1z\"></path>\n",
       "<path d=\"M23 22h-14c-0.552 0-1-0.448-1-1s0.448-1 1-1h14c0.552 0 1 0.448 1 1s-0.448 1-1 1z\"></path>\n",
       "<path d=\"M23 18h-14c-0.552 0-1-0.448-1-1s0.448-1 1-1h14c0.552 0 1 0.448 1 1s-0.448 1-1 1z\"></path>\n",
       "</symbol>\n",
       "</defs>\n",
       "</svg>\n",
       "<style>/* CSS stylesheet for displaying xarray objects in jupyterlab.\n",
       " *\n",
       " */\n",
       "\n",
       ":root {\n",
       "  --xr-font-color0: var(--jp-content-font-color0, rgba(0, 0, 0, 1));\n",
       "  --xr-font-color2: var(--jp-content-font-color2, rgba(0, 0, 0, 0.54));\n",
       "  --xr-font-color3: var(--jp-content-font-color3, rgba(0, 0, 0, 0.38));\n",
       "  --xr-border-color: var(--jp-border-color2, #e0e0e0);\n",
       "  --xr-disabled-color: var(--jp-layout-color3, #bdbdbd);\n",
       "  --xr-background-color: var(--jp-layout-color0, white);\n",
       "  --xr-background-color-row-even: var(--jp-layout-color1, white);\n",
       "  --xr-background-color-row-odd: var(--jp-layout-color2, #eeeeee);\n",
       "}\n",
       "\n",
       ".xr-wrap {\n",
       "  min-width: 300px;\n",
       "  max-width: 700px;\n",
       "}\n",
       "\n",
       ".xr-header {\n",
       "  padding-top: 6px;\n",
       "  padding-bottom: 6px;\n",
       "  margin-bottom: 4px;\n",
       "  border-bottom: solid 1px var(--xr-border-color);\n",
       "}\n",
       "\n",
       ".xr-header > div,\n",
       ".xr-header > ul {\n",
       "  display: inline;\n",
       "  margin-top: 0;\n",
       "  margin-bottom: 0;\n",
       "}\n",
       "\n",
       ".xr-obj-type,\n",
       ".xr-array-name {\n",
       "  margin-left: 2px;\n",
       "  margin-right: 10px;\n",
       "}\n",
       "\n",
       ".xr-obj-type {\n",
       "  color: var(--xr-font-color2);\n",
       "}\n",
       "\n",
       ".xr-sections {\n",
       "  padding-left: 0 !important;\n",
       "  display: grid;\n",
       "  grid-template-columns: 150px auto auto 1fr 20px 20px;\n",
       "}\n",
       "\n",
       ".xr-section-item {\n",
       "  display: contents;\n",
       "}\n",
       "\n",
       ".xr-section-item input {\n",
       "  display: none;\n",
       "}\n",
       "\n",
       ".xr-section-item input + label {\n",
       "  color: var(--xr-disabled-color);\n",
       "}\n",
       "\n",
       ".xr-section-item input:enabled + label {\n",
       "  cursor: pointer;\n",
       "  color: var(--xr-font-color2);\n",
       "}\n",
       "\n",
       ".xr-section-item input:enabled + label:hover {\n",
       "  color: var(--xr-font-color0);\n",
       "}\n",
       "\n",
       ".xr-section-summary {\n",
       "  grid-column: 1;\n",
       "  color: var(--xr-font-color2);\n",
       "  font-weight: 500;\n",
       "}\n",
       "\n",
       ".xr-section-summary > span {\n",
       "  display: inline-block;\n",
       "  padding-left: 0.5em;\n",
       "}\n",
       "\n",
       ".xr-section-summary-in:disabled + label {\n",
       "  color: var(--xr-font-color2);\n",
       "}\n",
       "\n",
       ".xr-section-summary-in + label:before {\n",
       "  display: inline-block;\n",
       "  content: '►';\n",
       "  font-size: 11px;\n",
       "  width: 15px;\n",
       "  text-align: center;\n",
       "}\n",
       "\n",
       ".xr-section-summary-in:disabled + label:before {\n",
       "  color: var(--xr-disabled-color);\n",
       "}\n",
       "\n",
       ".xr-section-summary-in:checked + label:before {\n",
       "  content: '▼';\n",
       "}\n",
       "\n",
       ".xr-section-summary-in:checked + label > span {\n",
       "  display: none;\n",
       "}\n",
       "\n",
       ".xr-section-summary,\n",
       ".xr-section-inline-details {\n",
       "  padding-top: 4px;\n",
       "  padding-bottom: 4px;\n",
       "}\n",
       "\n",
       ".xr-section-inline-details {\n",
       "  grid-column: 2 / -1;\n",
       "}\n",
       "\n",
       ".xr-section-details {\n",
       "  display: none;\n",
       "  grid-column: 1 / -1;\n",
       "  margin-bottom: 5px;\n",
       "}\n",
       "\n",
       ".xr-section-summary-in:checked ~ .xr-section-details {\n",
       "  display: contents;\n",
       "}\n",
       "\n",
       ".xr-array-wrap {\n",
       "  grid-column: 1 / -1;\n",
       "  display: grid;\n",
       "  grid-template-columns: 20px auto;\n",
       "}\n",
       "\n",
       ".xr-array-wrap > label {\n",
       "  grid-column: 1;\n",
       "  vertical-align: top;\n",
       "}\n",
       "\n",
       ".xr-preview {\n",
       "  color: var(--xr-font-color3);\n",
       "}\n",
       "\n",
       ".xr-array-preview,\n",
       ".xr-array-data {\n",
       "  padding: 0 5px !important;\n",
       "  grid-column: 2;\n",
       "}\n",
       "\n",
       ".xr-array-data,\n",
       ".xr-array-in:checked ~ .xr-array-preview {\n",
       "  display: none;\n",
       "}\n",
       "\n",
       ".xr-array-in:checked ~ .xr-array-data,\n",
       ".xr-array-preview {\n",
       "  display: inline-block;\n",
       "}\n",
       "\n",
       ".xr-dim-list {\n",
       "  display: inline-block !important;\n",
       "  list-style: none;\n",
       "  padding: 0 !important;\n",
       "  margin: 0;\n",
       "}\n",
       "\n",
       ".xr-dim-list li {\n",
       "  display: inline-block;\n",
       "  padding: 0;\n",
       "  margin: 0;\n",
       "}\n",
       "\n",
       ".xr-dim-list:before {\n",
       "  content: '(';\n",
       "}\n",
       "\n",
       ".xr-dim-list:after {\n",
       "  content: ')';\n",
       "}\n",
       "\n",
       ".xr-dim-list li:not(:last-child):after {\n",
       "  content: ',';\n",
       "  padding-right: 5px;\n",
       "}\n",
       "\n",
       ".xr-has-index {\n",
       "  font-weight: bold;\n",
       "}\n",
       "\n",
       ".xr-var-list,\n",
       ".xr-var-item {\n",
       "  display: contents;\n",
       "}\n",
       "\n",
       ".xr-var-item > div,\n",
       ".xr-var-item label,\n",
       ".xr-var-item > .xr-var-name span {\n",
       "  background-color: var(--xr-background-color-row-even);\n",
       "  margin-bottom: 0;\n",
       "}\n",
       "\n",
       ".xr-var-item > .xr-var-name:hover span {\n",
       "  padding-right: 5px;\n",
       "}\n",
       "\n",
       ".xr-var-list > li:nth-child(odd) > div,\n",
       ".xr-var-list > li:nth-child(odd) > label,\n",
       ".xr-var-list > li:nth-child(odd) > .xr-var-name span {\n",
       "  background-color: var(--xr-background-color-row-odd);\n",
       "}\n",
       "\n",
       ".xr-var-name {\n",
       "  grid-column: 1;\n",
       "}\n",
       "\n",
       ".xr-var-dims {\n",
       "  grid-column: 2;\n",
       "}\n",
       "\n",
       ".xr-var-dtype {\n",
       "  grid-column: 3;\n",
       "  text-align: right;\n",
       "  color: var(--xr-font-color2);\n",
       "}\n",
       "\n",
       ".xr-var-preview {\n",
       "  grid-column: 4;\n",
       "}\n",
       "\n",
       ".xr-var-name,\n",
       ".xr-var-dims,\n",
       ".xr-var-dtype,\n",
       ".xr-preview,\n",
       ".xr-attrs dt {\n",
       "  white-space: nowrap;\n",
       "  overflow: hidden;\n",
       "  text-overflow: ellipsis;\n",
       "  padding-right: 10px;\n",
       "}\n",
       "\n",
       ".xr-var-name:hover,\n",
       ".xr-var-dims:hover,\n",
       ".xr-var-dtype:hover,\n",
       ".xr-attrs dt:hover {\n",
       "  overflow: visible;\n",
       "  width: auto;\n",
       "  z-index: 1;\n",
       "}\n",
       "\n",
       ".xr-var-attrs,\n",
       ".xr-var-data {\n",
       "  display: none;\n",
       "  background-color: var(--xr-background-color) !important;\n",
       "  padding-bottom: 5px !important;\n",
       "}\n",
       "\n",
       ".xr-var-attrs-in:checked ~ .xr-var-attrs,\n",
       ".xr-var-data-in:checked ~ .xr-var-data {\n",
       "  display: block;\n",
       "}\n",
       "\n",
       ".xr-var-data > table {\n",
       "  float: right;\n",
       "}\n",
       "\n",
       ".xr-var-name span,\n",
       ".xr-var-data,\n",
       ".xr-attrs {\n",
       "  padding-left: 25px !important;\n",
       "}\n",
       "\n",
       ".xr-attrs,\n",
       ".xr-var-attrs,\n",
       ".xr-var-data {\n",
       "  grid-column: 1 / -1;\n",
       "}\n",
       "\n",
       "dl.xr-attrs {\n",
       "  padding: 0;\n",
       "  margin: 0;\n",
       "  display: grid;\n",
       "  grid-template-columns: 125px auto;\n",
       "}\n",
       "\n",
       ".xr-attrs dt, dd {\n",
       "  padding: 0;\n",
       "  margin: 0;\n",
       "  float: left;\n",
       "  padding-right: 10px;\n",
       "  width: auto;\n",
       "}\n",
       "\n",
       ".xr-attrs dt {\n",
       "  font-weight: normal;\n",
       "  grid-column: 1;\n",
       "}\n",
       "\n",
       ".xr-attrs dt:hover span {\n",
       "  display: inline-block;\n",
       "  background: var(--xr-background-color);\n",
       "  padding-right: 10px;\n",
       "}\n",
       "\n",
       ".xr-attrs dd {\n",
       "  grid-column: 2;\n",
       "  white-space: pre-wrap;\n",
       "  word-break: break-all;\n",
       "}\n",
       "\n",
       ".xr-icon-database,\n",
       ".xr-icon-file-text2 {\n",
       "  display: inline-block;\n",
       "  vertical-align: middle;\n",
       "  width: 1em;\n",
       "  height: 1.5em !important;\n",
       "  stroke-width: 0;\n",
       "  stroke: currentColor;\n",
       "  fill: currentColor;\n",
       "}\n",
       "</style><div class='xr-wrap'><div class='xr-header'><div class='xr-obj-type'>xarray.Dataset</div></div><ul class='xr-sections'><li class='xr-section-item'><input id='section-add8edb7-88a0-4934-9b08-59ed602ad612' class='xr-section-summary-in' type='checkbox' disabled ><label for='section-add8edb7-88a0-4934-9b08-59ed602ad612' class='xr-section-summary'  title='Expand/collapse section'>Dimensions:</label><div class='xr-section-inline-details'><ul class='xr-dim-list'><li><span class='xr-has-index'>corr_coef</span>: 1</li><li><span class='xr-has-index'>sector_size</span>: 10</li><li><span class='xr-has-index'>wind_direction</span>: 2</li></ul></div><div class='xr-section-details'></div></li><li class='xr-section-item'><input id='section-7cf6e6f5-2402-40ac-886c-091f71150b17' class='xr-section-summary-in' type='checkbox'  checked><label for='section-7cf6e6f5-2402-40ac-886c-091f71150b17' class='xr-section-summary' >Coordinates: <span>(3)</span></label><div class='xr-section-inline-details'></div><div class='xr-section-details'><ul class='xr-var-list'><li class='xr-var-item'><div class='xr-var-name'><span class='xr-has-index'>corr_coef</span></div><div class='xr-var-dims'>(corr_coef)</div><div class='xr-var-dtype'>int64</div><div class='xr-var-preview xr-preview'>1</div><input id='attrs-41c0e656-b8d0-48fa-bf34-3500186c9749' class='xr-var-attrs-in' type='checkbox' disabled><label for='attrs-41c0e656-b8d0-48fa-bf34-3500186c9749' title='Show/Hide attributes'><svg class='icon xr-icon-file-text2'><use xlink:href='#icon-file-text2'></use></svg></label><input id='data-b458e9df-2161-45c4-b704-4690aad4e358' class='xr-var-data-in' type='checkbox'><label for='data-b458e9df-2161-45c4-b704-4690aad4e358' title='Show/Hide data repr'><svg class='icon xr-icon-database'><use xlink:href='#icon-database'></use></svg></label><div class='xr-var-attrs'><dl class='xr-attrs'></dl></div><pre class='xr-var-data'>array([1])</pre></li><li class='xr-var-item'><div class='xr-var-name'><span class='xr-has-index'>sector_size</span></div><div class='xr-var-dims'>(sector_size)</div><div class='xr-var-dtype'>int64</div><div class='xr-var-preview xr-preview'>10 20 30 40 50 60 70 80 90 100</div><input id='attrs-ee01d80b-b245-4569-872c-428de431bf9c' class='xr-var-attrs-in' type='checkbox' disabled><label for='attrs-ee01d80b-b245-4569-872c-428de431bf9c' title='Show/Hide attributes'><svg class='icon xr-icon-file-text2'><use xlink:href='#icon-file-text2'></use></svg></label><input id='data-d80403ac-e857-482f-8bfb-f1b25595dfc7' class='xr-var-data-in' type='checkbox'><label for='data-d80403ac-e857-482f-8bfb-f1b25595dfc7' title='Show/Hide data repr'><svg class='icon xr-icon-database'><use xlink:href='#icon-database'></use></svg></label><div class='xr-var-attrs'><dl class='xr-attrs'></dl></div><pre class='xr-var-data'>array([ 10,  20,  30,  40,  50,  60,  70,  80,  90, 100])</pre></li><li class='xr-var-item'><div class='xr-var-name'><span class='xr-has-index'>wind_direction</span></div><div class='xr-var-dims'>(wind_direction)</div><div class='xr-var-dtype'>int64</div><div class='xr-var-preview xr-preview'>0 90</div><input id='attrs-e9429409-dc12-435e-9d31-98d602b502a2' class='xr-var-attrs-in' type='checkbox' disabled><label for='attrs-e9429409-dc12-435e-9d31-98d602b502a2' title='Show/Hide attributes'><svg class='icon xr-icon-file-text2'><use xlink:href='#icon-file-text2'></use></svg></label><input id='data-8869bcd1-d990-479d-9ab6-7c2470c3b59f' class='xr-var-data-in' type='checkbox'><label for='data-8869bcd1-d990-479d-9ab6-7c2470c3b59f' title='Show/Hide data repr'><svg class='icon xr-icon-database'><use xlink:href='#icon-database'></use></svg></label><div class='xr-var-attrs'><dl class='xr-attrs'></dl></div><pre class='xr-var-data'>array([ 0, 90])</pre></li></ul></div></li><li class='xr-section-item'><input id='section-077b8f26-3a3f-46a5-87a8-916b05963737' class='xr-section-summary-in' type='checkbox'  checked><label for='section-077b8f26-3a3f-46a5-87a8-916b05963737' class='xr-section-summary' >Data variables: <span>(2)</span></label><div class='xr-section-inline-details'></div><div class='xr-section-details'><ul class='xr-var-list'><li class='xr-var-item'><div class='xr-var-name'><span>unc_ws</span></div><div class='xr-var-dims'>(corr_coef, sector_size, wind_direction)</div><div class='xr-var-dtype'>float64</div><div class='xr-var-preview xr-preview'>0.6262 0.04019 ... 0.1988 0.2394</div><input id='attrs-ff33a7ff-8cab-4375-aa3f-080a6f23f05f' class='xr-var-attrs-in' type='checkbox' disabled><label for='attrs-ff33a7ff-8cab-4375-aa3f-080a6f23f05f' title='Show/Hide attributes'><svg class='icon xr-icon-file-text2'><use xlink:href='#icon-file-text2'></use></svg></label><input id='data-4c6d6a35-7c14-4de5-9c43-b06f21fda7c9' class='xr-var-data-in' type='checkbox'><label for='data-4c6d6a35-7c14-4de5-9c43-b06f21fda7c9' title='Show/Hide data repr'><svg class='icon xr-icon-database'><use xlink:href='#icon-database'></use></svg></label><div class='xr-var-attrs'><dl class='xr-attrs'></dl></div><pre class='xr-var-data'>array([[[0.62615986, 0.04019351],\n",
       "        [0.61560037, 0.05245714],\n",
       "        [0.3829098 , 0.06042833],\n",
       "        [0.5583701 , 0.07012265],\n",
       "        [0.36222896, 0.08530204],\n",
       "        [0.45123449, 0.14993252],\n",
       "        [0.42484091, 0.09341102],\n",
       "        [0.3490992 , 0.18821754],\n",
       "        [0.36300134, 0.17321404],\n",
       "        [0.19878569, 0.23944028]]])</pre></li><li class='xr-var-item'><div class='xr-var-name'><span>unc_wdir</span></div><div class='xr-var-dims'>(corr_coef, sector_size, wind_direction)</div><div class='xr-var-dtype'>float64</div><div class='xr-var-preview xr-preview'>170.9 3.254 173.6 ... 178.1 1.332</div><input id='attrs-f680c928-31c7-4078-9e32-eceed90ab969' class='xr-var-attrs-in' type='checkbox' disabled><label for='attrs-f680c928-31c7-4078-9e32-eceed90ab969' title='Show/Hide attributes'><svg class='icon xr-icon-file-text2'><use xlink:href='#icon-file-text2'></use></svg></label><input id='data-3910b611-6d88-46d2-a9bd-0659a2d51363' class='xr-var-data-in' type='checkbox'><label for='data-3910b611-6d88-46d2-a9bd-0659a2d51363' title='Show/Hide data repr'><svg class='icon xr-icon-database'><use xlink:href='#icon-database'></use></svg></label><div class='xr-var-attrs'><dl class='xr-attrs'></dl></div><pre class='xr-var-data'>array([[[170.93799791,   3.25359123],\n",
       "        [173.58433   ,   3.2863089 ],\n",
       "        [170.69189775,   2.50672958],\n",
       "        [176.42851909,   3.01683298],\n",
       "        [178.39670512,   1.65016394],\n",
       "        [159.90702649,   2.65121906],\n",
       "        [173.88029126,   1.61809765],\n",
       "        [170.68032589,   1.76818356],\n",
       "        [156.24624843,   1.47636744],\n",
       "        [178.09812228,   1.3320372 ]]])</pre></li></ul></div></li><li class='xr-section-item'><input id='section-e2f81531-385c-4991-b078-f18efb281833' class='xr-section-summary-in' type='checkbox' disabled ><label for='section-e2f81531-385c-4991-b078-f18efb281833' class='xr-section-summary'  title='Expand/collapse section'>Attributes: <span>(0)</span></label><div class='xr-section-inline-details'></div><div class='xr-section-details'><dl class='xr-attrs'></dl></div></li></ul></div></div>"
      ],
      "text/plain": [
       "<xarray.Dataset>\n",
       "Dimensions:         (corr_coef: 1, sector_size: 10, wind_direction: 2)\n",
       "Coordinates:\n",
       "  * corr_coef       (corr_coef) int64 1\n",
       "  * sector_size     (sector_size) int64 10 20 30 40 50 60 70 80 90 100\n",
       "  * wind_direction  (wind_direction) int64 0 90\n",
       "Data variables:\n",
       "    unc_ws          (corr_coef, sector_size, wind_direction) float64 0.6262 ... 0.2394\n",
       "    unc_wdir        (corr_coef, sector_size, wind_direction) float64 170.9 ... 1.332"
      ]
     },
     "execution_count": 79,
     "metadata": {},
     "output_type": "execute_result"
    }
   ],
   "source": [
    "ds_unc_corr"
   ]
  },
  {
   "cell_type": "code",
   "execution_count": 93,
   "metadata": {},
   "outputs": [],
   "source": [
    "ds_IVAP_unc = ds_unc_corr.merge(ds_unc_uncorr)"
   ]
  },
  {
   "cell_type": "code",
   "execution_count": 95,
   "metadata": {},
   "outputs": [],
   "source": [
    "ds_IVAP_unc.to_netcdf('./assets/IVAP_uncertainty.nc')\n"
   ]
  },
  {
   "cell_type": "markdown",
   "metadata": {},
   "source": [
    "<a id='monte_carlo_results'></a>\n",
    "# Results of Monte Carlo simulations\n",
    "\n",
    "You can either analyze/plot your own results or you can directly load results from the previous Monte Carlo simulations which are located in the subdirectory `assets`. If you decide to load the results from the previous simulation execture the cell below, otherwise simply skip it and continue to the next cell after it."
   ]
  },
  {
   "cell_type": "code",
   "execution_count": 96,
   "metadata": {},
   "outputs": [],
   "source": [
    "ds_IVAP_unc = xr.open_dataset('./assets/IVAP_uncertainty.nc')"
   ]
  },
  {
   "cell_type": "code",
   "execution_count": 102,
   "metadata": {},
   "outputs": [
    {
     "data": {
      "text/plain": [
       "[<matplotlib.lines.Line2D at 0x128fb1dd0>]"
      ]
     },
     "execution_count": 102,
     "metadata": {},
     "output_type": "execute_result"
    },
    {
     "data": {
      "image/png": "[encoded data removed]",
      "text/plain": [
       "<Figure size 432x288 with 1 Axes>"
      ]
     },
     "metadata": {
      "needs_background": "light"
     },
     "output_type": "display_data"
    }
   ],
   "source": [
    "ds_IVAP_unc.unc_ws.sel(wind_direction=0, corr_coef=0).plot()\n",
    "ds_IVAP_unc.unc_ws.sel(wind_direction=0, corr_coef=1).plot()"
   ]
  },
  {
   "cell_type": "code",
   "execution_count": 133,
   "metadata": {},
   "outputs": [],
   "source": [
    "# setup of fontsize for plots\n",
    "\n",
    "SMALL_SIZE = 12\n",
    "MEDIUM_SIZE = 14\n",
    "BIGGER_SIZE = 16\n",
    "\n",
    "plt.rc('font', size=MEDIUM_SIZE)          # controls default text sizes\n",
    "plt.rc('axes', titlesize=MEDIUM_SIZE)     # fontsize of the axes title\n",
    "plt.rc('axes', labelsize=MEDIUM_SIZE)    # fontsize of the x and y labels\n",
    "plt.rc('xtick', labelsize=MEDIUM_SIZE)    # fontsize of the tick labels\n",
    "plt.rc('ytick', labelsize=MEDIUM_SIZE)    # fontsize of the tick labels\n",
    "plt.rc('legend', fontsize=MEDIUM_SIZE)    # legend fontsize\n",
    "plt.rc('figure', titlesize=BIGGER_SIZE)  # fontsize of the figure title"
   ]
  },
  {
   "cell_type": "code",
   "execution_count": 142,
   "metadata": {},
   "outputs": [
    {
     "data": {
      "image/png": "[encoded data removed]",
      "text/plain": [
       "<Figure size 540x540 with 1 Axes>"
      ]
     },
     "metadata": {
      "needs_background": "light"
     },
     "output_type": "display_data"
    }
   ],
   "source": [
    "fig, ax = plt.subplots(figsize=(7.5, 7.5))\n",
    "plt.grid()\n",
    "\n",
    "\n",
    "ds_IVAP_unc.unc_ws.sel(wind_direction=90, corr_coef=0).plot(ax=ax, label='corr coeficient = 0')\n",
    "ds_IVAP_unc.unc_ws.sel(wind_direction=90, corr_coef=1).plot(ax=ax, label='corr coeficient = 1')\n",
    "\n",
    "plt.xlabel('Sector size [deg]')\n",
    "plt.ylabel('Wind speed uncertainty [m/s]')\n",
    "\n",
    "plt.title('Wind aligned with the scanned sector (wind dir = 90 deg)')\n",
    "plt.legend(loc=\"upper left\")\n",
    "plt.show()\n",
    "\n",
    "fig.savefig('./assets/wind_speed_uncertainty_dir_90.png')"
   ]
  },
  {
   "cell_type": "code",
   "execution_count": 141,
   "metadata": {},
   "outputs": [
    {
     "data": {
      "image/png": "[encoded data removed]",
      "text/plain": [
       "<Figure size 540x540 with 1 Axes>"
      ]
     },
     "metadata": {
      "needs_background": "light"
     },
     "output_type": "display_data"
    }
   ],
   "source": [
    "fig, ax = plt.subplots(figsize=(7.5, 7.5))\n",
    "\n",
    "plt.grid()\n",
    "ds_IVAP_unc.unc_ws.sel(wind_direction=0, corr_coef=0).plot(ax=ax, label='corr coeficient = 0')\n",
    "ds_IVAP_unc.unc_ws.sel(wind_direction=0, corr_coef=1).plot(ax=ax, label='corr coeficient = 1')\n",
    "\n",
    "plt.xlabel('Sector size [deg]')\n",
    "plt.ylabel('Wind speed uncertainty [m/s]')\n",
    "\n",
    "plt.title('Wind perpendicular to the scanned sector (wind dir = 0 deg)')\n",
    "plt.legend(loc=\"upper right\")\n",
    "plt.show()\n",
    "\n",
    "fig.savefig('./assets/wind_speed_uncertainty_dir_0.png')"
   ]
  },
  {
   "cell_type": "code",
   "execution_count": null,
   "metadata": {},
   "outputs": [],
   "source": []
  }
 ],
 "metadata": {
  "kernelspec": {
   "display_name": "Python 3.7.6 64-bit ('mocalum_dev': conda)",
   "language": "python",
   "name": "python37664bitmocalumdevconda9f3d81576f37406bbe9589e581bccc6c"
  },
  "language_info": {
   "codemirror_mode": {
    "name": "ipython",
    "version": 3
   },
   "file_extension": ".py",
   "mimetype": "text/x-python",
   "name": "python",
   "nbconvert_exporter": "python",
   "pygments_lexer": "ipython3",
   "version": "3.7.6"
  }
 },
 "nbformat": 4,
 "nbformat_minor": 4
}
