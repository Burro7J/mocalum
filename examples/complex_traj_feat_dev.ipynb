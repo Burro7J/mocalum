{
 "cells": [
  {
   "cell_type": "code",
   "execution_count": 1,
   "metadata": {},
   "outputs": [],
   "source": [
    "import mocalum as mc\n",
    "import numpy as np\n",
    "import xarray as xr\n",
    "\n",
    "import matplotlib.pyplot as plt"
   ]
  },
  {
   "cell_type": "code",
   "execution_count": 2,
   "metadata": {},
   "outputs": [],
   "source": [
    "# create mocalum object\n",
    "pl_mc = mc.Mocalum()"
   ]
  },
  {
   "cell_type": "code",
   "execution_count": 3,
   "metadata": {},
   "outputs": [],
   "source": [
    "# add a lidar to the object with description of uncertainties\n",
    "uncertainty = {\n",
    "    'unc_est' : 0.1,\n",
    "    'unc_rng' : 10,\n",
    "    'unc_az' : 0.1,\n",
    "    'unc_el' : 0.1,\n",
    "    'corr_coef' : 0,\n",
    "\n",
    " }\n",
    "\n",
    "\n",
    "# whittle_xyz = np.array([0, 500, 0])\n",
    "# koshava_xyz = np.array([0, 0, 0])\n",
    "# sterenn_xyz = np.array([500, 0, 0])\n",
    "\n",
    "whittle_xyz = np.array([0, 500, 0])\n",
    "koshava_xyz = np.array([500, -500, 0])\n",
    "sterenn_xyz = np.array([-500, -500, 0])\n",
    "\n",
    "# single line setup for triple Doppler are to be avoided!\n",
    "whittle_xyz = np.array([0, 500, 0])\n",
    "koshava_xyz = np.array([10, 0, 0])\n",
    "sterenn_xyz = np.array([0, -500, 0])\n",
    "\n",
    "\n",
    "\n",
    "pl_mc.add_lidar('koshava', koshava_xyz, uncertainty)\n",
    "pl_mc.add_lidar('sterenn', sterenn_xyz, uncertainty)\n",
    "pl_mc.add_lidar('whittle', whittle_xyz, uncertainty)\n",
    "\n",
    "\n",
    "\n",
    "# setup a measurement scenario and introduce uncertainties\n",
    "steps = np.arange(50,2000 + 500,500)\n",
    "meas_pts = np.array([steps, \n",
    "                     np.full(len(steps),0),\n",
    "                     np.full(len(steps),100)]).T\n",
    "\n",
    "# meas_pts = np.array([meas_pts[-1]])\n",
    "\n",
    "meas_pts = meas_pts[-3:]\n",
    "\n",
    "CT_cfg = {\n",
    "    'no_scans' : 100000,\n",
    "    'points' : meas_pts,\n",
    "    'acq_time' :1, # 1 s\n",
    "    'max_speed' : 50,    # degree.s^-1\n",
    "    'max_acc' : 100,     # degree.s^-2\n",
    "    'sync': True\n",
    "}\n",
    "\n",
    "pl_mc.generate_complex_trajectory(['sterenn', 'whittle','koshava'], CT_cfg)\n",
    "pl_mc.generate_uncertainties('koshava')\n",
    "pl_mc.generate_uncertainties('whittle')\n",
    "pl_mc.generate_uncertainties('sterenn')\n",
    "# pl_mc.generate_complex_trajectory('koshava', CT_cfg)\n",
    "\n"
   ]
  },
  {
   "cell_type": "code",
   "execution_count": 4,
   "metadata": {},
   "outputs": [
    {
     "name": "stdout",
     "output_type": "stream",
     "text": [
      "CPU times: user 2 µs, sys: 0 ns, total: 2 µs\n",
      "Wall time: 5.01 µs\n"
     ]
    },
    {
     "ename": "ValueError",
     "evalue": "could not broadcast input array from shape (1000,3) into shape (3000)",
     "output_type": "error",
     "traceback": [
      "\u001b[0;31m---------------------------------------------------------------------------\u001b[0m",
      "\u001b[0;31mValueError\u001b[0m                                Traceback (most recent call last)",
      "\u001b[0;32m<ipython-input-4-c75858839a2d>\u001b[0m in \u001b[0;36m<module>\u001b[0;34m\u001b[0m\n\u001b[1;32m     19\u001b[0m \u001b[0;34m\u001b[0m\u001b[0m\n\u001b[1;32m     20\u001b[0m \u001b[0mpl_mc\u001b[0m\u001b[0;34m.\u001b[0m\u001b[0mreconstruct_wind\u001b[0m\u001b[0;34m(\u001b[0m\u001b[0;34m[\u001b[0m\u001b[0;34m'sterenn'\u001b[0m\u001b[0;34m,\u001b[0m \u001b[0;34m'whittle'\u001b[0m\u001b[0;34m,\u001b[0m\u001b[0;34m'koshava'\u001b[0m\u001b[0;34m]\u001b[0m\u001b[0;34m,\u001b[0m \u001b[0;34m'triple-Doppler'\u001b[0m\u001b[0;34m)\u001b[0m\u001b[0;34m\u001b[0m\u001b[0;34m\u001b[0m\u001b[0m\n\u001b[0;32m---> 21\u001b[0;31m \u001b[0mpl_mc\u001b[0m\u001b[0;34m.\u001b[0m\u001b[0mreconstruct_wind\u001b[0m\u001b[0;34m(\u001b[0m\u001b[0;34m[\u001b[0m\u001b[0;34m'sterenn'\u001b[0m\u001b[0;34m,\u001b[0m \u001b[0;34m'whittle'\u001b[0m\u001b[0;34m]\u001b[0m\u001b[0;34m,\u001b[0m \u001b[0;34m'dual-Doppler'\u001b[0m\u001b[0;34m,\u001b[0m \u001b[0;36m100\u001b[0m\u001b[0;34m)\u001b[0m\u001b[0;34m\u001b[0m\u001b[0;34m\u001b[0m\u001b[0m\n\u001b[0m",
      "\u001b[0;32m/Volumes/Secondary_Drive/work/coding-projects/mocalum/mocalum/logics.py\u001b[0m in \u001b[0;36mreconstruct_wind\u001b[0;34m(self, lidar_id, rc_method, no_scans_avg)\u001b[0m\n\u001b[1;32m   1110\u001b[0m             \u001b[0mself\u001b[0m\u001b[0;34m.\u001b[0m\u001b[0m_IVAP_reconstruction\u001b[0m\u001b[0;34m(\u001b[0m\u001b[0mlidar_id\u001b[0m\u001b[0;34m,\u001b[0m\u001b[0mno_scans_avg\u001b[0m\u001b[0;34m)\u001b[0m\u001b[0;34m\u001b[0m\u001b[0;34m\u001b[0m\u001b[0m\n\u001b[1;32m   1111\u001b[0m         \u001b[0;32melif\u001b[0m \u001b[0mrc_method\u001b[0m \u001b[0;34m==\u001b[0m \u001b[0;34m'dual-Doppler'\u001b[0m\u001b[0;34m:\u001b[0m\u001b[0;34m\u001b[0m\u001b[0;34m\u001b[0m\u001b[0m\n\u001b[0;32m-> 1112\u001b[0;31m             \u001b[0mself\u001b[0m\u001b[0;34m.\u001b[0m\u001b[0m_dual_Doppler_reconstruction\u001b[0m\u001b[0;34m(\u001b[0m\u001b[0mlidar_id\u001b[0m\u001b[0;34m,\u001b[0m\u001b[0mno_scans_avg\u001b[0m\u001b[0;34m)\u001b[0m\u001b[0;34m\u001b[0m\u001b[0;34m\u001b[0m\u001b[0m\n\u001b[0m\u001b[1;32m   1113\u001b[0m         \u001b[0;32melif\u001b[0m \u001b[0mrc_method\u001b[0m \u001b[0;34m==\u001b[0m \u001b[0;34m'triple-Doppler'\u001b[0m\u001b[0;34m:\u001b[0m\u001b[0;34m\u001b[0m\u001b[0;34m\u001b[0m\u001b[0m\n\u001b[1;32m   1114\u001b[0m             \u001b[0mself\u001b[0m\u001b[0;34m.\u001b[0m\u001b[0m_triple_Doppler_reconstruction\u001b[0m\u001b[0;34m(\u001b[0m\u001b[0mlidar_id\u001b[0m\u001b[0;34m,\u001b[0m\u001b[0mno_scans_avg\u001b[0m\u001b[0;34m)\u001b[0m\u001b[0;34m\u001b[0m\u001b[0;34m\u001b[0m\u001b[0m\n",
      "\u001b[0;32m/Volumes/Secondary_Drive/work/coding-projects/mocalum/mocalum/logics.py\u001b[0m in \u001b[0;36m_dual_Doppler_reconstruction\u001b[0;34m(self, lidar_id, no_scans_avg)\u001b[0m\n\u001b[1;32m   1040\u001b[0m                 \u001b[0mself\u001b[0m\u001b[0;34m.\u001b[0m\u001b[0maz\u001b[0m \u001b[0;34m=\u001b[0m \u001b[0mself\u001b[0m\u001b[0;34m.\u001b[0m\u001b[0mdata\u001b[0m\u001b[0;34m.\u001b[0m\u001b[0mlos\u001b[0m\u001b[0;34m[\u001b[0m\u001b[0mid\u001b[0m\u001b[0;34m]\u001b[0m\u001b[0;34m.\u001b[0m\u001b[0maz\u001b[0m\u001b[0;34m\u001b[0m\u001b[0;34m\u001b[0m\u001b[0m\n\u001b[1;32m   1041\u001b[0m                 az[i] = self._scan_average(self.data.los[id].az, no_los,\n\u001b[0;32m-> 1042\u001b[0;31m                                            no_scans, no_scans_avg)\n\u001b[0m\u001b[1;32m   1043\u001b[0m                 el[i] = self._scan_average(self.data.los[id].el, no_los,\n\u001b[1;32m   1044\u001b[0m                                            no_scans, no_scans_avg)\n",
      "\u001b[0;31mValueError\u001b[0m: could not broadcast input array from shape (1000,3) into shape (3000)"
     ]
    }
   ],
   "source": [
    "%time\n",
    "# create a turbulent flow field\n",
    "atmo_cfg={'wind_speed':10,\n",
    "'upward_velocity':0,\n",
    "'wind_from_direction':45,\n",
    "'reference_height':100,\n",
    "'shear_exponent':0.2,\n",
    "}\n",
    "\n",
    "\n",
    "pl_mc.generate_flow_field(['sterenn', 'whittle','koshava'], atmo_cfg, \"uniform\")\n",
    "\n",
    "# calculate LOS measurements \n",
    "\n",
    "pl_mc.project_to_los('sterenn', \"power_law\")\n",
    "pl_mc.project_to_los('whittle', \"power_law\")\n",
    "pl_mc.project_to_los('koshava', \"power_law\")\n",
    "\n",
    "\n",
    "pl_mc.reconstruct_wind(['sterenn', 'whittle','koshava'], 'triple-Doppler')\n",
    "pl_mc.reconstruct_wind(['sterenn', 'whittle'], 'dual-Doppler', 100)\n"
   ]
  },
  {
   "cell_type": "code",
   "execution_count": 5,
   "metadata": {},
   "outputs": [
    {
     "data": {
      "text/plain": [
       "{'position': array([   0, -500,    0]),\n",
       " 'uncertainty': {'unc_az': {'mu': 0, 'std': 0.1, 'units': 'deg'},\n",
       "  'unc_el': {'mu': 0, 'std': 0.1, 'units': 'deg'},\n",
       "  'unc_rng': {'mu': 0, 'std': 10, 'units': 'm'},\n",
       "  'unc_est': {'mu': 0, 'std': 0.1, 'units': 'm.s^-1'},\n",
       "  'corr_coef': 0},\n",
       " 'config': {'scan_type': 'CT',\n",
       "  'max_scn_speed': 50,\n",
       "  'max_scn_acc': 100,\n",
       "  'scn_speed': 9.693567925549074,\n",
       "  'no_los': 3,\n",
       "  'no_scans': 100000,\n",
       "  'sectrsz': 11.75638405779182,\n",
       "  'scn_tm': 4.356656980301047,\n",
       "  'rtn_tm': 0.9697993218307309,\n",
       "  'az': array([64.53665494, 72.1213034 , 76.293039  ]),\n",
       "  'el': array([4.91458736, 3.51358171, 2.71328774]),\n",
       "  'rng': array([1167.26175299, 1631.71688721, 2112.46301743])}}"
      ]
     },
     "execution_count": 5,
     "metadata": {},
     "output_type": "execute_result"
    }
   ],
   "source": [
    "pl_mc.data.meas_cfg['sterenn']"
   ]
  },
  {
   "cell_type": "code",
   "execution_count": 5,
   "metadata": {},
   "outputs": [
    {
     "data": {
      "text/plain": [
       "array([[64.53665494, 72.1213034 , 76.293039  ],\n",
       "       [64.53665494, 72.1213034 , 76.293039  ],\n",
       "       [64.53665494, 72.1213034 , 76.293039  ],\n",
       "       ...,\n",
       "       [64.53665494, 72.1213034 , 76.293039  ],\n",
       "       [64.53665494, 72.1213034 , 76.293039  ],\n",
       "       [64.53665494, 72.1213034 , 76.293039  ]])"
      ]
     },
     "execution_count": 5,
     "metadata": {},
     "output_type": "execute_result"
    }
   ],
   "source": [
    "tmp = pl_mc.az.values.reshape(100000,3).reshape(20000,5,3).mean(axis = 1)\n",
    "\n",
    "tmp"
   ]
  },
  {
   "cell_type": "code",
   "execution_count": 10,
   "metadata": {},
   "outputs": [
    {
     "data": {
      "text/plain": [
       "array([115.46334506, 107.8786966 , 103.706961  ])"
      ]
     },
     "execution_count": 10,
     "metadata": {},
     "output_type": "execute_result"
    }
   ],
   "source": [
    "tmp_mean = tmp.mean(axis = 1)\n",
    "tmp_mean[1]\n",
    "tmp_mean[0]"
   ]
  },
  {
   "cell_type": "code",
   "execution_count": 111,
   "metadata": {},
   "outputs": [
    {
     "data": {
      "text/plain": [
       "array([64.53665494, 72.1213034 , 76.293039  , 64.53665494, 72.1213034 ,\n",
       "       76.293039  , 64.53665494, 72.1213034 , 76.293039  , 64.53665494,\n",
       "       72.1213034 , 76.293039  , 64.53665494, 72.1213034 , 76.293039  ])"
      ]
     },
     "execution_count": 111,
     "metadata": {},
     "output_type": "execute_result"
    }
   ],
   "source": [
    "no_scans = 10\n",
    "no_los = 3\n",
    "az = pl_mc.az[0]\n",
    "az_scan_split = np.asarray(np.split(az, no_scans, axis = 0))\n",
    "\n",
    "az_scan_grouping = np.asarray(np.split(az_scan_split, 5))\n",
    "az_scan_grouping\n",
    "# az_scan_group_split\n",
    "az_scan_grouping.mean(axis = 1).flatten()"
   ]
  },
  {
   "cell_type": "code",
   "execution_count": 12,
   "metadata": {},
   "outputs": [
    {
     "data": {
      "text/plain": [
       "6.0"
      ]
     },
     "execution_count": 12,
     "metadata": {},
     "output_type": "execute_result"
    }
   ],
   "source": [
    "3*10/5"
   ]
  },
  {
   "cell_type": "code",
   "execution_count": 20,
   "metadata": {},
   "outputs": [],
   "source": [
    "def _scan_average(a, no_scans, no_avg):\n",
    "    \n",
    "    scan_split = np.asarray(np.split(a, no_scans, axis = 0))\n",
    "    scan_grouping = np.asarray(np.split(scan_split, int(no_scans/no_avg)))\n",
    "\n",
    "    return scan_grouping\n",
    "    "
   ]
  },
  {
   "cell_type": "code",
   "execution_count": 21,
   "metadata": {},
   "outputs": [
    {
     "data": {
      "text/plain": [
       "array([64.53665494, 72.1213034 , 76.293039  , 64.53665494, 72.1213034 ,\n",
       "       76.293039  ])"
      ]
     },
     "execution_count": 21,
     "metadata": {},
     "output_type": "execute_result"
    }
   ],
   "source": [
    "_scan_average(pl_mc.az, 10, 5).mean(axis = 1).flatten()"
   ]
  },
  {
   "cell_type": "code",
   "execution_count": 16,
   "metadata": {},
   "outputs": [
    {
     "data": {
      "text/plain": [
       "array([76.293039, 76.293039, 76.293039, ..., 76.293039, 76.293039,\n",
       "       76.293039])"
      ]
     },
     "execution_count": 16,
     "metadata": {},
     "output_type": "execute_result"
    }
   ],
   "source": [
    "az\n",
    "\n",
    "\n",
    "vrad = np.asarray(np.split(self.data.los[lidar_id].vrad.values,\n",
    "                            self.data.los[lidar_id].no_scans.values))\n"
   ]
  },
  {
   "cell_type": "code",
   "execution_count": 21,
   "metadata": {},
   "outputs": [
    {
     "data": {
      "text/plain": [
       "(array([10.]), array([45.]))"
      ]
     },
     "execution_count": 21,
     "metadata": {},
     "output_type": "execute_result"
    }
   ],
   "source": [
    "# triple-Doppler\n",
    "los = np.array([pl_mc.data.los['koshava'].vrad, \n",
    "                pl_mc.data.los['sterenn'].vrad, \n",
    "                pl_mc.data.los['whittle'].vrad]).T\n",
    "\n",
    "\n",
    "az = np.array([pl_mc.data.los['koshava'].az, \n",
    "               pl_mc.data.los['sterenn'].az, \n",
    "               pl_mc.data.los['whittle'].az])\n",
    "\n",
    "el = np.array([pl_mc.data.los['koshava'].el, \n",
    "               pl_mc.data.los['sterenn'].el,\n",
    "               pl_mc.data.los['whittle'].el])\n",
    "\n",
    "td_rc(los[0], az.T[0], el.T[0], 1)\n",
    "\n",
    "td_rc_array(los, az, el)"
   ]
  },
  {
   "cell_type": "code",
   "execution_count": 192,
   "metadata": {},
   "outputs": [
    {
     "data": {
      "text/plain": [
       "(-7.192254182225042, -6.936620630811991, 9.992258303183528, 46.036538710526024)"
      ]
     },
     "execution_count": 192,
     "metadata": {},
     "output_type": "execute_result"
    }
   ],
   "source": [
    "# dual-Doppler\n",
    "\n",
    "\n",
    "los = np.array([pl_mc.data.los['whittle'].vrad, \n",
    "                pl_mc.data.los['sterenn'].vrad]).T\n",
    "\n",
    "\n",
    "az = np.array([pl_mc.data.los['whittle'].az, \n",
    "               pl_mc.data.los['sterenn'].az])\n",
    "\n",
    "el = np.array([pl_mc.data.los['whittle'].el, \n",
    "               pl_mc.data.los['sterenn'].el])\n",
    "\n",
    "dd_rc(los[0], az.T[0], el.T[0], 0)\n",
    "\n",
    "# dd_rc_array(los, az, el, 1)"
   ]
  },
  {
   "cell_type": "code",
   "execution_count": 193,
   "metadata": {},
   "outputs": [
    {
     "data": {
      "text/plain": [
       "(array([10.]), array([45.]))"
      ]
     },
     "execution_count": 193,
     "metadata": {},
     "output_type": "execute_result"
    }
   ],
   "source": [
    "dd_rc_array(los, az, el)"
   ]
  },
  {
   "cell_type": "code",
   "execution_count": null,
   "metadata": {},
   "outputs": [],
   "source": []
  },
  {
   "cell_type": "code",
   "execution_count": 185,
   "metadata": {},
   "outputs": [
    {
     "data": {
      "text/plain": [
       "(6.427876096865394, 7.660444431189777, 9.999999999999998, 220.00000000000003)"
      ]
     },
     "execution_count": 185,
     "metadata": {},
     "output_type": "execute_result"
    }
   ],
   "source": [
    "# dual-Doppler\n",
    "los = np.array([pl_mc.data.los['koshava'].vrad, \n",
    "                pl_mc.data.los['sterenn'].vrad]).T\n",
    "\n",
    "\n",
    "az = np.array([pl_mc.data.los['koshava'].az, \n",
    "               pl_mc.data.los['sterenn'].az])\n",
    "\n",
    "el = np.array([pl_mc.data.los['koshava'].el, \n",
    "               pl_mc.data.los['sterenn'].el])\n",
    "\n",
    "dd_rc(los[0], az.T[0], el.T[0], 0)"
   ]
  },
  {
   "cell_type": "code",
   "execution_count": 182,
   "metadata": {},
   "outputs": [
    {
     "data": {
      "text/plain": [
       "(6.555173129774655, 7.640206795843824, 10.066928759287899, 220.6290565986071)"
      ]
     },
     "execution_count": 182,
     "metadata": {},
     "output_type": "execute_result"
    }
   ],
   "source": [
    "dd_rs_ar(los, az, el, 0)\n",
    "\n",
    "\n",
    "dd_rc(los[0], az.T[0], el.T[0], 1)"
   ]
  },
  {
   "cell_type": "code",
   "execution_count": 151,
   "metadata": {},
   "outputs": [],
   "source": [
    "def dd_rs_ar(los, azimuth, elevation, rc_type = 0):\n",
    "\n",
    "    azimuth = np.radians(azimuth)\n",
    "    elevation = np.radians(elevation)\n",
    "    \n",
    "    if rc_type == 0:\n",
    "        R_ws = np.array([[np.sin(azimuth[0]), np.cos(azimuth[0])],\n",
    "                         [np.sin(azimuth[1]), np.cos(azimuth[1])]]).T\n",
    "    else:\n",
    "        R_ws = np.array([[np.sin(azimuth[0])*np.cos(elevation[0]), np.cos(azimuth[0])*np.cos(elevation[0])],\n",
    "                         [np.sin(azimuth[1])*np.cos(elevation[1]), np.cos(azimuth[1])*np.cos(elevation[1])]]).T\n",
    "\n",
    "    R_ws_inv = np.linalg.inv(R_ws)\n",
    "\n",
    "\n",
    "    uvw_array = np.einsum('ijk,ik->ij', R_ws_inv,los)\n",
    "    V_h_array = np.sqrt(uvw_array[:,0]**2 + uvw_array[:,1]**2)\n",
    "\n",
    "    wind_dir_array = (90 - np.arctan2(-uvw_array[:,0],-uvw_array[:,1])* (180 / np.pi)) % 360    \n",
    "    return V_h_array, wind_dir_array"
   ]
  },
  {
   "cell_type": "code",
   "execution_count": 139,
   "metadata": {},
   "outputs": [],
   "source": [
    "def td_rs_ar(los, azimuth, elevation, rc_type = 0):\n",
    "\n",
    "    azimuth = np.radians(azimuth)\n",
    "    elevation = np.radians(elevation)\n",
    "    \n",
    "    if rc_type == 0:\n",
    "        R_ws = np.array([[np.sin(azimuth[0]), np.cos(azimuth[0]), np.sin(elevation[0])],\n",
    "                         [np.sin(azimuth[1]), np.cos(azimuth[1]), np.sin(elevation[1])],\n",
    "                         [np.sin(azimuth[2]), np.cos(azimuth[2]), np.sin(elevation[2])]]).T\n",
    "    else:\n",
    "        R_ws = np.array([[np.sin(azimuth[0])*np.cos(elevation[0]), np.cos(azimuth[0])*np.cos(elevation[0]), np.sin(elevation[0])],\n",
    "                         [np.sin(azimuth[1])*np.cos(elevation[1]), np.cos(azimuth[1])*np.cos(elevation[1]), np.sin(elevation[1])],\n",
    "                         [np.sin(azimuth[2])*np.cos(elevation[2]), np.cos(azimuth[2])*np.cos(elevation[2]), np.sin(elevation[2])]]).T\n",
    "        \n",
    "    R_ws_inv = np.linalg.inv(R_ws)\n",
    "\n",
    "\n",
    "    uvw_array = np.einsum('ijk,ik->ij', R_ws_inv,los)\n",
    "    V_h_array = np.sqrt(uvw_array[:,0]**2 + uvw_array[:,1]**2)\n",
    "\n",
    "    wind_dir_array = (90 - np.arctan2(-uvw_array[:,0],-uvw_array[:,1])* (180 / np.pi)) % 360    \n",
    "    return V_h_array, wind_dir_array"
   ]
  },
  {
   "cell_type": "code",
   "execution_count": 15,
   "metadata": {},
   "outputs": [],
   "source": [
    "def td_rc(los, azimuth, elevation, rc_type = 0):\n",
    "\n",
    "\n",
    "    azimuth = np.radians(azimuth)\n",
    "    elevation = np.radians(elevation)\n",
    "    \n",
    "    if rc_type == 0:\n",
    "        R_ws = np.array([[np.sin(azimuth[0]), np.cos(azimuth[0]), np.sin(elevation[0])],\n",
    "                         [np.sin(azimuth[1]), np.cos(azimuth[1]), np.sin(elevation[1])],\n",
    "                         [np.sin(azimuth[2]), np.cos(azimuth[2]), np.sin(elevation[2])]])\n",
    "    else:\n",
    "        R_ws = np.array([[np.sin(azimuth[0])*np.cos(elevation[0]), np.cos(azimuth[0])*np.cos(elevation[0]), np.sin(elevation[0])],\n",
    "                         [np.sin(azimuth[1])*np.cos(elevation[1]), np.cos(azimuth[1])*np.cos(elevation[1]), np.sin(elevation[1])],\n",
    "                         [np.sin(azimuth[2])*np.cos(elevation[2]), np.cos(azimuth[2])*np.cos(elevation[2]), np.sin(elevation[2])]])\n",
    "\n",
    "    u, v, w = np.dot(np.linalg.inv(R_ws),los)\n",
    "#     u, v, w = los.dot(np.linalg.inv(R_ws))    \n",
    "    wind_speed = np.sqrt(u**2 + v**2)\n",
    "\n",
    "    wind_direction = (90 - np.degrees(np.arctan2(-v, -u))) % 360\n",
    "\n",
    "    return u, v, w, wind_speed, wind_direction"
   ]
  },
  {
   "cell_type": "code",
   "execution_count": 180,
   "metadata": {},
   "outputs": [],
   "source": [
    "def dd_rc(los, azimuth, elevation, rc_type = 0):\n",
    "\n",
    "\n",
    "    azimuth = np.radians(azimuth)\n",
    "    elevation = np.radians(elevation)\n",
    "\n",
    "    if rc_type == 0:\n",
    "        R_ws = np.array([[np.sin(azimuth[0]), np.cos(azimuth[0])],\n",
    "                         [np.sin(azimuth[1]), np.cos(azimuth[1])]])\n",
    "    else:\n",
    "        R_ws = np.array([[np.sin(azimuth[0])*np.cos(elevation[0]), np.cos(azimuth[0])*np.cos(elevation[0])],\n",
    "                         [np.sin(azimuth[1])*np.cos(elevation[1]), np.cos(azimuth[1])*np.cos(elevation[1])]])\n",
    "\n",
    "\n",
    "    u, v = np.dot(np.linalg.inv(R_ws),los)\n",
    "    wind_speed = np.sqrt(u**2 + v**2)\n",
    "\n",
    "    wind_direction = (90 - np.degrees(np.arctan2(-v, -u))) % 360\n",
    "\n",
    "    return u, v, wind_speed, wind_direction"
   ]
  },
  {
   "cell_type": "code",
   "execution_count": 142,
   "metadata": {},
   "outputs": [],
   "source": [
    "def dd_rs_ar(los, azimuth, elevation, rc_type = 0):\n",
    "\n",
    "    azimuth = np.radians(azimuth)\n",
    "    elevation = np.radians(elevation)\n",
    "    \n",
    "    if rc_type == 0:\n",
    "        R_ws = np.array([[np.sin(azimuth[0]), np.cos(azimuth[0])],\n",
    "                         [np.sin(azimuth[1]), np.cos(azimuth[1])]]).T\n",
    "    else:\n",
    "        R_ws = np.array([[np.sin(azimuth[0])*np.cos(elevation[0]), np.cos(azimuth[0])*np.cos(elevation[0])],\n",
    "                         [np.sin(azimuth[1])*np.cos(elevation[1]), np.cos(azimuth[1])*np.cos(elevation[1])]]).T\n",
    "\n",
    "    R_ws_inv = np.linalg.inv(R_ws)\n",
    "\n",
    "\n",
    "    uvw_array = np.einsum('ijk,ik->ij', R_ws_inv,los)\n",
    "    V_h_array = np.sqrt(uvw_array[:,0]**2 + uvw_array[:,1]**2)\n",
    "\n",
    "    wind_dir_array = (90 - np.arctan2(-uvw_array[:,0],-uvw_array[:,1])* (180 / np.pi)) % 360    \n",
    "    return V_h_array, wind_dir_array"
   ]
  },
  {
   "cell_type": "code",
   "execution_count": 107,
   "metadata": {},
   "outputs": [
    {
     "data": {
      "text/plain": [
       "array([90., 90., 90., 90., 90., 90.])"
      ]
     },
     "execution_count": 107,
     "metadata": {},
     "output_type": "execute_result"
    }
   ],
   "source": [
    "            los = u * np.sin(azimuth) * np.cos(elevation) + \\\n",
    "                v * np.cos(azimuth) * np.cos(elevation) + \\\n",
    "                w * np.sin(elevation)\n"
   ]
  },
  {
   "cell_type": "code",
   "execution_count": 94,
   "metadata": {},
   "outputs": [],
   "source": [
    "def dd_rc(los, azimuth):\n",
    "\n",
    "    azimuth = np.radians(azimuth)\n",
    "\n",
    "    R_ws = np.array([[np.sin(azimuth[0]), np.cos(azimuth[0])],\n",
    "                     [np.sin(azimuth[1]), np.cos(azimuth[1])]])\n",
    "    \n",
    "    R_ws_inv = np.linalg.inv(R_ws)\n",
    "\n",
    "    u, v = np.dot(np.linalg.inv(R_ws),los)\n",
    "    wind_speed = np.sqrt(u**2 + v**2)\n",
    "\n",
    "    wind_direction = (90 - np.degrees(np.arctan2(-v, -u))) % 360\n",
    "\n",
    "    return u, v, wind_speed, wind_direction"
   ]
  },
  {
   "cell_type": "code",
   "execution_count": 54,
   "metadata": {},
   "outputs": [],
   "source": [
    "u,v,w, ws, wdir = los_to_wind_array(az, el, los)"
   ]
  },
  {
   "cell_type": "code",
   "execution_count": 58,
   "metadata": {},
   "outputs": [
    {
     "data": {
      "text/plain": [
       "array([-1.24277122e+15, -1.24277122e+15, -1.24277122e+15, -1.24277122e+15,\n",
       "       -1.24277122e+15, -1.24277122e+15])"
      ]
     },
     "execution_count": 58,
     "metadata": {},
     "output_type": "execute_result"
    }
   ],
   "source": [
    "    R_ws = np.transpose(np.array([\n",
    "        [np.cos(elevation_array[0]) * np.sin(azimuth_array[0]),np.cos(elevation_array[1]) * np.sin(azimuth_array[1]), np.cos(elevation_array[2]) * np.sin(azimuth_array[2])], \n",
    "\n",
    "         [np.cos(elevation_array[0]) * np.cos(azimuth_array[0]),np.cos(elevation_array[1]) * np.cos(azimuth_array[1]), np.cos(elevation_array[2]) * np.cos(azimuth_array[2])],\n",
    "\n",
    "         [np.sin(elevation_array[0]),np.sin(elevation_array[1]),np.sin(elevation_array[2])],\n",
    "\n",
    "    ]))\n"
   ]
  },
  {
   "cell_type": "code",
   "execution_count": null,
   "metadata": {},
   "outputs": [],
   "source": []
  },
  {
   "cell_type": "code",
   "execution_count": 39,
   "metadata": {},
   "outputs": [],
   "source": [
    "R_ws = np.array([[np.sin(np.radians(pl_mc.data.los['koshava'].az)), np.cos(np.radians(pl_mc.data.los['koshava'].az))],\n",
    "                 [np.sin(np.radians(pl_mc.data.los['sterenn'].az)), np.cos(np.radians(pl_mc.data.los['sterenn'].az))]])"
   ]
  },
  {
   "cell_type": "code",
   "execution_count": 48,
   "metadata": {},
   "outputs": [],
   "source": [
    "    R_ws = np.array([[np.sin(az[:, 0]), np.cos(az[:, 0])],\n",
    "                     [np.sin(az[:, 1]), np.cos(az[:, 1])]])"
   ]
  },
  {
   "cell_type": "code",
   "execution_count": 18,
   "metadata": {},
   "outputs": [],
   "source": [
    "def los_to_wind_array(azimuth_array, elevation_array, v_los_array):\n",
    "    R_ws = np.transpose(np.array([\n",
    "        [np.cos(elevation_array[0]) * np.sin(azimuth_array[0]),np.cos(elevation_array[1]) * np.sin(azimuth_array[1]), np.cos(elevation_array[2]) * np.sin(azimuth_array[2])], \n",
    "\n",
    "         [np.cos(elevation_array[0]) * np.cos(azimuth_array[0]),np.cos(elevation_array[1]) * np.cos(azimuth_array[1]), np.cos(elevation_array[2]) * np.cos(azimuth_array[2])],\n",
    "\n",
    "         [np.sin(elevation_array[0]),np.sin(elevation_array[1]),np.sin(elevation_array[2])],\n",
    "\n",
    "    ]))\n",
    "\n",
    "    R_ws_inv = np.linalg.inv(R_ws)\n",
    "    \n",
    "    \n",
    "    uvw_array = np.einsum('ijk,ik->ij', R_ws_inv,v_los_array)\n",
    "    V_h_array = np.sqrt(uvw_array[:,0]**2 + uvw_array[:,1]**2)\n",
    "    \n",
    "    \n",
    "    wind_dir_array = (90 - np.arctan2(-uvw_array[:,1], -uvw_array[:,0])* (180 / np.pi)) % 360    \n",
    "    return uvw_array[:,0], uvw_array[:,1],uvw_array[:,2], V_h_array, wind_dir_array"
   ]
  },
  {
   "cell_type": "code",
   "execution_count": 51,
   "metadata": {},
   "outputs": [
    {
     "data": {
      "text/plain": [
       "(62, 2)"
      ]
     },
     "execution_count": 51,
     "metadata": {},
     "output_type": "execute_result"
    }
   ],
   "source": [
    "los.shape"
   ]
  },
  {
   "cell_type": "code",
   "execution_count": 52,
   "metadata": {},
   "outputs": [
    {
     "ename": "LinAlgError",
     "evalue": "Last 2 dimensions of the array must be square",
     "output_type": "error",
     "traceback": [
      "\u001b[0;31m---------------------------------------------------------------------------\u001b[0m",
      "\u001b[0;31mLinAlgError\u001b[0m                               Traceback (most recent call last)",
      "\u001b[0;32m<ipython-input-52-00b20c7c64d9>\u001b[0m in \u001b[0;36m<module>\u001b[0;34m\u001b[0m\n\u001b[0;32m----> 1\u001b[0;31m \u001b[0mu\u001b[0m\u001b[0;34m,\u001b[0m \u001b[0mv\u001b[0m \u001b[0;34m=\u001b[0m \u001b[0mnp\u001b[0m\u001b[0;34m.\u001b[0m\u001b[0mdot\u001b[0m\u001b[0;34m(\u001b[0m\u001b[0mnp\u001b[0m\u001b[0;34m.\u001b[0m\u001b[0mlinalg\u001b[0m\u001b[0;34m.\u001b[0m\u001b[0minv\u001b[0m\u001b[0;34m(\u001b[0m\u001b[0mR_ws\u001b[0m\u001b[0;34m)\u001b[0m\u001b[0;34m,\u001b[0m\u001b[0mlos\u001b[0m\u001b[0;34m)\u001b[0m\u001b[0;34m\u001b[0m\u001b[0;34m\u001b[0m\u001b[0m\n\u001b[0m",
      "\u001b[0;32m<__array_function__ internals>\u001b[0m in \u001b[0;36minv\u001b[0;34m(*args, **kwargs)\u001b[0m\n",
      "\u001b[0;32m~/opt/miniconda3/envs/mocalum_dev/lib/python3.7/site-packages/numpy/linalg/linalg.py\u001b[0m in \u001b[0;36minv\u001b[0;34m(a)\u001b[0m\n\u001b[1;32m    540\u001b[0m     \u001b[0ma\u001b[0m\u001b[0;34m,\u001b[0m \u001b[0mwrap\u001b[0m \u001b[0;34m=\u001b[0m \u001b[0m_makearray\u001b[0m\u001b[0;34m(\u001b[0m\u001b[0ma\u001b[0m\u001b[0;34m)\u001b[0m\u001b[0;34m\u001b[0m\u001b[0;34m\u001b[0m\u001b[0m\n\u001b[1;32m    541\u001b[0m     \u001b[0m_assert_stacked_2d\u001b[0m\u001b[0;34m(\u001b[0m\u001b[0ma\u001b[0m\u001b[0;34m)\u001b[0m\u001b[0;34m\u001b[0m\u001b[0;34m\u001b[0m\u001b[0m\n\u001b[0;32m--> 542\u001b[0;31m     \u001b[0m_assert_stacked_square\u001b[0m\u001b[0;34m(\u001b[0m\u001b[0ma\u001b[0m\u001b[0;34m)\u001b[0m\u001b[0;34m\u001b[0m\u001b[0;34m\u001b[0m\u001b[0m\n\u001b[0m\u001b[1;32m    543\u001b[0m     \u001b[0mt\u001b[0m\u001b[0;34m,\u001b[0m \u001b[0mresult_t\u001b[0m \u001b[0;34m=\u001b[0m \u001b[0m_commonType\u001b[0m\u001b[0;34m(\u001b[0m\u001b[0ma\u001b[0m\u001b[0;34m)\u001b[0m\u001b[0;34m\u001b[0m\u001b[0;34m\u001b[0m\u001b[0m\n\u001b[1;32m    544\u001b[0m \u001b[0;34m\u001b[0m\u001b[0m\n",
      "\u001b[0;32m~/opt/miniconda3/envs/mocalum_dev/lib/python3.7/site-packages/numpy/linalg/linalg.py\u001b[0m in \u001b[0;36m_assert_stacked_square\u001b[0;34m(*arrays)\u001b[0m\n\u001b[1;32m    211\u001b[0m         \u001b[0mm\u001b[0m\u001b[0;34m,\u001b[0m \u001b[0mn\u001b[0m \u001b[0;34m=\u001b[0m \u001b[0ma\u001b[0m\u001b[0;34m.\u001b[0m\u001b[0mshape\u001b[0m\u001b[0;34m[\u001b[0m\u001b[0;34m-\u001b[0m\u001b[0;36m2\u001b[0m\u001b[0;34m:\u001b[0m\u001b[0;34m]\u001b[0m\u001b[0;34m\u001b[0m\u001b[0;34m\u001b[0m\u001b[0m\n\u001b[1;32m    212\u001b[0m         \u001b[0;32mif\u001b[0m \u001b[0mm\u001b[0m \u001b[0;34m!=\u001b[0m \u001b[0mn\u001b[0m\u001b[0;34m:\u001b[0m\u001b[0;34m\u001b[0m\u001b[0;34m\u001b[0m\u001b[0m\n\u001b[0;32m--> 213\u001b[0;31m             \u001b[0;32mraise\u001b[0m \u001b[0mLinAlgError\u001b[0m\u001b[0;34m(\u001b[0m\u001b[0;34m'Last 2 dimensions of the array must be square'\u001b[0m\u001b[0;34m)\u001b[0m\u001b[0;34m\u001b[0m\u001b[0;34m\u001b[0m\u001b[0m\n\u001b[0m\u001b[1;32m    214\u001b[0m \u001b[0;34m\u001b[0m\u001b[0m\n\u001b[1;32m    215\u001b[0m \u001b[0;32mdef\u001b[0m \u001b[0m_assert_finite\u001b[0m\u001b[0;34m(\u001b[0m\u001b[0;34m*\u001b[0m\u001b[0marrays\u001b[0m\u001b[0;34m)\u001b[0m\u001b[0;34m:\u001b[0m\u001b[0;34m\u001b[0m\u001b[0;34m\u001b[0m\u001b[0m\n",
      "\u001b[0;31mLinAlgError\u001b[0m: Last 2 dimensions of the array must be square"
     ]
    }
   ],
   "source": [
    "u, v = np.dot(np.linalg.inv(R_ws),los)"
   ]
  },
  {
   "cell_type": "code",
   "execution_count": 34,
   "metadata": {},
   "outputs": [
    {
     "ename": "ValueError",
     "evalue": "shapes (2,2,2) and (62,2) not aligned: 2 (dim 2) != 62 (dim 0)",
     "output_type": "error",
     "traceback": [
      "\u001b[0;31m---------------------------------------------------------------------------\u001b[0m",
      "\u001b[0;31mValueError\u001b[0m                                Traceback (most recent call last)",
      "\u001b[0;32m<ipython-input-34-4e8393c65969>\u001b[0m in \u001b[0;36m<module>\u001b[0;34m\u001b[0m\n\u001b[0;32m----> 1\u001b[0;31m \u001b[0mu\u001b[0m\u001b[0;34m,\u001b[0m\u001b[0mv\u001b[0m\u001b[0;34m,\u001b[0m\u001b[0mws\u001b[0m\u001b[0;34m,\u001b[0m\u001b[0mwdir\u001b[0m \u001b[0;34m=\u001b[0m \u001b[0mdd_rc\u001b[0m\u001b[0;34m(\u001b[0m\u001b[0mlos\u001b[0m\u001b[0;34m,\u001b[0m \u001b[0maz\u001b[0m\u001b[0;34m)\u001b[0m\u001b[0;34m\u001b[0m\u001b[0;34m\u001b[0m\u001b[0m\n\u001b[0m",
      "\u001b[0;32m<ipython-input-33-1849823f21e7>\u001b[0m in \u001b[0;36mdd_rc\u001b[0;34m(los, azimuth)\u001b[0m\n\u001b[1;32m     25\u001b[0m                      [np.sin(azimuth[1]), np.cos(azimuth[1])]])\n\u001b[1;32m     26\u001b[0m \u001b[0;34m\u001b[0m\u001b[0m\n\u001b[0;32m---> 27\u001b[0;31m     \u001b[0mu\u001b[0m\u001b[0;34m,\u001b[0m \u001b[0mv\u001b[0m \u001b[0;34m=\u001b[0m \u001b[0mnp\u001b[0m\u001b[0;34m.\u001b[0m\u001b[0mdot\u001b[0m\u001b[0;34m(\u001b[0m\u001b[0mnp\u001b[0m\u001b[0;34m.\u001b[0m\u001b[0mlinalg\u001b[0m\u001b[0;34m.\u001b[0m\u001b[0minv\u001b[0m\u001b[0;34m(\u001b[0m\u001b[0mR_ws\u001b[0m\u001b[0;34m)\u001b[0m\u001b[0;34m,\u001b[0m\u001b[0mlos\u001b[0m\u001b[0;34m)\u001b[0m\u001b[0;34m\u001b[0m\u001b[0;34m\u001b[0m\u001b[0m\n\u001b[0m\u001b[1;32m     28\u001b[0m     \u001b[0mwind_speed\u001b[0m \u001b[0;34m=\u001b[0m \u001b[0mnp\u001b[0m\u001b[0;34m.\u001b[0m\u001b[0msqrt\u001b[0m\u001b[0;34m(\u001b[0m\u001b[0mu\u001b[0m\u001b[0;34m**\u001b[0m\u001b[0;36m2\u001b[0m \u001b[0;34m+\u001b[0m \u001b[0mv\u001b[0m\u001b[0;34m**\u001b[0m\u001b[0;36m2\u001b[0m\u001b[0;34m)\u001b[0m\u001b[0;34m\u001b[0m\u001b[0;34m\u001b[0m\u001b[0m\n\u001b[1;32m     29\u001b[0m \u001b[0;34m\u001b[0m\u001b[0m\n",
      "\u001b[0;32m<__array_function__ internals>\u001b[0m in \u001b[0;36mdot\u001b[0;34m(*args, **kwargs)\u001b[0m\n",
      "\u001b[0;31mValueError\u001b[0m: shapes (2,2,2) and (62,2) not aligned: 2 (dim 2) != 62 (dim 0)"
     ]
    }
   ],
   "source": [
    "u,v,ws,wdir = dd_rc(los, az)"
   ]
  },
  {
   "cell_type": "code",
   "execution_count": 177,
   "metadata": {},
   "outputs": [],
   "source": [
    "def dd_rc(los, azimuth, elevation, ):\n",
    "    \"\"\"Calculates u and v components by using IVAP algo on set of LOS speed\n",
    "    measurements acquired using PPI scans.\n",
    "\n",
    "    Parameters\n",
    "    ----------\n",
    "    los : numpy\n",
    "        Array containing LOS speed measurements\n",
    "    azimuth : numpy\n",
    "        Array containing azimuth angles corresponding to LOS speed measurements\n",
    "\n",
    "    Returns\n",
    "    -------\n",
    "    u : numpy\n",
    "        Array of reconstracted u component of the wind\n",
    "    v : numpy\n",
    "        Array of reconstracted v component of the wind\n",
    "    wind_speed: numpy\n",
    "        Array of reconstracted horizontal wind speed\n",
    "    \"\"\"\n",
    "\n",
    "    azimuth = np.radians(azimuth)\n",
    "\n",
    "    R_ws = np.array([[np.sin(azimuth[0]), np.cos(azimuth[0])],\n",
    "                     [np.sin(azimuth[1]), np.cos(azimuth[1])]])\n",
    "\n",
    "    u, v = np.dot(np.linalg.inv(R_ws),los)\n",
    "    wind_speed = np.sqrt(u**2 + v**2)\n",
    "\n",
    "    wind_direction = (90 - np.degrees(np.arctan2(-v, -u))) % 360\n",
    "\n",
    "    return u, v, wind_speed, wind_direction"
   ]
  },
  {
   "cell_type": "code",
   "execution_count": null,
   "metadata": {},
   "outputs": [],
   "source": [
    "np.arctan2"
   ]
  }
 ],
 "metadata": {
  "kernelspec": {
   "display_name": "Python 3.7.6 64-bit ('mocalum_dev': conda)",
   "language": "python",
   "name": "python37664bitmocalumdevconda9f3d81576f37406bbe9589e581bccc6c"
  },
  "language_info": {
   "codemirror_mode": {
    "name": "ipython",
    "version": 3
   },
   "file_extension": ".py",
   "mimetype": "text/x-python",
   "name": "python",
   "nbconvert_exporter": "python",
   "pygments_lexer": "ipython3",
   "version": "3.7.6"
  }
 },
 "nbformat": 4,
 "nbformat_minor": 4
}
