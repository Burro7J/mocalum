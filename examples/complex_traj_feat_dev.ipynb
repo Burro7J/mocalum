{
 "cells": [
  {
   "cell_type": "code",
   "execution_count": 1,
   "metadata": {},
   "outputs": [],
   "source": [
    "import mocalum as mc\n",
    "import numpy as np\n",
    "import xarray as xr\n",
    "\n",
    "import matplotlib.pyplot as plt"
   ]
  },
  {
   "cell_type": "code",
   "execution_count": 2,
   "metadata": {},
   "outputs": [],
   "source": [
    "# create mocalum object\n",
    "pl_mc = mc.Mocalum()"
   ]
  },
  {
   "cell_type": "code",
   "execution_count": 14,
   "metadata": {},
   "outputs": [],
   "source": [
    "# add a lidar to the object with description of uncertainties\n",
    "uncertainty = {\n",
    "    'unc_est' : 0.1,\n",
    "    'unc_rng' : 10,\n",
    "    'unc_az' : 0.1,\n",
    "    'unc_el' : 0.1,\n",
    "    'corr_coef' : 0,\n",
    "\n",
    " }\n",
    "\n",
    "\n",
    "# whittle_xyz = np.array([0, 500, 0])\n",
    "# koshava_xyz = np.array([0, 0, 0])\n",
    "# sterenn_xyz = np.array([500, 0, 0])\n",
    "\n",
    "whittle_xyz = np.array([0, 500, 0])\n",
    "koshava_xyz = np.array([500, -500, 0])\n",
    "sterenn_xyz = np.array([-500, -500, 0])\n",
    "\n",
    "# single line setup for triple Doppler are to be avoided!\n",
    "whittle_xyz = np.array([0, 500, 0])\n",
    "koshava_xyz = np.array([10, 0, 0])\n",
    "sterenn_xyz = np.array([0, -500, 0])\n",
    "\n",
    "\n",
    "\n",
    "pl_mc.add_lidar('koshava', koshava_xyz, uncertainty)\n",
    "pl_mc.add_lidar('sterenn', sterenn_xyz, uncertainty)\n",
    "pl_mc.add_lidar('whittle', whittle_xyz, uncertainty)\n",
    "\n",
    "\n",
    "\n",
    "# setup a measurement scenario and introduce uncertainties\n",
    "steps = np.arange(50,2000 + 500,500)\n",
    "meas_pts = np.array([steps, \n",
    "                     np.full(len(steps),0),\n",
    "                     np.full(len(steps),100)]).T\n",
    "\n",
    "# meas_pts = np.array([meas_pts[-1]])\n",
    "\n",
    "meas_pts = meas_pts[-3:]\n",
    "\n",
    "CT_cfg = {\n",
    "    'no_scans' : 100000,\n",
    "    'points' : meas_pts,\n",
    "    'acq_time' :1, # 1 s\n",
    "    'max_speed' : 50,    # degree.s^-1\n",
    "    'max_acc' : 100,     # degree.s^-2\n",
    "    'sync': True\n",
    "}\n",
    "\n",
    "pl_mc.generate_complex_trajectory(['sterenn', 'whittle','koshava'], CT_cfg)\n",
    "pl_mc.generate_uncertainties('koshava')\n",
    "pl_mc.generate_uncertainties('whittle')\n",
    "pl_mc.generate_uncertainties('sterenn')\n",
    "# pl_mc.generate_complex_trajectory('koshava', CT_cfg)\n",
    "\n",
    "\n",
    "\n",
    "\n",
    "# setup a measurement scenario and introduce uncertainties\n",
    "PPI_cfg = {\n",
    "    'no_scans' : 1000000,\n",
    "    'range' : 500,\n",
    "    'meas_height' : 100,\n",
    "    'elevation' : np.degrees(np.arcsin(100 / 500)), # to assure measurements at 100 m agl\n",
    "    'angular_res' : 1,   # degreee\n",
    "    'azimuth_mid' : 45,  # central azimuth angle\n",
    "    'sector_size' : 30,  # degree\n",
    "    'scan_speed' : 1,    # degree.s^-1\n",
    "    'max_speed' : 50,    # degree.s^-1\n",
    "    'max_acc' : 100     # degree.s^-2\n",
    "}\n",
    "\n",
    "pl_mc.generate_PPI_scan('koshava', PPI_cfg)"
   ]
  },
  {
   "cell_type": "code",
   "execution_count": 15,
   "metadata": {},
   "outputs": [
    {
     "name": "stdout",
     "output_type": "stream",
     "text": [
      "CPU times: user 3 µs, sys: 1 µs, total: 4 µs\n",
      "Wall time: 7.87 µs\n"
     ]
    }
   ],
   "source": [
    "%time\n",
    "# create a turbulent flow field\n",
    "atmo_cfg={'wind_speed':10,\n",
    "'upward_velocity':0,\n",
    "'wind_from_direction':53,\n",
    "'reference_height':100,\n",
    "'shear_exponent':0.2,\n",
    "}\n",
    "\n",
    "\n",
    "pl_mc.generate_flow_field(['sterenn', 'whittle','koshava'], atmo_cfg, \"uniform\")\n",
    "\n",
    "# calculate LOS measurements \n",
    "\n",
    "# pl_mc.project_to_los('sterenn', \"power_law\")\n",
    "# pl_mc.project_to_los('whittle', \"power_law\")\n",
    "pl_mc.project_to_los('koshava', \"power_law\")\n",
    "\n",
    "\n",
    "pl_mc.reconstruct_wind('koshava', 'IVAP',100)\n",
    "#pl_mc.reconstruct_wind(['sterenn', 'whittle'], 'dual-Doppler', 100)\n"
   ]
  },
  {
   "cell_type": "code",
   "execution_count": 16,
   "metadata": {},
   "outputs": [
    {
     "data": {
      "text/html": [
       "<div><svg style=\"position: absolute; width: 0; height: 0; overflow: hidden\">\n",
       "<defs>\n",
       "<symbol id=\"icon-database\" viewBox=\"0 0 32 32\">\n",
       "<title>Show/Hide data repr</title>\n",
       "<path d=\"M16 0c-8.837 0-16 2.239-16 5v4c0 2.761 7.163 5 16 5s16-2.239 16-5v-4c0-2.761-7.163-5-16-5z\"></path>\n",
       "<path d=\"M16 17c-8.837 0-16-2.239-16-5v6c0 2.761 7.163 5 16 5s16-2.239 16-5v-6c0 2.761-7.163 5-16 5z\"></path>\n",
       "<path d=\"M16 26c-8.837 0-16-2.239-16-5v6c0 2.761 7.163 5 16 5s16-2.239 16-5v-6c0 2.761-7.163 5-16 5z\"></path>\n",
       "</symbol>\n",
       "<symbol id=\"icon-file-text2\" viewBox=\"0 0 32 32\">\n",
       "<title>Show/Hide attributes</title>\n",
       "<path d=\"M28.681 7.159c-0.694-0.947-1.662-2.053-2.724-3.116s-2.169-2.030-3.116-2.724c-1.612-1.182-2.393-1.319-2.841-1.319h-15.5c-1.378 0-2.5 1.121-2.5 2.5v27c0 1.378 1.122 2.5 2.5 2.5h23c1.378 0 2.5-1.122 2.5-2.5v-19.5c0-0.448-0.137-1.23-1.319-2.841zM24.543 5.457c0.959 0.959 1.712 1.825 2.268 2.543h-4.811v-4.811c0.718 0.556 1.584 1.309 2.543 2.268zM28 29.5c0 0.271-0.229 0.5-0.5 0.5h-23c-0.271 0-0.5-0.229-0.5-0.5v-27c0-0.271 0.229-0.5 0.5-0.5 0 0 15.499-0 15.5 0v7c0 0.552 0.448 1 1 1h7v19.5z\"></path>\n",
       "<path d=\"M23 26h-14c-0.552 0-1-0.448-1-1s0.448-1 1-1h14c0.552 0 1 0.448 1 1s-0.448 1-1 1z\"></path>\n",
       "<path d=\"M23 22h-14c-0.552 0-1-0.448-1-1s0.448-1 1-1h14c0.552 0 1 0.448 1 1s-0.448 1-1 1z\"></path>\n",
       "<path d=\"M23 18h-14c-0.552 0-1-0.448-1-1s0.448-1 1-1h14c0.552 0 1 0.448 1 1s-0.448 1-1 1z\"></path>\n",
       "</symbol>\n",
       "</defs>\n",
       "</svg>\n",
       "<style>/* CSS stylesheet for displaying xarray objects in jupyterlab.\n",
       " *\n",
       " */\n",
       "\n",
       ":root {\n",
       "  --xr-font-color0: var(--jp-content-font-color0, rgba(0, 0, 0, 1));\n",
       "  --xr-font-color2: var(--jp-content-font-color2, rgba(0, 0, 0, 0.54));\n",
       "  --xr-font-color3: var(--jp-content-font-color3, rgba(0, 0, 0, 0.38));\n",
       "  --xr-border-color: var(--jp-border-color2, #e0e0e0);\n",
       "  --xr-disabled-color: var(--jp-layout-color3, #bdbdbd);\n",
       "  --xr-background-color: var(--jp-layout-color0, white);\n",
       "  --xr-background-color-row-even: var(--jp-layout-color1, white);\n",
       "  --xr-background-color-row-odd: var(--jp-layout-color2, #eeeeee);\n",
       "}\n",
       "\n",
       ".xr-wrap {\n",
       "  min-width: 300px;\n",
       "  max-width: 700px;\n",
       "}\n",
       "\n",
       ".xr-header {\n",
       "  padding-top: 6px;\n",
       "  padding-bottom: 6px;\n",
       "  margin-bottom: 4px;\n",
       "  border-bottom: solid 1px var(--xr-border-color);\n",
       "}\n",
       "\n",
       ".xr-header > div,\n",
       ".xr-header > ul {\n",
       "  display: inline;\n",
       "  margin-top: 0;\n",
       "  margin-bottom: 0;\n",
       "}\n",
       "\n",
       ".xr-obj-type,\n",
       ".xr-array-name {\n",
       "  margin-left: 2px;\n",
       "  margin-right: 10px;\n",
       "}\n",
       "\n",
       ".xr-obj-type {\n",
       "  color: var(--xr-font-color2);\n",
       "}\n",
       "\n",
       ".xr-sections {\n",
       "  padding-left: 0 !important;\n",
       "  display: grid;\n",
       "  grid-template-columns: 150px auto auto 1fr 20px 20px;\n",
       "}\n",
       "\n",
       ".xr-section-item {\n",
       "  display: contents;\n",
       "}\n",
       "\n",
       ".xr-section-item input {\n",
       "  display: none;\n",
       "}\n",
       "\n",
       ".xr-section-item input + label {\n",
       "  color: var(--xr-disabled-color);\n",
       "}\n",
       "\n",
       ".xr-section-item input:enabled + label {\n",
       "  cursor: pointer;\n",
       "  color: var(--xr-font-color2);\n",
       "}\n",
       "\n",
       ".xr-section-item input:enabled + label:hover {\n",
       "  color: var(--xr-font-color0);\n",
       "}\n",
       "\n",
       ".xr-section-summary {\n",
       "  grid-column: 1;\n",
       "  color: var(--xr-font-color2);\n",
       "  font-weight: 500;\n",
       "}\n",
       "\n",
       ".xr-section-summary > span {\n",
       "  display: inline-block;\n",
       "  padding-left: 0.5em;\n",
       "}\n",
       "\n",
       ".xr-section-summary-in:disabled + label {\n",
       "  color: var(--xr-font-color2);\n",
       "}\n",
       "\n",
       ".xr-section-summary-in + label:before {\n",
       "  display: inline-block;\n",
       "  content: '►';\n",
       "  font-size: 11px;\n",
       "  width: 15px;\n",
       "  text-align: center;\n",
       "}\n",
       "\n",
       ".xr-section-summary-in:disabled + label:before {\n",
       "  color: var(--xr-disabled-color);\n",
       "}\n",
       "\n",
       ".xr-section-summary-in:checked + label:before {\n",
       "  content: '▼';\n",
       "}\n",
       "\n",
       ".xr-section-summary-in:checked + label > span {\n",
       "  display: none;\n",
       "}\n",
       "\n",
       ".xr-section-summary,\n",
       ".xr-section-inline-details {\n",
       "  padding-top: 4px;\n",
       "  padding-bottom: 4px;\n",
       "}\n",
       "\n",
       ".xr-section-inline-details {\n",
       "  grid-column: 2 / -1;\n",
       "}\n",
       "\n",
       ".xr-section-details {\n",
       "  display: none;\n",
       "  grid-column: 1 / -1;\n",
       "  margin-bottom: 5px;\n",
       "}\n",
       "\n",
       ".xr-section-summary-in:checked ~ .xr-section-details {\n",
       "  display: contents;\n",
       "}\n",
       "\n",
       ".xr-array-wrap {\n",
       "  grid-column: 1 / -1;\n",
       "  display: grid;\n",
       "  grid-template-columns: 20px auto;\n",
       "}\n",
       "\n",
       ".xr-array-wrap > label {\n",
       "  grid-column: 1;\n",
       "  vertical-align: top;\n",
       "}\n",
       "\n",
       ".xr-preview {\n",
       "  color: var(--xr-font-color3);\n",
       "}\n",
       "\n",
       ".xr-array-preview,\n",
       ".xr-array-data {\n",
       "  padding: 0 5px !important;\n",
       "  grid-column: 2;\n",
       "}\n",
       "\n",
       ".xr-array-data,\n",
       ".xr-array-in:checked ~ .xr-array-preview {\n",
       "  display: none;\n",
       "}\n",
       "\n",
       ".xr-array-in:checked ~ .xr-array-data,\n",
       ".xr-array-preview {\n",
       "  display: inline-block;\n",
       "}\n",
       "\n",
       ".xr-dim-list {\n",
       "  display: inline-block !important;\n",
       "  list-style: none;\n",
       "  padding: 0 !important;\n",
       "  margin: 0;\n",
       "}\n",
       "\n",
       ".xr-dim-list li {\n",
       "  display: inline-block;\n",
       "  padding: 0;\n",
       "  margin: 0;\n",
       "}\n",
       "\n",
       ".xr-dim-list:before {\n",
       "  content: '(';\n",
       "}\n",
       "\n",
       ".xr-dim-list:after {\n",
       "  content: ')';\n",
       "}\n",
       "\n",
       ".xr-dim-list li:not(:last-child):after {\n",
       "  content: ',';\n",
       "  padding-right: 5px;\n",
       "}\n",
       "\n",
       ".xr-has-index {\n",
       "  font-weight: bold;\n",
       "}\n",
       "\n",
       ".xr-var-list,\n",
       ".xr-var-item {\n",
       "  display: contents;\n",
       "}\n",
       "\n",
       ".xr-var-item > div,\n",
       ".xr-var-item label,\n",
       ".xr-var-item > .xr-var-name span {\n",
       "  background-color: var(--xr-background-color-row-even);\n",
       "  margin-bottom: 0;\n",
       "}\n",
       "\n",
       ".xr-var-item > .xr-var-name:hover span {\n",
       "  padding-right: 5px;\n",
       "}\n",
       "\n",
       ".xr-var-list > li:nth-child(odd) > div,\n",
       ".xr-var-list > li:nth-child(odd) > label,\n",
       ".xr-var-list > li:nth-child(odd) > .xr-var-name span {\n",
       "  background-color: var(--xr-background-color-row-odd);\n",
       "}\n",
       "\n",
       ".xr-var-name {\n",
       "  grid-column: 1;\n",
       "}\n",
       "\n",
       ".xr-var-dims {\n",
       "  grid-column: 2;\n",
       "}\n",
       "\n",
       ".xr-var-dtype {\n",
       "  grid-column: 3;\n",
       "  text-align: right;\n",
       "  color: var(--xr-font-color2);\n",
       "}\n",
       "\n",
       ".xr-var-preview {\n",
       "  grid-column: 4;\n",
       "}\n",
       "\n",
       ".xr-var-name,\n",
       ".xr-var-dims,\n",
       ".xr-var-dtype,\n",
       ".xr-preview,\n",
       ".xr-attrs dt {\n",
       "  white-space: nowrap;\n",
       "  overflow: hidden;\n",
       "  text-overflow: ellipsis;\n",
       "  padding-right: 10px;\n",
       "}\n",
       "\n",
       ".xr-var-name:hover,\n",
       ".xr-var-dims:hover,\n",
       ".xr-var-dtype:hover,\n",
       ".xr-attrs dt:hover {\n",
       "  overflow: visible;\n",
       "  width: auto;\n",
       "  z-index: 1;\n",
       "}\n",
       "\n",
       ".xr-var-attrs,\n",
       ".xr-var-data {\n",
       "  display: none;\n",
       "  background-color: var(--xr-background-color) !important;\n",
       "  padding-bottom: 5px !important;\n",
       "}\n",
       "\n",
       ".xr-var-attrs-in:checked ~ .xr-var-attrs,\n",
       ".xr-var-data-in:checked ~ .xr-var-data {\n",
       "  display: block;\n",
       "}\n",
       "\n",
       ".xr-var-data > table {\n",
       "  float: right;\n",
       "}\n",
       "\n",
       ".xr-var-name span,\n",
       ".xr-var-data,\n",
       ".xr-attrs {\n",
       "  padding-left: 25px !important;\n",
       "}\n",
       "\n",
       ".xr-attrs,\n",
       ".xr-var-attrs,\n",
       ".xr-var-data {\n",
       "  grid-column: 1 / -1;\n",
       "}\n",
       "\n",
       "dl.xr-attrs {\n",
       "  padding: 0;\n",
       "  margin: 0;\n",
       "  display: grid;\n",
       "  grid-template-columns: 125px auto;\n",
       "}\n",
       "\n",
       ".xr-attrs dt, dd {\n",
       "  padding: 0;\n",
       "  margin: 0;\n",
       "  float: left;\n",
       "  padding-right: 10px;\n",
       "  width: auto;\n",
       "}\n",
       "\n",
       ".xr-attrs dt {\n",
       "  font-weight: normal;\n",
       "  grid-column: 1;\n",
       "}\n",
       "\n",
       ".xr-attrs dt:hover span {\n",
       "  display: inline-block;\n",
       "  background: var(--xr-background-color);\n",
       "  padding-right: 10px;\n",
       "}\n",
       "\n",
       ".xr-attrs dd {\n",
       "  grid-column: 2;\n",
       "  white-space: pre-wrap;\n",
       "  word-break: break-all;\n",
       "}\n",
       "\n",
       ".xr-icon-database,\n",
       ".xr-icon-file-text2 {\n",
       "  display: inline-block;\n",
       "  vertical-align: middle;\n",
       "  width: 1em;\n",
       "  height: 1.5em !important;\n",
       "  stroke-width: 0;\n",
       "  stroke: currentColor;\n",
       "  fill: currentColor;\n",
       "}\n",
       "</style><div class='xr-wrap'><div class='xr-header'><div class='xr-obj-type'>xarray.Dataset</div></div><ul class='xr-sections'><li class='xr-section-item'><input id='section-5e3a438a-5459-4d8d-9609-23ce5c96f2d6' class='xr-section-summary-in' type='checkbox' disabled ><label for='section-5e3a438a-5459-4d8d-9609-23ce5c96f2d6' class='xr-section-summary'  title='Expand/collapse section'>Dimensions:</label><div class='xr-section-inline-details'><ul class='xr-dim-list'><li><span class='xr-has-index'>scan</span>: 10000</li></ul></div><div class='xr-section-details'></div></li><li class='xr-section-item'><input id='section-4ef8372a-f836-4c12-a682-6c18f28e42f3' class='xr-section-summary-in' type='checkbox'  checked><label for='section-4ef8372a-f836-4c12-a682-6c18f28e42f3' class='xr-section-summary' >Coordinates: <span>(1)</span></label><div class='xr-section-inline-details'></div><div class='xr-section-details'><ul class='xr-var-list'><li class='xr-var-item'><div class='xr-var-name'><span class='xr-has-index'>scan</span></div><div class='xr-var-dims'>(scan)</div><div class='xr-var-dtype'>int64</div><div class='xr-var-preview xr-preview'>1 2 3 4 5 ... 9997 9998 9999 10000</div><input id='attrs-e7f31c1e-9d41-477d-b708-a56dbc8e1c4f' class='xr-var-attrs-in' type='checkbox' disabled><label for='attrs-e7f31c1e-9d41-477d-b708-a56dbc8e1c4f' title='Show/Hide attributes'><svg class='icon xr-icon-file-text2'><use xlink:href='#icon-file-text2'></use></svg></label><input id='data-711227c1-8990-4f73-8a91-ecce97164ab8' class='xr-var-data-in' type='checkbox'><label for='data-711227c1-8990-4f73-8a91-ecce97164ab8' title='Show/Hide data repr'><svg class='icon xr-icon-database'><use xlink:href='#icon-database'></use></svg></label><div class='xr-var-attrs'><dl class='xr-attrs'></dl></div><pre class='xr-var-data'>array([    1,     2,     3, ...,  9998,  9999, 10000])</pre></li></ul></div></li><li class='xr-section-item'><input id='section-b35bcaa3-18ff-405d-9dcc-ce83121f574c' class='xr-section-summary-in' type='checkbox'  checked><label for='section-b35bcaa3-18ff-405d-9dcc-ce83121f574c' class='xr-section-summary' >Data variables: <span>(4)</span></label><div class='xr-section-inline-details'></div><div class='xr-section-details'><ul class='xr-var-list'><li class='xr-var-item'><div class='xr-var-name'><span>ws</span></div><div class='xr-var-dims'>(scan)</div><div class='xr-var-dtype'>float64</div><div class='xr-var-preview xr-preview'>10.0 10.0 10.0 ... 10.0 10.0 10.0</div><input id='attrs-15365668-67b9-42d5-9f5f-3a9cb49243cc' class='xr-var-attrs-in' type='checkbox' ><label for='attrs-15365668-67b9-42d5-9f5f-3a9cb49243cc' title='Show/Hide attributes'><svg class='icon xr-icon-file-text2'><use xlink:href='#icon-file-text2'></use></svg></label><input id='data-0508bd10-b258-4fc1-af9f-d17d0d823bb0' class='xr-var-data-in' type='checkbox'><label for='data-0508bd10-b258-4fc1-af9f-d17d0d823bb0' title='Show/Hide data repr'><svg class='icon xr-icon-database'><use xlink:href='#icon-database'></use></svg></label><div class='xr-var-attrs'><dl class='xr-attrs'><dt><span>long_name :</span></dt><dd>Wind speed</dd><dt><span>standard_name :</span></dt><dd>wind_speed</dd><dt><span>units :</span></dt><dd>m.s-1</dd><dt><span>URI :</span></dt><dd></dd></dl></div><pre class='xr-var-data'>array([9.9995682, 9.9995682, 9.9995682, ..., 9.9995682, 9.9995682,\n",
       "       9.9995682])</pre></li><li class='xr-var-item'><div class='xr-var-name'><span>wdir</span></div><div class='xr-var-dims'>(scan)</div><div class='xr-var-dtype'>float64</div><div class='xr-var-preview xr-preview'>53.0 53.0 53.0 ... 53.0 53.0 53.0</div><input id='attrs-c47859e8-6eaf-41db-87d2-321785d84c7f' class='xr-var-attrs-in' type='checkbox' ><label for='attrs-c47859e8-6eaf-41db-87d2-321785d84c7f' title='Show/Hide attributes'><svg class='icon xr-icon-file-text2'><use xlink:href='#icon-file-text2'></use></svg></label><input id='data-472dc459-6652-4f78-9b32-0942cb79401c' class='xr-var-data-in' type='checkbox'><label for='data-472dc459-6652-4f78-9b32-0942cb79401c' title='Show/Hide data repr'><svg class='icon xr-icon-database'><use xlink:href='#icon-database'></use></svg></label><div class='xr-var-attrs'><dl class='xr-attrs'><dt><span>long_name :</span></dt><dd>Wind direction</dd><dt><span>standard_name :</span></dt><dd>wind_from_direction</dd><dt><span>units :</span></dt><dd>degree</dd><dt><span>URI :</span></dt><dd></dd></dl></div><pre class='xr-var-data'>array([53., 53., 53., ..., 53., 53., 53.])</pre></li><li class='xr-var-item'><div class='xr-var-name'><span>u</span></div><div class='xr-var-dims'>(scan)</div><div class='xr-var-dtype'>float64</div><div class='xr-var-preview xr-preview'>-7.986 -7.986 ... -7.986 -7.986</div><input id='attrs-115a2274-ba10-4bb9-b96b-054dbe4368b2' class='xr-var-attrs-in' type='checkbox' ><label for='attrs-115a2274-ba10-4bb9-b96b-054dbe4368b2' title='Show/Hide attributes'><svg class='icon xr-icon-file-text2'><use xlink:href='#icon-file-text2'></use></svg></label><input id='data-142f289d-7acf-4cc6-9f6b-dc7d2efbfe3c' class='xr-var-data-in' type='checkbox'><label for='data-142f289d-7acf-4cc6-9f6b-dc7d2efbfe3c' title='Show/Hide data repr'><svg class='icon xr-icon-database'><use xlink:href='#icon-database'></use></svg></label><div class='xr-var-attrs'><dl class='xr-attrs'><dt><span>long_name :</span></dt><dd>Eastward wind</dd><dt><span>standard_name :</span></dt><dd>eastward_wind</dd><dt><span>units :</span></dt><dd>m.s-1</dd><dt><span>URI :</span></dt><dd></dd></dl></div><pre class='xr-var-data'>array([-7.98601025, -7.98601025, -7.98601025, ..., -7.98601025,\n",
       "       -7.98601025, -7.98601025])</pre></li><li class='xr-var-item'><div class='xr-var-name'><span>v</span></div><div class='xr-var-dims'>(scan)</div><div class='xr-var-dtype'>float64</div><div class='xr-var-preview xr-preview'>-6.018 -6.018 ... -6.018 -6.018</div><input id='attrs-fecd2af5-4500-4c8b-926a-b85ae3ac3674' class='xr-var-attrs-in' type='checkbox' ><label for='attrs-fecd2af5-4500-4c8b-926a-b85ae3ac3674' title='Show/Hide attributes'><svg class='icon xr-icon-file-text2'><use xlink:href='#icon-file-text2'></use></svg></label><input id='data-f2b97a1b-0e6d-4041-adfd-42015ca43111' class='xr-var-data-in' type='checkbox'><label for='data-f2b97a1b-0e6d-4041-adfd-42015ca43111' title='Show/Hide data repr'><svg class='icon xr-icon-database'><use xlink:href='#icon-database'></use></svg></label><div class='xr-var-attrs'><dl class='xr-attrs'><dt><span>long_name :</span></dt><dd>Northward wind</dd><dt><span>standard_name :</span></dt><dd>northward_wind</dd><dt><span>units :</span></dt><dd>m.s-1</dd><dt><span>URI :</span></dt><dd></dd></dl></div><pre class='xr-var-data'>array([-6.01789037, -6.01789037, -6.01789037, ..., -6.01789037,\n",
       "       -6.01789037, -6.01789037])</pre></li></ul></div></li><li class='xr-section-item'><input id='section-1aab7696-9ebc-42b9-b1a8-6a384f99f453' class='xr-section-summary-in' type='checkbox'  checked><label for='section-1aab7696-9ebc-42b9-b1a8-6a384f99f453' class='xr-section-summary' >Attributes: <span>(2)</span></label><div class='xr-section-inline-details'></div><div class='xr-section-details'><dl class='xr-attrs'><dt><span>title :</span></dt><dd>Reconstructed wind</dd><dt><span>scan_type :</span></dt><dd>single-Doppler IVAP</dd></dl></div></li></ul></div></div>"
      ],
      "text/plain": [
       "<xarray.Dataset>\n",
       "Dimensions:  (scan: 10000)\n",
       "Coordinates:\n",
       "  * scan     (scan) int64 1 2 3 4 5 6 7 ... 9994 9995 9996 9997 9998 9999 10000\n",
       "Data variables:\n",
       "    ws       (scan) float64 10.0 10.0 10.0 10.0 10.0 ... 10.0 10.0 10.0 10.0\n",
       "    wdir     (scan) float64 53.0 53.0 53.0 53.0 53.0 ... 53.0 53.0 53.0 53.0\n",
       "    u        (scan) float64 -7.986 -7.986 -7.986 -7.986 ... -7.986 -7.986 -7.986\n",
       "    v        (scan) float64 -6.018 -6.018 -6.018 -6.018 ... -6.018 -6.018 -6.018\n",
       "Attributes:\n",
       "    title:      Reconstructed wind\n",
       "    scan_type:  single-Doppler IVAP"
      ]
     },
     "execution_count": 16,
     "metadata": {},
     "output_type": "execute_result"
    }
   ],
   "source": [
    "pl_mc.data.rc_wind"
   ]
  },
  {
   "cell_type": "code",
   "execution_count": 5,
   "metadata": {},
   "outputs": [
    {
     "data": {
      "text/plain": [
       "array([[64.53665494, 72.1213034 , 76.293039  ],\n",
       "       [64.53665494, 72.1213034 , 76.293039  ],\n",
       "       [64.53665494, 72.1213034 , 76.293039  ],\n",
       "       ...,\n",
       "       [64.53665494, 72.1213034 , 76.293039  ],\n",
       "       [64.53665494, 72.1213034 , 76.293039  ],\n",
       "       [64.53665494, 72.1213034 , 76.293039  ]])"
      ]
     },
     "execution_count": 5,
     "metadata": {},
     "output_type": "execute_result"
    }
   ],
   "source": [
    "tmp = pl_mc.az.values.reshape(100000,3).reshape(20000,5,3).mean(axis = 1)\n",
    "\n",
    "tmp"
   ]
  },
  {
   "cell_type": "code",
   "execution_count": 10,
   "metadata": {},
   "outputs": [
    {
     "data": {
      "text/plain": [
       "array([115.46334506, 107.8786966 , 103.706961  ])"
      ]
     },
     "execution_count": 10,
     "metadata": {},
     "output_type": "execute_result"
    }
   ],
   "source": [
    "tmp_mean = tmp.mean(axis = 1)\n",
    "tmp_mean[1]\n",
    "tmp_mean[0]"
   ]
  },
  {
   "cell_type": "code",
   "execution_count": 111,
   "metadata": {},
   "outputs": [
    {
     "data": {
      "text/plain": [
       "array([64.53665494, 72.1213034 , 76.293039  , 64.53665494, 72.1213034 ,\n",
       "       76.293039  , 64.53665494, 72.1213034 , 76.293039  , 64.53665494,\n",
       "       72.1213034 , 76.293039  , 64.53665494, 72.1213034 , 76.293039  ])"
      ]
     },
     "execution_count": 111,
     "metadata": {},
     "output_type": "execute_result"
    }
   ],
   "source": [
    "no_scans = 10\n",
    "no_los = 3\n",
    "az = pl_mc.az[0]\n",
    "az_scan_split = np.asarray(np.split(az, no_scans, axis = 0))\n",
    "\n",
    "az_scan_grouping = np.asarray(np.split(az_scan_split, 5))\n",
    "az_scan_grouping\n",
    "# az_scan_group_split\n",
    "az_scan_grouping.mean(axis = 1).flatten()"
   ]
  },
  {
   "cell_type": "code",
   "execution_count": 12,
   "metadata": {},
   "outputs": [
    {
     "data": {
      "text/plain": [
       "6.0"
      ]
     },
     "execution_count": 12,
     "metadata": {},
     "output_type": "execute_result"
    }
   ],
   "source": [
    "3*10/5"
   ]
  },
  {
   "cell_type": "code",
   "execution_count": 20,
   "metadata": {},
   "outputs": [],
   "source": [
    "def _scan_average(a, no_scans, no_avg):\n",
    "    \n",
    "    scan_split = np.asarray(np.split(a, no_scans, axis = 0))\n",
    "    scan_grouping = np.asarray(np.split(scan_split, int(no_scans/no_avg)))\n",
    "\n",
    "    return scan_grouping\n",
    "    "
   ]
  },
  {
   "cell_type": "code",
   "execution_count": 21,
   "metadata": {},
   "outputs": [
    {
     "data": {
      "text/plain": [
       "array([64.53665494, 72.1213034 , 76.293039  , 64.53665494, 72.1213034 ,\n",
       "       76.293039  ])"
      ]
     },
     "execution_count": 21,
     "metadata": {},
     "output_type": "execute_result"
    }
   ],
   "source": [
    "_scan_average(pl_mc.az, 10, 5).mean(axis = 1).flatten()"
   ]
  },
  {
   "cell_type": "code",
   "execution_count": 16,
   "metadata": {},
   "outputs": [
    {
     "data": {
      "text/plain": [
       "array([76.293039, 76.293039, 76.293039, ..., 76.293039, 76.293039,\n",
       "       76.293039])"
      ]
     },
     "execution_count": 16,
     "metadata": {},
     "output_type": "execute_result"
    }
   ],
   "source": [
    "az\n",
    "\n",
    "\n",
    "vrad = np.asarray(np.split(self.data.los[lidar_id].vrad.values,\n",
    "                            self.data.los[lidar_id].no_scans.values))\n"
   ]
  },
  {
   "cell_type": "code",
   "execution_count": 21,
   "metadata": {},
   "outputs": [
    {
     "data": {
      "text/plain": [
       "(array([10.]), array([45.]))"
      ]
     },
     "execution_count": 21,
     "metadata": {},
     "output_type": "execute_result"
    }
   ],
   "source": [
    "# triple-Doppler\n",
    "los = np.array([pl_mc.data.los['koshava'].vrad, \n",
    "                pl_mc.data.los['sterenn'].vrad, \n",
    "                pl_mc.data.los['whittle'].vrad]).T\n",
    "\n",
    "\n",
    "az = np.array([pl_mc.data.los['koshava'].az, \n",
    "               pl_mc.data.los['sterenn'].az, \n",
    "               pl_mc.data.los['whittle'].az])\n",
    "\n",
    "el = np.array([pl_mc.data.los['koshava'].el, \n",
    "               pl_mc.data.los['sterenn'].el,\n",
    "               pl_mc.data.los['whittle'].el])\n",
    "\n",
    "td_rc(los[0], az.T[0], el.T[0], 1)\n",
    "\n",
    "td_rc_array(los, az, el)"
   ]
  },
  {
   "cell_type": "code",
   "execution_count": 192,
   "metadata": {},
   "outputs": [
    {
     "data": {
      "text/plain": [
       "(-7.192254182225042, -6.936620630811991, 9.992258303183528, 46.036538710526024)"
      ]
     },
     "execution_count": 192,
     "metadata": {},
     "output_type": "execute_result"
    }
   ],
   "source": [
    "# dual-Doppler\n",
    "\n",
    "\n",
    "los = np.array([pl_mc.data.los['whittle'].vrad, \n",
    "                pl_mc.data.los['sterenn'].vrad]).T\n",
    "\n",
    "\n",
    "az = np.array([pl_mc.data.los['whittle'].az, \n",
    "               pl_mc.data.los['sterenn'].az])\n",
    "\n",
    "el = np.array([pl_mc.data.los['whittle'].el, \n",
    "               pl_mc.data.los['sterenn'].el])\n",
    "\n",
    "dd_rc(los[0], az.T[0], el.T[0], 0)\n",
    "\n",
    "# dd_rc_array(los, az, el, 1)"
   ]
  },
  {
   "cell_type": "code",
   "execution_count": 193,
   "metadata": {},
   "outputs": [
    {
     "data": {
      "text/plain": [
       "(array([10.]), array([45.]))"
      ]
     },
     "execution_count": 193,
     "metadata": {},
     "output_type": "execute_result"
    }
   ],
   "source": [
    "dd_rc_array(los, az, el)"
   ]
  },
  {
   "cell_type": "code",
   "execution_count": null,
   "metadata": {},
   "outputs": [],
   "source": []
  },
  {
   "cell_type": "code",
   "execution_count": 185,
   "metadata": {},
   "outputs": [
    {
     "data": {
      "text/plain": [
       "(6.427876096865394, 7.660444431189777, 9.999999999999998, 220.00000000000003)"
      ]
     },
     "execution_count": 185,
     "metadata": {},
     "output_type": "execute_result"
    }
   ],
   "source": [
    "# dual-Doppler\n",
    "los = np.array([pl_mc.data.los['koshava'].vrad, \n",
    "                pl_mc.data.los['sterenn'].vrad]).T\n",
    "\n",
    "\n",
    "az = np.array([pl_mc.data.los['koshava'].az, \n",
    "               pl_mc.data.los['sterenn'].az])\n",
    "\n",
    "el = np.array([pl_mc.data.los['koshava'].el, \n",
    "               pl_mc.data.los['sterenn'].el])\n",
    "\n",
    "dd_rc(los[0], az.T[0], el.T[0], 0)"
   ]
  },
  {
   "cell_type": "code",
   "execution_count": 182,
   "metadata": {},
   "outputs": [
    {
     "data": {
      "text/plain": [
       "(6.555173129774655, 7.640206795843824, 10.066928759287899, 220.6290565986071)"
      ]
     },
     "execution_count": 182,
     "metadata": {},
     "output_type": "execute_result"
    }
   ],
   "source": [
    "dd_rs_ar(los, az, el, 0)\n",
    "\n",
    "\n",
    "dd_rc(los[0], az.T[0], el.T[0], 1)"
   ]
  },
  {
   "cell_type": "code",
   "execution_count": 151,
   "metadata": {},
   "outputs": [],
   "source": [
    "def dd_rs_ar(los, azimuth, elevation, rc_type = 0):\n",
    "\n",
    "    azimuth = np.radians(azimuth)\n",
    "    elevation = np.radians(elevation)\n",
    "    \n",
    "    if rc_type == 0:\n",
    "        R_ws = np.array([[np.sin(azimuth[0]), np.cos(azimuth[0])],\n",
    "                         [np.sin(azimuth[1]), np.cos(azimuth[1])]]).T\n",
    "    else:\n",
    "        R_ws = np.array([[np.sin(azimuth[0])*np.cos(elevation[0]), np.cos(azimuth[0])*np.cos(elevation[0])],\n",
    "                         [np.sin(azimuth[1])*np.cos(elevation[1]), np.cos(azimuth[1])*np.cos(elevation[1])]]).T\n",
    "\n",
    "    R_ws_inv = np.linalg.inv(R_ws)\n",
    "\n",
    "\n",
    "    uvw_array = np.einsum('ijk,ik->ij', R_ws_inv,los)\n",
    "    V_h_array = np.sqrt(uvw_array[:,0]**2 + uvw_array[:,1]**2)\n",
    "\n",
    "    wind_dir_array = (90 - np.arctan2(-uvw_array[:,0],-uvw_array[:,1])* (180 / np.pi)) % 360    \n",
    "    return V_h_array, wind_dir_array"
   ]
  },
  {
   "cell_type": "code",
   "execution_count": 139,
   "metadata": {},
   "outputs": [],
   "source": [
    "def td_rs_ar(los, azimuth, elevation, rc_type = 0):\n",
    "\n",
    "    azimuth = np.radians(azimuth)\n",
    "    elevation = np.radians(elevation)\n",
    "    \n",
    "    if rc_type == 0:\n",
    "        R_ws = np.array([[np.sin(azimuth[0]), np.cos(azimuth[0]), np.sin(elevation[0])],\n",
    "                         [np.sin(azimuth[1]), np.cos(azimuth[1]), np.sin(elevation[1])],\n",
    "                         [np.sin(azimuth[2]), np.cos(azimuth[2]), np.sin(elevation[2])]]).T\n",
    "    else:\n",
    "        R_ws = np.array([[np.sin(azimuth[0])*np.cos(elevation[0]), np.cos(azimuth[0])*np.cos(elevation[0]), np.sin(elevation[0])],\n",
    "                         [np.sin(azimuth[1])*np.cos(elevation[1]), np.cos(azimuth[1])*np.cos(elevation[1]), np.sin(elevation[1])],\n",
    "                         [np.sin(azimuth[2])*np.cos(elevation[2]), np.cos(azimuth[2])*np.cos(elevation[2]), np.sin(elevation[2])]]).T\n",
    "        \n",
    "    R_ws_inv = np.linalg.inv(R_ws)\n",
    "\n",
    "\n",
    "    uvw_array = np.einsum('ijk,ik->ij', R_ws_inv,los)\n",
    "    V_h_array = np.sqrt(uvw_array[:,0]**2 + uvw_array[:,1]**2)\n",
    "\n",
    "    wind_dir_array = (90 - np.arctan2(-uvw_array[:,0],-uvw_array[:,1])* (180 / np.pi)) % 360    \n",
    "    return V_h_array, wind_dir_array"
   ]
  },
  {
   "cell_type": "code",
   "execution_count": 15,
   "metadata": {},
   "outputs": [],
   "source": [
    "def td_rc(los, azimuth, elevation, rc_type = 0):\n",
    "\n",
    "\n",
    "    azimuth = np.radians(azimuth)\n",
    "    elevation = np.radians(elevation)\n",
    "    \n",
    "    if rc_type == 0:\n",
    "        R_ws = np.array([[np.sin(azimuth[0]), np.cos(azimuth[0]), np.sin(elevation[0])],\n",
    "                         [np.sin(azimuth[1]), np.cos(azimuth[1]), np.sin(elevation[1])],\n",
    "                         [np.sin(azimuth[2]), np.cos(azimuth[2]), np.sin(elevation[2])]])\n",
    "    else:\n",
    "        R_ws = np.array([[np.sin(azimuth[0])*np.cos(elevation[0]), np.cos(azimuth[0])*np.cos(elevation[0]), np.sin(elevation[0])],\n",
    "                         [np.sin(azimuth[1])*np.cos(elevation[1]), np.cos(azimuth[1])*np.cos(elevation[1]), np.sin(elevation[1])],\n",
    "                         [np.sin(azimuth[2])*np.cos(elevation[2]), np.cos(azimuth[2])*np.cos(elevation[2]), np.sin(elevation[2])]])\n",
    "\n",
    "    u, v, w = np.dot(np.linalg.inv(R_ws),los)\n",
    "#     u, v, w = los.dot(np.linalg.inv(R_ws))    \n",
    "    wind_speed = np.sqrt(u**2 + v**2)\n",
    "\n",
    "    wind_direction = (90 - np.degrees(np.arctan2(-v, -u))) % 360\n",
    "\n",
    "    return u, v, w, wind_speed, wind_direction"
   ]
  },
  {
   "cell_type": "code",
   "execution_count": 180,
   "metadata": {},
   "outputs": [],
   "source": [
    "def dd_rc(los, azimuth, elevation, rc_type = 0):\n",
    "\n",
    "\n",
    "    azimuth = np.radians(azimuth)\n",
    "    elevation = np.radians(elevation)\n",
    "\n",
    "    if rc_type == 0:\n",
    "        R_ws = np.array([[np.sin(azimuth[0]), np.cos(azimuth[0])],\n",
    "                         [np.sin(azimuth[1]), np.cos(azimuth[1])]])\n",
    "    else:\n",
    "        R_ws = np.array([[np.sin(azimuth[0])*np.cos(elevation[0]), np.cos(azimuth[0])*np.cos(elevation[0])],\n",
    "                         [np.sin(azimuth[1])*np.cos(elevation[1]), np.cos(azimuth[1])*np.cos(elevation[1])]])\n",
    "\n",
    "\n",
    "    u, v = np.dot(np.linalg.inv(R_ws),los)\n",
    "    wind_speed = np.sqrt(u**2 + v**2)\n",
    "\n",
    "    wind_direction = (90 - np.degrees(np.arctan2(-v, -u))) % 360\n",
    "\n",
    "    return u, v, wind_speed, wind_direction"
   ]
  },
  {
   "cell_type": "code",
   "execution_count": 142,
   "metadata": {},
   "outputs": [],
   "source": [
    "def dd_rs_ar(los, azimuth, elevation, rc_type = 0):\n",
    "\n",
    "    azimuth = np.radians(azimuth)\n",
    "    elevation = np.radians(elevation)\n",
    "    \n",
    "    if rc_type == 0:\n",
    "        R_ws = np.array([[np.sin(azimuth[0]), np.cos(azimuth[0])],\n",
    "                         [np.sin(azimuth[1]), np.cos(azimuth[1])]]).T\n",
    "    else:\n",
    "        R_ws = np.array([[np.sin(azimuth[0])*np.cos(elevation[0]), np.cos(azimuth[0])*np.cos(elevation[0])],\n",
    "                         [np.sin(azimuth[1])*np.cos(elevation[1]), np.cos(azimuth[1])*np.cos(elevation[1])]]).T\n",
    "\n",
    "    R_ws_inv = np.linalg.inv(R_ws)\n",
    "\n",
    "\n",
    "    uvw_array = np.einsum('ijk,ik->ij', R_ws_inv,los)\n",
    "    V_h_array = np.sqrt(uvw_array[:,0]**2 + uvw_array[:,1]**2)\n",
    "\n",
    "    wind_dir_array = (90 - np.arctan2(-uvw_array[:,0],-uvw_array[:,1])* (180 / np.pi)) % 360    \n",
    "    return V_h_array, wind_dir_array"
   ]
  },
  {
   "cell_type": "code",
   "execution_count": 107,
   "metadata": {},
   "outputs": [
    {
     "data": {
      "text/plain": [
       "array([90., 90., 90., 90., 90., 90.])"
      ]
     },
     "execution_count": 107,
     "metadata": {},
     "output_type": "execute_result"
    }
   ],
   "source": [
    "            los = u * np.sin(azimuth) * np.cos(elevation) + \\\n",
    "                v * np.cos(azimuth) * np.cos(elevation) + \\\n",
    "                w * np.sin(elevation)\n"
   ]
  },
  {
   "cell_type": "code",
   "execution_count": 94,
   "metadata": {},
   "outputs": [],
   "source": [
    "def dd_rc(los, azimuth):\n",
    "\n",
    "    azimuth = np.radians(azimuth)\n",
    "\n",
    "    R_ws = np.array([[np.sin(azimuth[0]), np.cos(azimuth[0])],\n",
    "                     [np.sin(azimuth[1]), np.cos(azimuth[1])]])\n",
    "    \n",
    "    R_ws_inv = np.linalg.inv(R_ws)\n",
    "\n",
    "    u, v = np.dot(np.linalg.inv(R_ws),los)\n",
    "    wind_speed = np.sqrt(u**2 + v**2)\n",
    "\n",
    "    wind_direction = (90 - np.degrees(np.arctan2(-v, -u))) % 360\n",
    "\n",
    "    return u, v, wind_speed, wind_direction"
   ]
  },
  {
   "cell_type": "code",
   "execution_count": 54,
   "metadata": {},
   "outputs": [],
   "source": [
    "u,v,w, ws, wdir = los_to_wind_array(az, el, los)"
   ]
  },
  {
   "cell_type": "code",
   "execution_count": 58,
   "metadata": {},
   "outputs": [
    {
     "data": {
      "text/plain": [
       "array([-1.24277122e+15, -1.24277122e+15, -1.24277122e+15, -1.24277122e+15,\n",
       "       -1.24277122e+15, -1.24277122e+15])"
      ]
     },
     "execution_count": 58,
     "metadata": {},
     "output_type": "execute_result"
    }
   ],
   "source": [
    "    R_ws = np.transpose(np.array([\n",
    "        [np.cos(elevation_array[0]) * np.sin(azimuth_array[0]),np.cos(elevation_array[1]) * np.sin(azimuth_array[1]), np.cos(elevation_array[2]) * np.sin(azimuth_array[2])], \n",
    "\n",
    "         [np.cos(elevation_array[0]) * np.cos(azimuth_array[0]),np.cos(elevation_array[1]) * np.cos(azimuth_array[1]), np.cos(elevation_array[2]) * np.cos(azimuth_array[2])],\n",
    "\n",
    "         [np.sin(elevation_array[0]),np.sin(elevation_array[1]),np.sin(elevation_array[2])],\n",
    "\n",
    "    ]))\n"
   ]
  },
  {
   "cell_type": "code",
   "execution_count": null,
   "metadata": {},
   "outputs": [],
   "source": []
  },
  {
   "cell_type": "code",
   "execution_count": 39,
   "metadata": {},
   "outputs": [],
   "source": [
    "R_ws = np.array([[np.sin(np.radians(pl_mc.data.los['koshava'].az)), np.cos(np.radians(pl_mc.data.los['koshava'].az))],\n",
    "                 [np.sin(np.radians(pl_mc.data.los['sterenn'].az)), np.cos(np.radians(pl_mc.data.los['sterenn'].az))]])"
   ]
  },
  {
   "cell_type": "code",
   "execution_count": 48,
   "metadata": {},
   "outputs": [],
   "source": [
    "    R_ws = np.array([[np.sin(az[:, 0]), np.cos(az[:, 0])],\n",
    "                     [np.sin(az[:, 1]), np.cos(az[:, 1])]])"
   ]
  },
  {
   "cell_type": "code",
   "execution_count": 18,
   "metadata": {},
   "outputs": [],
   "source": [
    "def los_to_wind_array(azimuth_array, elevation_array, v_los_array):\n",
    "    R_ws = np.transpose(np.array([\n",
    "        [np.cos(elevation_array[0]) * np.sin(azimuth_array[0]),np.cos(elevation_array[1]) * np.sin(azimuth_array[1]), np.cos(elevation_array[2]) * np.sin(azimuth_array[2])], \n",
    "\n",
    "         [np.cos(elevation_array[0]) * np.cos(azimuth_array[0]),np.cos(elevation_array[1]) * np.cos(azimuth_array[1]), np.cos(elevation_array[2]) * np.cos(azimuth_array[2])],\n",
    "\n",
    "         [np.sin(elevation_array[0]),np.sin(elevation_array[1]),np.sin(elevation_array[2])],\n",
    "\n",
    "    ]))\n",
    "\n",
    "    R_ws_inv = np.linalg.inv(R_ws)\n",
    "    \n",
    "    \n",
    "    uvw_array = np.einsum('ijk,ik->ij', R_ws_inv,v_los_array)\n",
    "    V_h_array = np.sqrt(uvw_array[:,0]**2 + uvw_array[:,1]**2)\n",
    "    \n",
    "    \n",
    "    wind_dir_array = (90 - np.arctan2(-uvw_array[:,1], -uvw_array[:,0])* (180 / np.pi)) % 360    \n",
    "    return uvw_array[:,0], uvw_array[:,1],uvw_array[:,2], V_h_array, wind_dir_array"
   ]
  },
  {
   "cell_type": "code",
   "execution_count": 51,
   "metadata": {},
   "outputs": [
    {
     "data": {
      "text/plain": [
       "(62, 2)"
      ]
     },
     "execution_count": 51,
     "metadata": {},
     "output_type": "execute_result"
    }
   ],
   "source": [
    "los.shape"
   ]
  },
  {
   "cell_type": "code",
   "execution_count": 52,
   "metadata": {},
   "outputs": [
    {
     "ename": "LinAlgError",
     "evalue": "Last 2 dimensions of the array must be square",
     "output_type": "error",
     "traceback": [
      "\u001b[0;31m---------------------------------------------------------------------------\u001b[0m",
      "\u001b[0;31mLinAlgError\u001b[0m                               Traceback (most recent call last)",
      "\u001b[0;32m<ipython-input-52-00b20c7c64d9>\u001b[0m in \u001b[0;36m<module>\u001b[0;34m\u001b[0m\n\u001b[0;32m----> 1\u001b[0;31m \u001b[0mu\u001b[0m\u001b[0;34m,\u001b[0m \u001b[0mv\u001b[0m \u001b[0;34m=\u001b[0m \u001b[0mnp\u001b[0m\u001b[0;34m.\u001b[0m\u001b[0mdot\u001b[0m\u001b[0;34m(\u001b[0m\u001b[0mnp\u001b[0m\u001b[0;34m.\u001b[0m\u001b[0mlinalg\u001b[0m\u001b[0;34m.\u001b[0m\u001b[0minv\u001b[0m\u001b[0;34m(\u001b[0m\u001b[0mR_ws\u001b[0m\u001b[0;34m)\u001b[0m\u001b[0;34m,\u001b[0m\u001b[0mlos\u001b[0m\u001b[0;34m)\u001b[0m\u001b[0;34m\u001b[0m\u001b[0;34m\u001b[0m\u001b[0m\n\u001b[0m",
      "\u001b[0;32m<__array_function__ internals>\u001b[0m in \u001b[0;36minv\u001b[0;34m(*args, **kwargs)\u001b[0m\n",
      "\u001b[0;32m~/opt/miniconda3/envs/mocalum_dev/lib/python3.7/site-packages/numpy/linalg/linalg.py\u001b[0m in \u001b[0;36minv\u001b[0;34m(a)\u001b[0m\n\u001b[1;32m    540\u001b[0m     \u001b[0ma\u001b[0m\u001b[0;34m,\u001b[0m \u001b[0mwrap\u001b[0m \u001b[0;34m=\u001b[0m \u001b[0m_makearray\u001b[0m\u001b[0;34m(\u001b[0m\u001b[0ma\u001b[0m\u001b[0;34m)\u001b[0m\u001b[0;34m\u001b[0m\u001b[0;34m\u001b[0m\u001b[0m\n\u001b[1;32m    541\u001b[0m     \u001b[0m_assert_stacked_2d\u001b[0m\u001b[0;34m(\u001b[0m\u001b[0ma\u001b[0m\u001b[0;34m)\u001b[0m\u001b[0;34m\u001b[0m\u001b[0;34m\u001b[0m\u001b[0m\n\u001b[0;32m--> 542\u001b[0;31m     \u001b[0m_assert_stacked_square\u001b[0m\u001b[0;34m(\u001b[0m\u001b[0ma\u001b[0m\u001b[0;34m)\u001b[0m\u001b[0;34m\u001b[0m\u001b[0;34m\u001b[0m\u001b[0m\n\u001b[0m\u001b[1;32m    543\u001b[0m     \u001b[0mt\u001b[0m\u001b[0;34m,\u001b[0m \u001b[0mresult_t\u001b[0m \u001b[0;34m=\u001b[0m \u001b[0m_commonType\u001b[0m\u001b[0;34m(\u001b[0m\u001b[0ma\u001b[0m\u001b[0;34m)\u001b[0m\u001b[0;34m\u001b[0m\u001b[0;34m\u001b[0m\u001b[0m\n\u001b[1;32m    544\u001b[0m \u001b[0;34m\u001b[0m\u001b[0m\n",
      "\u001b[0;32m~/opt/miniconda3/envs/mocalum_dev/lib/python3.7/site-packages/numpy/linalg/linalg.py\u001b[0m in \u001b[0;36m_assert_stacked_square\u001b[0;34m(*arrays)\u001b[0m\n\u001b[1;32m    211\u001b[0m         \u001b[0mm\u001b[0m\u001b[0;34m,\u001b[0m \u001b[0mn\u001b[0m \u001b[0;34m=\u001b[0m \u001b[0ma\u001b[0m\u001b[0;34m.\u001b[0m\u001b[0mshape\u001b[0m\u001b[0;34m[\u001b[0m\u001b[0;34m-\u001b[0m\u001b[0;36m2\u001b[0m\u001b[0;34m:\u001b[0m\u001b[0;34m]\u001b[0m\u001b[0;34m\u001b[0m\u001b[0;34m\u001b[0m\u001b[0m\n\u001b[1;32m    212\u001b[0m         \u001b[0;32mif\u001b[0m \u001b[0mm\u001b[0m \u001b[0;34m!=\u001b[0m \u001b[0mn\u001b[0m\u001b[0;34m:\u001b[0m\u001b[0;34m\u001b[0m\u001b[0;34m\u001b[0m\u001b[0m\n\u001b[0;32m--> 213\u001b[0;31m             \u001b[0;32mraise\u001b[0m \u001b[0mLinAlgError\u001b[0m\u001b[0;34m(\u001b[0m\u001b[0;34m'Last 2 dimensions of the array must be square'\u001b[0m\u001b[0;34m)\u001b[0m\u001b[0;34m\u001b[0m\u001b[0;34m\u001b[0m\u001b[0m\n\u001b[0m\u001b[1;32m    214\u001b[0m \u001b[0;34m\u001b[0m\u001b[0m\n\u001b[1;32m    215\u001b[0m \u001b[0;32mdef\u001b[0m \u001b[0m_assert_finite\u001b[0m\u001b[0;34m(\u001b[0m\u001b[0;34m*\u001b[0m\u001b[0marrays\u001b[0m\u001b[0;34m)\u001b[0m\u001b[0;34m:\u001b[0m\u001b[0;34m\u001b[0m\u001b[0;34m\u001b[0m\u001b[0m\n",
      "\u001b[0;31mLinAlgError\u001b[0m: Last 2 dimensions of the array must be square"
     ]
    }
   ],
   "source": [
    "u, v = np.dot(np.linalg.inv(R_ws),los)"
   ]
  },
  {
   "cell_type": "code",
   "execution_count": 34,
   "metadata": {},
   "outputs": [
    {
     "ename": "ValueError",
     "evalue": "shapes (2,2,2) and (62,2) not aligned: 2 (dim 2) != 62 (dim 0)",
     "output_type": "error",
     "traceback": [
      "\u001b[0;31m---------------------------------------------------------------------------\u001b[0m",
      "\u001b[0;31mValueError\u001b[0m                                Traceback (most recent call last)",
      "\u001b[0;32m<ipython-input-34-4e8393c65969>\u001b[0m in \u001b[0;36m<module>\u001b[0;34m\u001b[0m\n\u001b[0;32m----> 1\u001b[0;31m \u001b[0mu\u001b[0m\u001b[0;34m,\u001b[0m\u001b[0mv\u001b[0m\u001b[0;34m,\u001b[0m\u001b[0mws\u001b[0m\u001b[0;34m,\u001b[0m\u001b[0mwdir\u001b[0m \u001b[0;34m=\u001b[0m \u001b[0mdd_rc\u001b[0m\u001b[0;34m(\u001b[0m\u001b[0mlos\u001b[0m\u001b[0;34m,\u001b[0m \u001b[0maz\u001b[0m\u001b[0;34m)\u001b[0m\u001b[0;34m\u001b[0m\u001b[0;34m\u001b[0m\u001b[0m\n\u001b[0m",
      "\u001b[0;32m<ipython-input-33-1849823f21e7>\u001b[0m in \u001b[0;36mdd_rc\u001b[0;34m(los, azimuth)\u001b[0m\n\u001b[1;32m     25\u001b[0m                      [np.sin(azimuth[1]), np.cos(azimuth[1])]])\n\u001b[1;32m     26\u001b[0m \u001b[0;34m\u001b[0m\u001b[0m\n\u001b[0;32m---> 27\u001b[0;31m     \u001b[0mu\u001b[0m\u001b[0;34m,\u001b[0m \u001b[0mv\u001b[0m \u001b[0;34m=\u001b[0m \u001b[0mnp\u001b[0m\u001b[0;34m.\u001b[0m\u001b[0mdot\u001b[0m\u001b[0;34m(\u001b[0m\u001b[0mnp\u001b[0m\u001b[0;34m.\u001b[0m\u001b[0mlinalg\u001b[0m\u001b[0;34m.\u001b[0m\u001b[0minv\u001b[0m\u001b[0;34m(\u001b[0m\u001b[0mR_ws\u001b[0m\u001b[0;34m)\u001b[0m\u001b[0;34m,\u001b[0m\u001b[0mlos\u001b[0m\u001b[0;34m)\u001b[0m\u001b[0;34m\u001b[0m\u001b[0;34m\u001b[0m\u001b[0m\n\u001b[0m\u001b[1;32m     28\u001b[0m     \u001b[0mwind_speed\u001b[0m \u001b[0;34m=\u001b[0m \u001b[0mnp\u001b[0m\u001b[0;34m.\u001b[0m\u001b[0msqrt\u001b[0m\u001b[0;34m(\u001b[0m\u001b[0mu\u001b[0m\u001b[0;34m**\u001b[0m\u001b[0;36m2\u001b[0m \u001b[0;34m+\u001b[0m \u001b[0mv\u001b[0m\u001b[0;34m**\u001b[0m\u001b[0;36m2\u001b[0m\u001b[0;34m)\u001b[0m\u001b[0;34m\u001b[0m\u001b[0;34m\u001b[0m\u001b[0m\n\u001b[1;32m     29\u001b[0m \u001b[0;34m\u001b[0m\u001b[0m\n",
      "\u001b[0;32m<__array_function__ internals>\u001b[0m in \u001b[0;36mdot\u001b[0;34m(*args, **kwargs)\u001b[0m\n",
      "\u001b[0;31mValueError\u001b[0m: shapes (2,2,2) and (62,2) not aligned: 2 (dim 2) != 62 (dim 0)"
     ]
    }
   ],
   "source": [
    "u,v,ws,wdir = dd_rc(los, az)"
   ]
  },
  {
   "cell_type": "code",
   "execution_count": 177,
   "metadata": {},
   "outputs": [],
   "source": [
    "def dd_rc(los, azimuth, elevation, ):\n",
    "    \"\"\"Calculates u and v components by using IVAP algo on set of LOS speed\n",
    "    measurements acquired using PPI scans.\n",
    "\n",
    "    Parameters\n",
    "    ----------\n",
    "    los : numpy\n",
    "        Array containing LOS speed measurements\n",
    "    azimuth : numpy\n",
    "        Array containing azimuth angles corresponding to LOS speed measurements\n",
    "\n",
    "    Returns\n",
    "    -------\n",
    "    u : numpy\n",
    "        Array of reconstracted u component of the wind\n",
    "    v : numpy\n",
    "        Array of reconstracted v component of the wind\n",
    "    wind_speed: numpy\n",
    "        Array of reconstracted horizontal wind speed\n",
    "    \"\"\"\n",
    "\n",
    "    azimuth = np.radians(azimuth)\n",
    "\n",
    "    R_ws = np.array([[np.sin(azimuth[0]), np.cos(azimuth[0])],\n",
    "                     [np.sin(azimuth[1]), np.cos(azimuth[1])]])\n",
    "\n",
    "    u, v = np.dot(np.linalg.inv(R_ws),los)\n",
    "    wind_speed = np.sqrt(u**2 + v**2)\n",
    "\n",
    "    wind_direction = (90 - np.degrees(np.arctan2(-v, -u))) % 360\n",
    "\n",
    "    return u, v, wind_speed, wind_direction"
   ]
  },
  {
   "cell_type": "code",
   "execution_count": null,
   "metadata": {},
   "outputs": [],
   "source": [
    "np.arctan2"
   ]
  }
 ],
 "metadata": {
  "kernelspec": {
   "display_name": "Python 3.7.6 64-bit ('mocalum_dev': conda)",
   "language": "python",
   "name": "python37664bitmocalumdevconda9f3d81576f37406bbe9589e581bccc6c"
  },
  "language_info": {
   "codemirror_mode": {
    "name": "ipython",
    "version": 3
   },
   "file_extension": ".py",
   "mimetype": "text/x-python",
   "name": "python",
   "nbconvert_exporter": "python",
   "pygments_lexer": "ipython3",
   "version": "3.7.6"
  }
 },
 "nbformat": 4,
 "nbformat_minor": 4
}
